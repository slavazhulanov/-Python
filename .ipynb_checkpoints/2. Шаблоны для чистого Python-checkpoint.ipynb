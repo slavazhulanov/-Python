{
 "cells": [
  {
   "cell_type": "markdown",
   "id": "7d1f77d5",
   "metadata": {},
   "source": [
    "### 2.1. Прикрой свой з** инструкциями assert"
   ]
  },
  {
   "cell_type": "code",
   "execution_count": 1,
   "id": "31a3e120",
   "metadata": {},
   "outputs": [],
   "source": [
    "def apply_discount(product, discount):\n",
    "    price = int(product['цена'] * (1.0 - discount))\n",
    "    assert 0 <= price <= product['цена']\n",
    "    return price"
   ]
  },
  {
   "cell_type": "code",
   "execution_count": 2,
   "id": "f4c71913",
   "metadata": {},
   "outputs": [],
   "source": [
    "shoes = {'имя': 'Модные туфли', 'цена': 14900}"
   ]
  },
  {
   "cell_type": "code",
   "execution_count": 3,
   "id": "34a5e64c",
   "metadata": {},
   "outputs": [
    {
     "data": {
      "text/plain": [
       "11175"
      ]
     },
     "execution_count": 3,
     "metadata": {},
     "output_type": "execute_result"
    }
   ],
   "source": [
    "apply_discount(shoes, 0.25)"
   ]
  },
  {
   "cell_type": "code",
   "execution_count": 4,
   "id": "a4548d85",
   "metadata": {},
   "outputs": [
    {
     "ename": "AssertionError",
     "evalue": "",
     "output_type": "error",
     "traceback": [
      "\u001b[0;31m---------------------------------------------------------------------------\u001b[0m",
      "\u001b[0;31mAssertionError\u001b[0m                            Traceback (most recent call last)",
      "\u001b[0;32m/var/folders/zz/t0wj_9090rzgb5q9crcqfj5m0000gn/T/ipykernel_3227/678258690.py\u001b[0m in \u001b[0;36m<module>\u001b[0;34m\u001b[0m\n\u001b[0;32m----> 1\u001b[0;31m \u001b[0mapply_discount\u001b[0m\u001b[0;34m(\u001b[0m\u001b[0mshoes\u001b[0m\u001b[0;34m,\u001b[0m \u001b[0;36m2.0\u001b[0m\u001b[0;34m)\u001b[0m\u001b[0;34m\u001b[0m\u001b[0;34m\u001b[0m\u001b[0m\n\u001b[0m",
      "\u001b[0;32m/var/folders/zz/t0wj_9090rzgb5q9crcqfj5m0000gn/T/ipykernel_3227/3761767258.py\u001b[0m in \u001b[0;36mapply_discount\u001b[0;34m(product, discount)\u001b[0m\n\u001b[1;32m      1\u001b[0m \u001b[0;32mdef\u001b[0m \u001b[0mapply_discount\u001b[0m\u001b[0;34m(\u001b[0m\u001b[0mproduct\u001b[0m\u001b[0;34m,\u001b[0m \u001b[0mdiscount\u001b[0m\u001b[0;34m)\u001b[0m\u001b[0;34m:\u001b[0m\u001b[0;34m\u001b[0m\u001b[0;34m\u001b[0m\u001b[0m\n\u001b[1;32m      2\u001b[0m     \u001b[0mprice\u001b[0m \u001b[0;34m=\u001b[0m \u001b[0mint\u001b[0m\u001b[0;34m(\u001b[0m\u001b[0mproduct\u001b[0m\u001b[0;34m[\u001b[0m\u001b[0;34m'цена'\u001b[0m\u001b[0;34m]\u001b[0m \u001b[0;34m*\u001b[0m \u001b[0;34m(\u001b[0m\u001b[0;36m1.0\u001b[0m \u001b[0;34m-\u001b[0m \u001b[0mdiscount\u001b[0m\u001b[0;34m)\u001b[0m\u001b[0;34m)\u001b[0m\u001b[0;34m\u001b[0m\u001b[0;34m\u001b[0m\u001b[0m\n\u001b[0;32m----> 3\u001b[0;31m     \u001b[0;32massert\u001b[0m \u001b[0;36m0\u001b[0m \u001b[0;34m<=\u001b[0m \u001b[0mprice\u001b[0m \u001b[0;34m<=\u001b[0m \u001b[0mproduct\u001b[0m\u001b[0;34m[\u001b[0m\u001b[0;34m'цена'\u001b[0m\u001b[0;34m]\u001b[0m\u001b[0;34m\u001b[0m\u001b[0;34m\u001b[0m\u001b[0m\n\u001b[0m\u001b[1;32m      4\u001b[0m     \u001b[0;32mreturn\u001b[0m \u001b[0mprice\u001b[0m\u001b[0;34m\u001b[0m\u001b[0;34m\u001b[0m\u001b[0m\n",
      "\u001b[0;31mAssertionError\u001b[0m: "
     ]
    }
   ],
   "source": [
    "apply_discount(shoes, 2.0)"
   ]
  },
  {
   "cell_type": "markdown",
   "id": "a383b05b",
   "metadata": {},
   "source": [
    "Ключевые выводы\n",
    "* Инструкция Python assert — это средство отладки, которое проверяет условие, выступающее в качестве внутренней самопроверки вашей программы.\n",
    "* Инструкции assert должны применяться только для того, чтобы по- могать разработчикам идентифицировать ошибки. Они не являются механизмом обработки ошибок периода исполнения программы.\n",
    "* Инструкции assert могут быть глобально отключены в настройках интерпретатора."
   ]
  },
  {
   "cell_type": "markdown",
   "id": "a8f9aaaf",
   "metadata": {},
   "source": [
    "### 2.2. Беспечное размещение запятой"
   ]
  },
  {
   "cell_type": "code",
   "execution_count": 5,
   "id": "9800c746",
   "metadata": {},
   "outputs": [],
   "source": [
    "names = ['Элис', 'Боб', 'Дилберт']"
   ]
  },
  {
   "cell_type": "code",
   "execution_count": 6,
   "id": "84ff77e1",
   "metadata": {},
   "outputs": [],
   "source": [
    "names = [\n",
    "    'Элис',\n",
    "    'Боб',\n",
    "    'Дилберт'\n",
    "]"
   ]
  },
  {
   "cell_type": "code",
   "execution_count": 7,
   "id": "456b2a90",
   "metadata": {},
   "outputs": [],
   "source": [
    "names = [\n",
    "    'Элис',\n",
    "    'Боб',\n",
    "    'Дилберт',\n",
    "]"
   ]
  },
  {
   "cell_type": "markdown",
   "id": "e5546628",
   "metadata": {},
   "source": [
    "Ключевые выводы\n",
    "* Продуманное форматирование и размещение запятой может упростить обслуживание ваших констант списка, словаря или множества.\n",
    "* Конкатенация строковых литералов как функциональное средство Python может работать как на вас, так и против, внося в код трудноот- лавливаемые ошибки."
   ]
  },
  {
   "cell_type": "markdown",
   "id": "3d8cc214",
   "metadata": {},
   "source": [
    "### 2.3. Менеджеры контекста и инструкция with"
   ]
  },
  {
   "cell_type": "code",
   "execution_count": 8,
   "id": "c3ad7c58",
   "metadata": {},
   "outputs": [],
   "source": [
    "class ManagedFile:\n",
    "    def __init__(self, name):\n",
    "        self.name = name\n",
    "    def __enter__(self):\n",
    "        self.file = open(self.name, 'w')\n",
    "        return self.file\n",
    "    def __exit__(self, exc_type, exc_val, exc_tb):\n",
    "        if self.file:\n",
    "            self.file.close()"
   ]
  },
  {
   "cell_type": "code",
   "execution_count": 9,
   "id": "eb00d869",
   "metadata": {},
   "outputs": [],
   "source": [
    "with ManagedFile('hello.txt') as f:\n",
    "    f.write('привет, мир!')\n",
    "    f.write('а теперь, пока!')"
   ]
  },
  {
   "cell_type": "markdown",
   "id": "cc1e1e0f",
   "metadata": {},
   "source": [
    "Ключевые выводы\n",
    "* Инструкция with упрощает обработку исключений путем инкапсуля- ции стандартных случаев применения инструкций try/finally в так называемые менеджеры контекста.\n",
    "* Чаще всего менеджер контекста используется для управления без- опасным получением и высвобождением системных ресурсов. Ресурсы выделяются при помощи инструкции with и высвобождаются автома- тически, когда поток исполнения покидает контекст with.\n",
    "* Эффективное применение инструкции with помогает избежать утечки ресурсов и облегчает ее восприятие.\n"
   ]
  },
  {
   "cell_type": "markdown",
   "id": "dfcba6b4-bb8c-4138-aab1-e1ff33717a37",
   "metadata": {},
   "source": [
    "### 2.4. Подчеркивания, дандеры и другое"
   ]
  },
  {
   "cell_type": "markdown",
   "id": "2e8f957f-73fe-4cb9-bb61-08465f09ec2e",
   "metadata": {},
   "source": [
    "У символов одинарного и двойного подчеркивания в Python есть осо- бый смысл в именах переменных и методов. Отчасти этот смысл суще- ствует исключительно по договоренности и предназначен в качестве подсказки программисту — и частично он обеспечивается интерпрета- тором Python.\n",
    "Если вам интересно, каков смысл символов одинарного и двойного под- черкивания в именах переменных и методов, то здесь я приложу все уси- лия, чтобы ответить на ваш вопрос. В этом разделе мы обсудим следующие ниже шаблоны подчеркивания и согласованные правила именования и то, как они влияют на поведение ваших программ Python: \n",
    "* Одинарный начальный символ подчеркивания: _var.\n",
    "* Одинарный замыкающий символ подчркивания: var_.\n",
    "* Двойной начальный символ подчеркивания: __var.\n",
    "* Двойной начальный и замыкающий символ подчеркивания: __var__.\n",
    "* Одинарный символ подчеркивания: _."
   ]
  },
  {
   "cell_type": "markdown",
   "id": "ca8d2dda-12ca-4dba-82a0-9fe8b298bbb9",
   "metadata": {},
   "source": [
    "### 1 . Одинарный начальный символ подчеркивания: _var"
   ]
  },
  {
   "cell_type": "markdown",
   "id": "330be440-b3bf-480c-b328-38ef12bf8815",
   "metadata": {},
   "source": [
    "Префикс, состоящий из символа подчеркивания, подразумевается как подсказка, которая должна сообщить другому программисту, что пере- менная или метод, начинающиеся с одинарного символа подчеркивания, предназначаются для внутреннего пользования. Эта договоренность определена в PEP 8, руководстве по стилю оформления наиболее широко применяемого исходного кода Python1."
   ]
  },
  {
   "cell_type": "code",
   "execution_count": 2,
   "id": "18d3d950-6618-46f8-85e5-65eaa5ed2bdf",
   "metadata": {},
   "outputs": [],
   "source": [
    "class Test:\n",
    "    def __init__(self):\n",
    "        self.foo = 11\n",
    "        self._bar = 23"
   ]
  },
  {
   "cell_type": "code",
   "execution_count": 3,
   "id": "1cc1d2e4-e506-4c55-8c74-53e86f8c6cd6",
   "metadata": {},
   "outputs": [],
   "source": [
    "t = Test()"
   ]
  },
  {
   "cell_type": "code",
   "execution_count": 4,
   "id": "485dcf46-2a7e-4ce7-8488-0bafbd818342",
   "metadata": {},
   "outputs": [
    {
     "data": {
      "text/plain": [
       "11"
      ]
     },
     "execution_count": 4,
     "metadata": {},
     "output_type": "execute_result"
    }
   ],
   "source": [
    "t.foo"
   ]
  },
  {
   "cell_type": "code",
   "execution_count": 5,
   "id": "50cd3e0f-e305-4be4-8339-616b5e67f902",
   "metadata": {},
   "outputs": [
    {
     "data": {
      "text/plain": [
       "23"
      ]
     },
     "execution_count": 5,
     "metadata": {},
     "output_type": "execute_result"
    }
   ],
   "source": [
    "t._bar"
   ]
  },
  {
   "cell_type": "markdown",
   "id": "f5601967-97bf-4aea-baa7-5f4bf06ff178",
   "metadata": {},
   "source": [
    "Как видите, одинарный начальный символ подчеркивания в _bar не поме- шал нам «залезть» в класс и получить доступ к значению этой переменной.\n"
   ]
  },
  {
   "cell_type": "markdown",
   "id": "1e1e455f-86b3-4260-913c-66f32143a187",
   "metadata": {},
   "source": [
    "Одинарные символы подчеркивания являются в Python согласованным правилом именования, которое говорит о том, что то или иное имя пред- назначается для внутреннего использования . Это договорное правило обычно интерпретатором Python не обеспечивается и предназначено для программиста только в качестве подсказки ."
   ]
  },
  {
   "cell_type": "markdown",
   "id": "e4d3a311-00b9-4190-8540-a92a531c6f86",
   "metadata": {},
   "source": [
    "### 2 . Одинарный замыкающий символ подчеркивания: var_"
   ]
  },
  {
   "cell_type": "markdown",
   "id": "b15ed4dd-8f96-4dc3-be24-5d6c0cc58c7a",
   "metadata": {},
   "source": [
    "Иногда самое подходящее имя переменной уже занято ключевым словом языка Python. По этой причине такие имена, как class или def, в Python нельзя использовать в качестве имен переменных. В этом случае можно в конец имени добавить символ одинарного подчеркивания, чтобы из- бежать конфликта из-за совпадения имен:"
   ]
  },
  {
   "cell_type": "markdown",
   "id": "7328a4d5-cb04-410b-8f13-09901f6b5138",
   "metadata": {},
   "source": [
    "\n",
    "В общих чертах, замыкающий одинарный символ подчеркивания (пост- фикс) используется по договоренности, чтобы избежать конфликтов из- за совпадения имен с ключевыми словами Python. Эта договоренность определена и объяснена в PEP 8."
   ]
  },
  {
   "cell_type": "markdown",
   "id": "5c007275-0883-46de-bc3f-8f5263a5b349",
   "metadata": {},
   "source": [
    "### 3 . Двойной начальный символ подчеркивания: __var"
   ]
  },
  {
   "cell_type": "markdown",
   "id": "9f43450a-3e3b-45dc-9434-040061bce97e",
   "metadata": {},
   "source": [
    "Шаблоны именования, которые мы рассмотрели к этому моменту, по- лучают свой смысл только из согласованной договоренности. В случае атрибутов (переменных и методов) класса Python, которые начинаются с двойных символов подчеркивания, все немного по-другому.\n",
    "Префикс, состоящий из двойного символа подчеркивания, заставляет интерпретатор Python переписывать имя атрибута для того, чтобы в под- классах избежать конфликтов из-за совпадения имен.\n",
    "Такое переписывание также называется искажением имени (name mangling) — интерпретатор преобразует имя переменной таким образом, что становится сложнее создать конфликты, когда позже класс будет расширен.\n",
    "Я знаю, звучит довольно абстрактно. Вот почему я подобрал этот неболь- шой пример кода, который мы сможем использовать для эксперименти- рования:"
   ]
  },
  {
   "cell_type": "code",
   "execution_count": 6,
   "id": "011868cc-64c8-4d62-8821-3da53adec9d4",
   "metadata": {},
   "outputs": [],
   "source": [
    "class Test:\n",
    "    def __init__(self):\n",
    "        self.foo = 11\n",
    "        self._bar = 23\n",
    "        self.__baz = 23"
   ]
  },
  {
   "cell_type": "markdown",
   "id": "690525b2-e1cb-4040-abec-14f360e0fb83",
   "metadata": {},
   "source": [
    "Давайте взглянем на атрибуты объекта, использовав встроенную функ- цию dir():"
   ]
  },
  {
   "cell_type": "code",
   "execution_count": 7,
   "id": "580f19c2-3212-446c-ac4f-4400b7d91b18",
   "metadata": {},
   "outputs": [],
   "source": [
    "t = Test()"
   ]
  },
  {
   "cell_type": "code",
   "execution_count": 8,
   "id": "2f781ec5-59cd-4b5b-9ce0-7bf73bad6bc7",
   "metadata": {},
   "outputs": [
    {
     "data": {
      "text/plain": [
       "['_Test__baz',\n",
       " '__class__',\n",
       " '__delattr__',\n",
       " '__dict__',\n",
       " '__dir__',\n",
       " '__doc__',\n",
       " '__eq__',\n",
       " '__format__',\n",
       " '__ge__',\n",
       " '__getattribute__',\n",
       " '__gt__',\n",
       " '__hash__',\n",
       " '__init__',\n",
       " '__init_subclass__',\n",
       " '__le__',\n",
       " '__lt__',\n",
       " '__module__',\n",
       " '__ne__',\n",
       " '__new__',\n",
       " '__reduce__',\n",
       " '__reduce_ex__',\n",
       " '__repr__',\n",
       " '__setattr__',\n",
       " '__sizeof__',\n",
       " '__str__',\n",
       " '__subclasshook__',\n",
       " '__weakref__',\n",
       " '_bar',\n",
       " 'foo']"
      ]
     },
     "execution_count": 8,
     "metadata": {},
     "output_type": "execute_result"
    }
   ],
   "source": [
    "dir(t)"
   ]
  },
  {
   "cell_type": "markdown",
   "id": "551c9c0e-3128-454c-8241-12eec6c79cea",
   "metadata": {},
   "source": [
    "Результат показывает список с атрибутами объекта. Давайте возьмем этот список и отыщем наши первоначальные имена переменных foo, _bar, и __baz. Обещаю, вы обнаружите несколько интересных изменений.\n",
    "Прежде всего, в списке атрибутов переменная self.foo появляется неиз- мененной как foo.\n",
    "Далее, self._bar ведет себя таким же образом — она обнаруживается в классе как _bar. Как уже было отмечено, в данном случае начальный символ подчеркивания — это просто договоренность, подсказка про- граммисту.\n",
    "Однако с атрибутом self.__baz все выглядит немного по-другому. Когда вы попытаетесь отыскать в списке атрибут __baz, вы увидите, что пере- менной с таким именем там нет.\n",
    "Так что же произошло с __baz?\n",
    "Если вы приглядитесь, то увидите, что в этом объекте имеется атрибут с именем _Test__baz. Это и есть искажение имени, которое применяет интерпретатор Python. Это делается, чтобы защитить переменную от переопределения в подклассах.\n",
    "Давайте создадим еще один класс, который расширяет класс Test и пы- тается переопределить его существующие атрибуты, добавленные в кон- структоре:"
   ]
  },
  {
   "cell_type": "code",
   "execution_count": 9,
   "id": "0e9e2225-b73f-4316-beaa-3c64967aadca",
   "metadata": {},
   "outputs": [],
   "source": [
    "class ExtendedTest(Test):\n",
    "    def __init__(self):\n",
    "        super().__init__()\n",
    "        self.foo = 'переопределено'\n",
    "        self._bar = 'переопределено'\n",
    "        self.__baz = 'переопределено'"
   ]
  },
  {
   "cell_type": "markdown",
   "id": "4c5a122b-2fc2-41ef-a1ef-9ad80cec295a",
   "metadata": {},
   "source": [
    "Итак, какими, по вашему мнению, будут значения foo, _bar и __baz в эк-\n",
    "земплярах класса ExtendedTest? Давайте посмотрим:"
   ]
  },
  {
   "cell_type": "code",
   "execution_count": 10,
   "id": "90948eda-6b8d-440d-b5e4-a0ddb9667ad0",
   "metadata": {},
   "outputs": [],
   "source": [
    "t2 = ExtendedTest()"
   ]
  },
  {
   "cell_type": "code",
   "execution_count": 11,
   "id": "b3dac3ab-520d-49c0-949e-0ef506b131db",
   "metadata": {
    "jp-MarkdownHeadingCollapsed": true,
    "tags": []
   },
   "outputs": [
    {
     "data": {
      "text/plain": [
       "'переопределено'"
      ]
     },
     "execution_count": 11,
     "metadata": {},
     "output_type": "execute_result"
    }
   ],
   "source": [
    "t2.foo"
   ]
  },
  {
   "cell_type": "code",
   "execution_count": 12,
   "id": "a7d9f93f-1cad-4376-aded-5eb8fa0fae7c",
   "metadata": {},
   "outputs": [
    {
     "data": {
      "text/plain": [
       "'переопределено'"
      ]
     },
     "execution_count": 12,
     "metadata": {},
     "output_type": "execute_result"
    }
   ],
   "source": [
    "t2._bar"
   ]
  },
  {
   "cell_type": "code",
   "execution_count": 13,
   "id": "9bf64899-ccaa-440b-b58e-1a655c407d7a",
   "metadata": {},
   "outputs": [
    {
     "ename": "AttributeError",
     "evalue": "'ExtendedTest' object has no attribute '__baz'",
     "output_type": "error",
     "traceback": [
      "\u001b[0;31m---------------------------------------------------------------------------\u001b[0m",
      "\u001b[0;31mAttributeError\u001b[0m                            Traceback (most recent call last)",
      "\u001b[0;32m/var/folders/zz/t0wj_9090rzgb5q9crcqfj5m0000gn/T/ipykernel_1986/3261563431.py\u001b[0m in \u001b[0;36m<module>\u001b[0;34m\u001b[0m\n\u001b[0;32m----> 1\u001b[0;31m \u001b[0mt2\u001b[0m\u001b[0;34m.\u001b[0m\u001b[0m__baz\u001b[0m\u001b[0;34m\u001b[0m\u001b[0;34m\u001b[0m\u001b[0m\n\u001b[0m",
      "\u001b[0;31mAttributeError\u001b[0m: 'ExtendedTest' object has no attribute '__baz'"
     ]
    }
   ],
   "source": [
    "t2.__baz"
   ]
  },
  {
   "cell_type": "code",
   "execution_count": 14,
   "id": "09af5fa8-b61b-47b5-a3ae-eec7aa652561",
   "metadata": {},
   "outputs": [
    {
     "data": {
      "text/plain": [
       "['_ExtendedTest__baz',\n",
       " '_Test__baz',\n",
       " '__class__',\n",
       " '__delattr__',\n",
       " '__dict__',\n",
       " '__dir__',\n",
       " '__doc__',\n",
       " '__eq__',\n",
       " '__format__',\n",
       " '__ge__',\n",
       " '__getattribute__',\n",
       " '__gt__',\n",
       " '__hash__',\n",
       " '__init__',\n",
       " '__init_subclass__',\n",
       " '__le__',\n",
       " '__lt__',\n",
       " '__module__',\n",
       " '__ne__',\n",
       " '__new__',\n",
       " '__reduce__',\n",
       " '__reduce_ex__',\n",
       " '__repr__',\n",
       " '__setattr__',\n",
       " '__sizeof__',\n",
       " '__str__',\n",
       " '__subclasshook__',\n",
       " '__weakref__',\n",
       " '_bar',\n",
       " 'foo']"
      ]
     },
     "execution_count": 14,
     "metadata": {},
     "output_type": "execute_result"
    }
   ],
   "source": [
    "dir(t2)"
   ]
  },
  {
   "cell_type": "markdown",
   "id": "d35b1e27-dd89-4216-b23e-ca232ac2d901",
   "metadata": {},
   "source": [
    "Как видите, имя __baz превратилось в _ExtendedTest__baz, чтобы предот- вратить случайное изменение. Но первоначальное имя _Test__baz по- прежнему на месте:"
   ]
  },
  {
   "cell_type": "code",
   "execution_count": 15,
   "id": "1a826215-c4ed-4434-a77c-70504e27f754",
   "metadata": {},
   "outputs": [
    {
     "data": {
      "text/plain": [
       "'переопределено'"
      ]
     },
     "execution_count": 15,
     "metadata": {},
     "output_type": "execute_result"
    }
   ],
   "source": [
    "t2._ExtendedTest__baz"
   ]
  },
  {
   "cell_type": "code",
   "execution_count": 16,
   "id": "0faf6932-cda6-41c5-9fac-da95f7ea3190",
   "metadata": {},
   "outputs": [
    {
     "data": {
      "text/plain": [
       "23"
      ]
     },
     "execution_count": 16,
     "metadata": {},
     "output_type": "execute_result"
    }
   ],
   "source": [
    "t2._Test__baz"
   ]
  },
  {
   "cell_type": "markdown",
   "id": "aba72812-d59d-47dc-9b94-564891e2f771",
   "metadata": {},
   "source": [
    "Искажение имени с двойным символом подчеркивания для программи- ста совершенно очевидно. Взгляните на следующий пример, который это подтверждает:"
   ]
  },
  {
   "cell_type": "code",
   "execution_count": 17,
   "id": "929206ea-2f79-43f3-a346-cdc92679bf12",
   "metadata": {},
   "outputs": [],
   "source": [
    "class ManglingTest:\n",
    "    def __init__(self):\n",
    "        self.__mangled = 'Привет'\n",
    "        \n",
    "    def get_mangled(self):\n",
    "         return self.__mangled"
   ]
  },
  {
   "cell_type": "code",
   "execution_count": null,
   "id": "00ce4b6b-b624-4f2c-8cdb-643074e7983d",
   "metadata": {},
   "outputs": [],
   "source": []
  }
 ],
 "metadata": {
  "kernelspec": {
   "display_name": "Python 3 (ipykernel)",
   "language": "python",
   "name": "python3"
  },
  "language_info": {
   "codemirror_mode": {
    "name": "ipython",
    "version": 3
   },
   "file_extension": ".py",
   "mimetype": "text/x-python",
   "name": "python",
   "nbconvert_exporter": "python",
   "pygments_lexer": "ipython3",
   "version": "3.9.13"
  }
 },
 "nbformat": 4,
 "nbformat_minor": 5
}
