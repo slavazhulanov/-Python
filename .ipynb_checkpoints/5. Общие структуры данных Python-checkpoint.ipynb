{
 "cells": [
  {
   "cell_type": "markdown",
   "id": "95feabd0-e40e-45fc-8bd2-0e8a3573a4f2",
   "metadata": {},
   "source": [
    "### dict — ваш дежурный словарь\n",
    "\n",
    "Из-за своей важности Python содержит надежную реализацию словаря, которая встроена непосредственно в ядро языка: тип данных dict1.\n",
    "\n",
    "Для работы со словарями в своих программах Python также предостав- ляет немного полезного «синтаксического сахара». Например, синтаксис выражения с фигурными скобками для словаря и конструкция включения в словарь позволяют удобно определять новые объекты-словари:\n"
   ]
  },
  {
   "cell_type": "code",
   "execution_count": 1,
   "id": "f38135eb-4a1f-4454-9cba-842eff4a211b",
   "metadata": {},
   "outputs": [],
   "source": [
    "phonebook = {\n",
    "     'боб': 7387,\n",
    "     'элис': 3719,\n",
    "     'джек': 7052,\n",
    "}"
   ]
  },
  {
   "cell_type": "code",
   "execution_count": 2,
   "id": "30fd9906-842f-4ea4-b20b-4a898eb7b117",
   "metadata": {},
   "outputs": [],
   "source": [
    "squares = {x: x * x for x in range(6)}"
   ]
  },
  {
   "cell_type": "code",
   "execution_count": 3,
   "id": "f6cc48ae-537b-44b4-b0e7-c2c7d596176b",
   "metadata": {},
   "outputs": [
    {
     "data": {
      "text/plain": [
       "3719"
      ]
     },
     "execution_count": 3,
     "metadata": {},
     "output_type": "execute_result"
    }
   ],
   "source": [
    "phonebook['элис']"
   ]
  },
  {
   "cell_type": "code",
   "execution_count": 4,
   "id": "3de80495-9af6-43b0-a38f-849beab413c0",
   "metadata": {},
   "outputs": [
    {
     "data": {
      "text/plain": [
       "{0: 0, 1: 1, 2: 4, 3: 9, 4: 16, 5: 25}"
      ]
     },
     "execution_count": 4,
     "metadata": {},
     "output_type": "execute_result"
    }
   ],
   "source": [
    "squares"
   ]
  },
  {
   "cell_type": "markdown",
   "id": "513de0cd-4ce8-4f10-ac82-4bfda6fb22f9",
   "metadata": {},
   "source": [
    "Есть некоторые ограничения относительно того, какие объекты могут использоваться в качестве допустимых ключей.\n",
    "\n",
    "Словари Python индексируются ключами, у которых может быть любой хешируемый тип2: хешируемый объект имеет хеш-значение, которое никогда не меняется в течение его жизни (см. __hash__), и его можно сравнивать с другими объектами (см. __eq__). Кроме того, эквивалентные друг другу хешируемые объекты должны иметь одинаковое хеш-значение.\n",
    "\n",
    "Неизменяемые типы, такие как строковые значение и числа, являются хешируемыми объектами и хорошо работают в качестве ключей словаря. В качестве ключей словаря также можно использовать объекты-корте- жи — при условии, что они сами содержат только хешируемые типы.\n",
    "\n",
    "Для большинства вариантов использования встроенная в Python реали- зация словаря делает все, что вам нужно. Словари хорошо оптимизирова- ны и лежат в основе многих частей языка: например, и атрибуты класса, и переменные в стековом фрейме во внутреннем представлении хранятся в словарях.\n",
    "\n",
    "Словари Python основаны на хорошо протестированной и тонко на- строенной реализации хеш-таблицы, которая обеспечивает ожидаемые характеристики производительности с временной сложностью O(1) для операций поиска, вставки, обновления и удаления в среднем случае.\n",
    "\n",
    "Нет особых причин не использовать стандартную реализацию dict, вклю- ченную в Python. Тем не менее существуют специализированные сторон- ние реализации словаря, например списки с пропусками или словари на основе B-деревьев.\n",
    "\n",
    "Помимо «обыкновенных» объектов dict, стандартная библиотека Python также содержит ряд реализаций специализированных словарей. Все эти специализированные словари опираются на встроенный класс словаря (и обладают его характеристиками производительности), но помимо этого еще добавляют некоторые удобные свойства.\n",
    "\n",
    "Давайте их рассмотрим.\n",
    "\n",
    "### collections .OrderedDict — помнят порядок вставки ключей\n",
    "\n",
    "В Python включен специализированный подкласс dict, который за- поминает порядок вставки добавляемых в него ключей: collections. OrderedDict1.\n",
    "\n",
    "Хотя в Python 3.6 и выше стандартные экземпляры dict сохраняют по- рядок вставки ключей, такое поведение является всего лишь побочным эффектом реализации в Python и не определяется спецификацией языка2. Поэтому, если для работы вашего алгоритма порядок следования ключей имеет значение, лучше всего четко донести эту идею, задействовав класс\n",
    "OrderDict явным образом.\n",
    "\n",
    "Между прочим, OrderedDict не является встроенной составной частью базового языка и должен быть импортирован из модуля collections, на- ходящегося в стандартной библиотеке.\n"
   ]
  },
  {
   "cell_type": "code",
   "execution_count": 5,
   "id": "bfd361a4-d527-40dc-a28c-d13d1870083c",
   "metadata": {},
   "outputs": [],
   "source": [
    "import collections"
   ]
  },
  {
   "cell_type": "code",
   "execution_count": 6,
   "id": "08b8a3bf-ef83-41ec-a44b-948c5fc1b87b",
   "metadata": {},
   "outputs": [],
   "source": [
    "d = collections.OrderedDict(one=1, two=2, three=3)"
   ]
  },
  {
   "cell_type": "code",
   "execution_count": 7,
   "id": "595fa605-e381-44b0-9b1d-4f70a511f677",
   "metadata": {},
   "outputs": [
    {
     "data": {
      "text/plain": [
       "OrderedDict([('one', 1), ('two', 2), ('three', 3)])"
      ]
     },
     "execution_count": 7,
     "metadata": {},
     "output_type": "execute_result"
    }
   ],
   "source": [
    "d"
   ]
  },
  {
   "cell_type": "code",
   "execution_count": 8,
   "id": "ae4dcb00-4439-446f-b341-d476d7c4b026",
   "metadata": {},
   "outputs": [],
   "source": [
    "d['four'] = 4"
   ]
  },
  {
   "cell_type": "code",
   "execution_count": 9,
   "id": "f7e1a5ef-f468-44e5-ba2b-ab38069e60d4",
   "metadata": {},
   "outputs": [
    {
     "data": {
      "text/plain": [
       "OrderedDict([('one', 1), ('two', 2), ('three', 3), ('four', 4)])"
      ]
     },
     "execution_count": 9,
     "metadata": {},
     "output_type": "execute_result"
    }
   ],
   "source": [
    "d"
   ]
  },
  {
   "cell_type": "code",
   "execution_count": 10,
   "id": "ab376b71-d1ea-41ee-b7a1-64a1cb8e7ff2",
   "metadata": {},
   "outputs": [
    {
     "data": {
      "text/plain": [
       "odict_keys(['one', 'two', 'three', 'four'])"
      ]
     },
     "execution_count": 10,
     "metadata": {},
     "output_type": "execute_result"
    }
   ],
   "source": [
    "d.keys()"
   ]
  },
  {
   "cell_type": "markdown",
   "id": "c237ae6d-295d-43cc-b51f-f0169b7ed32f",
   "metadata": {},
   "source": [
    "### collections .defaultdict — возвращает значения, заданные по умолчанию для отсутствующих ключей\n",
    "\n",
    "Класс defaultdict — это еще один подкласс словаря, который в своем конструкторе принимает вызываемый объект, возвращаемое значение которого будет использовано, если требуемый ключ нельзя найти1.\n",
    "\n",
    "Это свойство может сэкономить на наборе кода и сделать замысел про- граммиста яснее в сравнении с использованием методов get() или от- лавливанием исключения KeyError в обычных словарях."
   ]
  },
  {
   "cell_type": "code",
   "execution_count": 11,
   "id": "4f3ccd97-9735-47ee-9a8b-74f56215b61a",
   "metadata": {},
   "outputs": [],
   "source": [
    "from collections import defaultdict"
   ]
  },
  {
   "cell_type": "code",
   "execution_count": 12,
   "id": "68e07f6e-1c17-4c8d-a933-cf71e82dd6dc",
   "metadata": {},
   "outputs": [],
   "source": [
    "dd = defaultdict(list)"
   ]
  },
  {
   "cell_type": "code",
   "execution_count": 14,
   "id": "d66c3064-11a1-474a-aa92-0d74cd080895",
   "metadata": {},
   "outputs": [],
   "source": [
    "# Попытка доступа к отсутствующему ключу его создает и\n",
    "# инициализирует, используя принятую по умолчанию фабрику, \n",
    "# то есть в данном примере list():"
   ]
  },
  {
   "cell_type": "code",
   "execution_count": 15,
   "id": "bd29ab31-4a8d-40df-89e8-9563c4582169",
   "metadata": {},
   "outputs": [],
   "source": [
    "dd['собаки'].append('Руфус')"
   ]
  },
  {
   "cell_type": "code",
   "execution_count": 16,
   "id": "fa74529c-6424-4409-9ada-ea18f194776c",
   "metadata": {},
   "outputs": [],
   "source": [
    "dd['собаки'].append('Кэтрин')"
   ]
  },
  {
   "cell_type": "code",
   "execution_count": 17,
   "id": "38dd107e-226c-43c0-aeab-6b9e0559dc8e",
   "metadata": {},
   "outputs": [],
   "source": [
    "dd['собаки'].append('Сниф')"
   ]
  },
  {
   "cell_type": "code",
   "execution_count": 18,
   "id": "9bcba07e-6472-4154-8819-22fe0e2de2ea",
   "metadata": {},
   "outputs": [
    {
     "data": {
      "text/plain": [
       "['Руфус', 'Кэтрин', 'Сниф']"
      ]
     },
     "execution_count": 18,
     "metadata": {},
     "output_type": "execute_result"
    }
   ],
   "source": [
    "dd['собаки']"
   ]
  },
  {
   "cell_type": "markdown",
   "id": "d0ef79b8-05d9-49bf-959b-ac8c5b933926",
   "metadata": {},
   "source": [
    "### collections .ChainMap — производит поиск в многочисленных словарях как в одной таблице соответствия\n",
    "\n",
    "Структура данных collections.ChainMap группирует многочисленные словари в одну таблицу соответствия1. Поиск проводится по очереди во всех базовых ассоциативных объектах до тех пор, пока ключ не будет найден. Операции вставки, обновления и удаления затрагивают только первую таблицу соответствия, добавленную в цепочку."
   ]
  },
  {
   "cell_type": "code",
   "execution_count": 19,
   "id": "7a62a583-5ee8-4c5c-9837-085ca3434ee2",
   "metadata": {},
   "outputs": [],
   "source": [
    "from collections import ChainMap"
   ]
  },
  {
   "cell_type": "code",
   "execution_count": 20,
   "id": "8cf2f2b0-7103-4e3e-b18f-f5a040984920",
   "metadata": {},
   "outputs": [],
   "source": [
    "dict1 = {'один': 1, 'два': 2}"
   ]
  },
  {
   "cell_type": "code",
   "execution_count": 21,
   "id": "3e8818f5-58f7-4efb-85b9-180ddb01bb3a",
   "metadata": {},
   "outputs": [],
   "source": [
    "dict2 = {'три': 3, 'четыре': 4}"
   ]
  },
  {
   "cell_type": "code",
   "execution_count": 22,
   "id": "3e895c78-1f54-4a84-a3ae-6b10f2e77b21",
   "metadata": {},
   "outputs": [],
   "source": [
    "chain = ChainMap(dict1, dict2)"
   ]
  },
  {
   "cell_type": "code",
   "execution_count": 23,
   "id": "2ce55081-ae77-4938-af90-8819c3bdb43e",
   "metadata": {},
   "outputs": [
    {
     "data": {
      "text/plain": [
       "ChainMap({'один': 1, 'два': 2}, {'три': 3, 'четыре': 4})"
      ]
     },
     "execution_count": 23,
     "metadata": {},
     "output_type": "execute_result"
    }
   ],
   "source": [
    "chain"
   ]
  },
  {
   "cell_type": "code",
   "execution_count": 24,
   "id": "d1ef7fa6-0b12-46be-be66-b23374d6095c",
   "metadata": {},
   "outputs": [],
   "source": [
    "# ChainMap выполняет поиск в каждой коллекции в цепочке\n",
    "# слева направо, пока не найдет ключ (или не потерпит неудачу):"
   ]
  },
  {
   "cell_type": "code",
   "execution_count": 25,
   "id": "162bfaf1-56d2-449a-9d9b-ba096eb68c3d",
   "metadata": {},
   "outputs": [
    {
     "data": {
      "text/plain": [
       "3"
      ]
     },
     "execution_count": 25,
     "metadata": {},
     "output_type": "execute_result"
    }
   ],
   "source": [
    "chain['три']"
   ]
  },
  {
   "cell_type": "code",
   "execution_count": 26,
   "id": "0ae7b4cf-2b2a-494e-9d12-52319f2df26b",
   "metadata": {},
   "outputs": [
    {
     "data": {
      "text/plain": [
       "1"
      ]
     },
     "execution_count": 26,
     "metadata": {},
     "output_type": "execute_result"
    }
   ],
   "source": [
    "chain['один']"
   ]
  },
  {
   "cell_type": "code",
   "execution_count": 27,
   "id": "5e2a9ca0-d4c8-4c94-995a-57fff3b333fc",
   "metadata": {},
   "outputs": [
    {
     "ename": "KeyError",
     "evalue": "'отсутствует'",
     "output_type": "error",
     "traceback": [
      "\u001b[0;31m---------------------------------------------------------------------------\u001b[0m",
      "\u001b[0;31mKeyError\u001b[0m                                  Traceback (most recent call last)",
      "\u001b[0;32m/var/folders/zz/t0wj_9090rzgb5q9crcqfj5m0000gn/T/ipykernel_1954/97318769.py\u001b[0m in \u001b[0;36m<module>\u001b[0;34m\u001b[0m\n\u001b[0;32m----> 1\u001b[0;31m \u001b[0mchain\u001b[0m\u001b[0;34m[\u001b[0m\u001b[0;34m'отсутствует'\u001b[0m\u001b[0;34m]\u001b[0m\u001b[0;34m\u001b[0m\u001b[0;34m\u001b[0m\u001b[0m\n\u001b[0m",
      "\u001b[0;32m/opt/anaconda3/lib/python3.9/collections/__init__.py\u001b[0m in \u001b[0;36m__getitem__\u001b[0;34m(self, key)\u001b[0m\n\u001b[1;32m    939\u001b[0m             \u001b[0;32mexcept\u001b[0m \u001b[0mKeyError\u001b[0m\u001b[0;34m:\u001b[0m\u001b[0;34m\u001b[0m\u001b[0;34m\u001b[0m\u001b[0m\n\u001b[1;32m    940\u001b[0m                 \u001b[0;32mpass\u001b[0m\u001b[0;34m\u001b[0m\u001b[0;34m\u001b[0m\u001b[0m\n\u001b[0;32m--> 941\u001b[0;31m         \u001b[0;32mreturn\u001b[0m \u001b[0mself\u001b[0m\u001b[0;34m.\u001b[0m\u001b[0m__missing__\u001b[0m\u001b[0;34m(\u001b[0m\u001b[0mkey\u001b[0m\u001b[0;34m)\u001b[0m            \u001b[0;31m# support subclasses that define __missing__\u001b[0m\u001b[0;34m\u001b[0m\u001b[0;34m\u001b[0m\u001b[0m\n\u001b[0m\u001b[1;32m    942\u001b[0m \u001b[0;34m\u001b[0m\u001b[0m\n\u001b[1;32m    943\u001b[0m     \u001b[0;32mdef\u001b[0m \u001b[0mget\u001b[0m\u001b[0;34m(\u001b[0m\u001b[0mself\u001b[0m\u001b[0;34m,\u001b[0m \u001b[0mkey\u001b[0m\u001b[0;34m,\u001b[0m \u001b[0mdefault\u001b[0m\u001b[0;34m=\u001b[0m\u001b[0;32mNone\u001b[0m\u001b[0;34m)\u001b[0m\u001b[0;34m:\u001b[0m\u001b[0;34m\u001b[0m\u001b[0;34m\u001b[0m\u001b[0m\n",
      "\u001b[0;32m/opt/anaconda3/lib/python3.9/collections/__init__.py\u001b[0m in \u001b[0;36m__missing__\u001b[0;34m(self, key)\u001b[0m\n\u001b[1;32m    931\u001b[0m \u001b[0;34m\u001b[0m\u001b[0m\n\u001b[1;32m    932\u001b[0m     \u001b[0;32mdef\u001b[0m \u001b[0m__missing__\u001b[0m\u001b[0;34m(\u001b[0m\u001b[0mself\u001b[0m\u001b[0;34m,\u001b[0m \u001b[0mkey\u001b[0m\u001b[0;34m)\u001b[0m\u001b[0;34m:\u001b[0m\u001b[0;34m\u001b[0m\u001b[0;34m\u001b[0m\u001b[0m\n\u001b[0;32m--> 933\u001b[0;31m         \u001b[0;32mraise\u001b[0m \u001b[0mKeyError\u001b[0m\u001b[0;34m(\u001b[0m\u001b[0mkey\u001b[0m\u001b[0;34m)\u001b[0m\u001b[0;34m\u001b[0m\u001b[0;34m\u001b[0m\u001b[0m\n\u001b[0m\u001b[1;32m    934\u001b[0m \u001b[0;34m\u001b[0m\u001b[0m\n\u001b[1;32m    935\u001b[0m     \u001b[0;32mdef\u001b[0m \u001b[0m__getitem__\u001b[0m\u001b[0;34m(\u001b[0m\u001b[0mself\u001b[0m\u001b[0;34m,\u001b[0m \u001b[0mkey\u001b[0m\u001b[0;34m)\u001b[0m\u001b[0;34m:\u001b[0m\u001b[0;34m\u001b[0m\u001b[0;34m\u001b[0m\u001b[0m\n",
      "\u001b[0;31mKeyError\u001b[0m: 'отсутствует'"
     ]
    }
   ],
   "source": [
    "chain['отсутствует']"
   ]
  },
  {
   "cell_type": "markdown",
   "id": "d18d5c07-02c0-4277-8bac-f65b151f44a4",
   "metadata": {},
   "source": [
    "### types .MappingProxyType — обертка для создания словарей только для чтения\n",
    "\n",
    "MappingProxyType — это обертка стандартного словаря, которая предо- ставляет доступ только для чтения данных обернутого словаря 2. Этоткласс был добавлен в Python 3.3 и может использоваться для создания\n",
    "неизменяемых версий словарей.\n",
    "\n",
    "Например, он может быть полезен, если требуется вернуть словарь, передающий внутреннее состояние из класса или модуля, при этом препятствуя доступу к этому объекту для записи. Использование MappingProxyType позволяет вводить эти ограничения без необходимости сначала создавать полную копию словаря."
   ]
  },
  {
   "cell_type": "code",
   "execution_count": 28,
   "id": "e55819f5-24c2-42c0-88c0-f771c4492ba1",
   "metadata": {},
   "outputs": [],
   "source": [
    "from types import MappingProxyType"
   ]
  },
  {
   "cell_type": "code",
   "execution_count": 29,
   "id": "3a424866-5622-4dbe-be56-52ed036716ca",
   "metadata": {},
   "outputs": [],
   "source": [
    "writable = {'один': 1, 'два': 2}  # доступный для обновления"
   ]
  },
  {
   "cell_type": "code",
   "execution_count": 30,
   "id": "3f74a7ad-6d01-48d5-bdba-e204241e1239",
   "metadata": {},
   "outputs": [],
   "source": [
    "read_only = MappingProxyType(writable)"
   ]
  },
  {
   "cell_type": "code",
   "execution_count": 31,
   "id": "a3cbee53-e905-48d9-937d-7c54068d9291",
   "metadata": {},
   "outputs": [
    {
     "data": {
      "text/plain": [
       "1"
      ]
     },
     "execution_count": 31,
     "metadata": {},
     "output_type": "execute_result"
    }
   ],
   "source": [
    "# Этот представитель/прокси с доступом только для чтения:\n",
    "read_only['один']"
   ]
  },
  {
   "cell_type": "code",
   "execution_count": 32,
   "id": "c6177358-b86c-4b99-99bb-a34f5d97a7c4",
   "metadata": {},
   "outputs": [
    {
     "ename": "TypeError",
     "evalue": "'mappingproxy' object does not support item assignment",
     "output_type": "error",
     "traceback": [
      "\u001b[0;31m---------------------------------------------------------------------------\u001b[0m",
      "\u001b[0;31mTypeError\u001b[0m                                 Traceback (most recent call last)",
      "\u001b[0;32m/var/folders/zz/t0wj_9090rzgb5q9crcqfj5m0000gn/T/ipykernel_1954/775913006.py\u001b[0m in \u001b[0;36m<module>\u001b[0;34m\u001b[0m\n\u001b[0;32m----> 1\u001b[0;31m \u001b[0mread_only\u001b[0m\u001b[0;34m[\u001b[0m\u001b[0;34m'один'\u001b[0m\u001b[0;34m]\u001b[0m \u001b[0;34m=\u001b[0m \u001b[0;36m23\u001b[0m\u001b[0;34m\u001b[0m\u001b[0;34m\u001b[0m\u001b[0m\n\u001b[0m",
      "\u001b[0;31mTypeError\u001b[0m: 'mappingproxy' object does not support item assignment"
     ]
    }
   ],
   "source": [
    "read_only['один'] = 23"
   ]
  },
  {
   "cell_type": "code",
   "execution_count": 33,
   "id": "6e45df7f-7d63-4271-8aff-18fa3b02578f",
   "metadata": {},
   "outputs": [],
   "source": [
    "# Обновления в оригинале отражаются в прокси:\n",
    "writable['один'] = 42"
   ]
  },
  {
   "cell_type": "code",
   "execution_count": 34,
   "id": "be1de931-19dd-4502-9fdb-03549de49284",
   "metadata": {},
   "outputs": [
    {
     "data": {
      "text/plain": [
       "mappingproxy({'один': 42, 'два': 2})"
      ]
     },
     "execution_count": 34,
     "metadata": {},
     "output_type": "execute_result"
    }
   ],
   "source": [
    "read_only"
   ]
  },
  {
   "cell_type": "markdown",
   "id": "a4136c3a-207a-4f2c-9a47-6230f01221df",
   "metadata": {},
   "source": [
    "### Словари в Python: заключение\n",
    "\n",
    "Все перечисленные в этом разделе питоновские реализации словаря являются действующими, они встроены в стандартную библиотеку Python.\n",
    "\n",
    "Если вы ищете общую рекомендацию по поводу того, какой ассоциатив- ный тип использовать в ваших программах, я указал бы на встроенный тип данных dict. Он представляет собой универсальную и оптимизиро- ванную реализацию хеш-таблицы, которая встроена непосредственно в ядро языка.\n",
    "\n",
    "Я порекомендовал бы использовать один из прочих перечисленных здесь типов данных, только если у вас есть особые требования, которые не могут быть обеспечены типом dict.\n",
    "\n",
    "Да, я по-прежнему убежден, что все эти варианты допустимы, но, как правило, в большинстве случаев ваш исходный код будет яснее и легче в сопровождении для других разработчиков, если он будет опираться на стандартные словари Python.\n",
    "\n",
    "Ключевые выводы\n",
    "* Словари — это единственная центральная структура данных в Python.\n",
    "* Встроенный тип dict будет «вполне приемлем» в большинстве случаев.\n",
    "* Специализированные реализации, такие как словари с доступом толь- ко для чтения или упорядоченные словари, имеются в стандартной библиотеке Python."
   ]
  },
  {
   "cell_type": "markdown",
   "id": "c2285319-ea98-4806-ab65-609ba4285d3d",
   "metadata": {},
   "source": [
    "### 5 .2 . Массивоподобные структуры данных\n",
    "\n",
    "Массив (array) — это фундаментальная структура данных, имеющаяся в большинстве языков программирования, и он имеет широкий спектр применений в самых разных алгоритмах.\n",
    "\n",
    "В этом разделе мы рассмотрим реализации массива в Python, в кото- рых используются только базовые функциональные средства языка или функциональность, которая включена в стандартную библиотеку Python.\n",
    "\n",
    "Вы увидите достоинства и недостатки каждого подхода, благодаря чему сможете решить, какая реализация подходит для вашего варианта исполь- зования. Но прежде чем начать, рассмотрим некоторые основы.\n",
    "\n",
    "Как работают массивы и для чего они применяются?\n",
    "\n",
    "Массивы состоят из записей данных, при этом записи имеют фиксиро- ванный размер, что позволяет эффективно размещать каждый элемент на основе его индекса.\n",
    "\n",
    "Поскольку массивы хранят информацию в смежных блоках памяти, их рассматривают как непрерывные (нефрагментированные) структуры данных (в противоположность связным структурам данных, таким как\n",
    "связные списки, например).\n",
    "\n",
    "Аналогией из реального мира, соответствующей этой структуре данных, является автостоянка:\n",
    "\n",
    "Автостоянку можно рассматривать как единое целое и как отдельный объект, но внутри автостоянки есть места для парковки, индексируемые по уникальному числу . Места для парковки являются контейнерами для транспортных средств — каждое место для парковки может либо быть пустым, либо содержать автомобиль, мотоцикл или другое транспортное средство, припаркованное там .\n",
    "\n",
    "Но не все автостоянки одинаковые:\n",
    "\n",
    "Некоторые автостоянки могут быть ограничены только одним типом транспортного средства . Например, на кемпинговой автостоянке не раз- решено парковать велосипеды . «Ограниченная» автостоянка соответ- ствует структуре данных для «типизированного массива», которая допу- скает только те элементы, которые имеют одинаковый тип хранящихся в них данных .\n",
    "\n",
    "С точки зрения производительности поиск элемента, содержащегося в массиве, выполняется очень быстро при условии, что указан индекс эле- мента. Для данного случая надлежащая реализация массива гарантирует постоянное O(1) время доступа.\n",
    "\n",
    "В своей стандартной библиотеке Python содержит несколько массивопо- добных структур данных, каждая из которых обладает слегка отличающи- мися характеристиками. Давайте их рассмотрим.\n",
    "\n",
    "### list — изменяемые динамические массивы\n",
    "\n",
    "Списки (lists) являются составной частью ядра языка Python1. Несмотря на свое имя, списки Python реализованы как динамические массивы. Это означает, что список допускает добавление и удаление элементов и автоматически корректирует резервное хранилище, в котором эти элементы\n",
    "содержатся, путем выделения или высвобождения оперативной памяти.\n",
    "\n",
    "Списки Python могут содержать произвольные элементы — в Python абсолютно «всё» является объектом, включая и функции. Поэтому вы можете сочетать и комбинировать разные типы данных и хранить их все в одном списке.\n",
    "\n",
    "Такая возможность может быть очень мощной, но у нее есть и обратная сторона: поддержка многочисленных типов данных одновременно озна- чает, что данные, как правило, упакованы менее плотно. И в результате вся структура занимает больше места."
   ]
  },
  {
   "cell_type": "code",
   "execution_count": 35,
   "id": "85f0298c-2cff-45a1-9d6d-7b031257a779",
   "metadata": {},
   "outputs": [],
   "source": [
    "arr = ['один', 'два', 'три']"
   ]
  },
  {
   "cell_type": "code",
   "execution_count": 37,
   "id": "76eec756-9d82-4de0-a526-0bf783cbbbd2",
   "metadata": {},
   "outputs": [
    {
     "data": {
      "text/plain": [
       "'один'"
      ]
     },
     "execution_count": 37,
     "metadata": {},
     "output_type": "execute_result"
    }
   ],
   "source": [
    "arr[0]"
   ]
  },
  {
   "cell_type": "code",
   "execution_count": 38,
   "id": "dd5e591a-ebad-4046-8cd3-5e8cc17bf114",
   "metadata": {},
   "outputs": [
    {
     "data": {
      "text/plain": [
       "['один', 'два', 'три']"
      ]
     },
     "execution_count": 38,
     "metadata": {},
     "output_type": "execute_result"
    }
   ],
   "source": [
    "# Списки имеют хороший метод repr:\n",
    "arr"
   ]
  },
  {
   "cell_type": "code",
   "execution_count": 39,
   "id": "d75a0e52-5a9c-4ff2-9b2a-91c21819eed6",
   "metadata": {},
   "outputs": [],
   "source": [
    "# Списки могут изменяться:\n",
    "arr[1] = 'привет'"
   ]
  },
  {
   "cell_type": "code",
   "execution_count": 40,
   "id": "1f46a79f-18f1-43d5-ab1f-340197574fe2",
   "metadata": {},
   "outputs": [
    {
     "data": {
      "text/plain": [
       "['один', 'привет', 'три']"
      ]
     },
     "execution_count": 40,
     "metadata": {},
     "output_type": "execute_result"
    }
   ],
   "source": [
    "arr"
   ]
  },
  {
   "cell_type": "code",
   "execution_count": 41,
   "id": "46a2f031-1fd1-4d88-94a0-a278d99b8f81",
   "metadata": {},
   "outputs": [],
   "source": [
    "del arr[1]"
   ]
  },
  {
   "cell_type": "code",
   "execution_count": 42,
   "id": "82bce10e-2f23-4140-8ef5-0d1fdd8b0b14",
   "metadata": {},
   "outputs": [
    {
     "data": {
      "text/plain": [
       "['один', 'три']"
      ]
     },
     "execution_count": 42,
     "metadata": {},
     "output_type": "execute_result"
    }
   ],
   "source": [
    "arr"
   ]
  },
  {
   "cell_type": "code",
   "execution_count": 43,
   "id": "e848c636-6b7f-40d7-8b0b-e1ca8fe51813",
   "metadata": {},
   "outputs": [],
   "source": [
    "# Списки могут содержать произвольные типы данных:\n",
    "arr.append(23)"
   ]
  },
  {
   "cell_type": "code",
   "execution_count": 44,
   "id": "88fc9619-0f61-45dc-a786-d72ab3c12f03",
   "metadata": {},
   "outputs": [
    {
     "data": {
      "text/plain": [
       "['один', 'три', 23]"
      ]
     },
     "execution_count": 44,
     "metadata": {},
     "output_type": "execute_result"
    }
   ],
   "source": [
    "arr"
   ]
  },
  {
   "cell_type": "markdown",
   "id": "0b67e424-1bc6-448e-a0dd-c782571d3e47",
   "metadata": {},
   "source": [
    "### tuple — неизменяемые контейнеры\n",
    "\n",
    "Аналогично спискам, кортежи тоже являются составной частью ядра языка Python1. Однако в отличие от списков, в Python объекты-кортежи не изменяются. Это означает, что элементы не могут динамически добав- ляться или удаляться — все элементы в кортеже должны быть определены во время создания.\n",
    "\n",
    "Точно так же, как и списки, кортежи могут содержать элементы произ- вольных типов данных. В этой гибкости много мощности, но, опять-таки, это также означает, что данные упакованы менее плотно, чем это было бы в типизированном массиве."
   ]
  },
  {
   "cell_type": "code",
   "execution_count": 45,
   "id": "0c163bb0-09fc-4e1e-8824-bc6ad04939ca",
   "metadata": {},
   "outputs": [],
   "source": [
    "arr = 'один', 'два', 'три'"
   ]
  },
  {
   "cell_type": "code",
   "execution_count": 46,
   "id": "12146073-11a2-410b-9f25-cd971d326cbd",
   "metadata": {},
   "outputs": [
    {
     "data": {
      "text/plain": [
       "'один'"
      ]
     },
     "execution_count": 46,
     "metadata": {},
     "output_type": "execute_result"
    }
   ],
   "source": [
    "arr[0]"
   ]
  },
  {
   "cell_type": "code",
   "execution_count": 48,
   "id": "9994bfe0-fff7-47fc-a140-7f99324de802",
   "metadata": {},
   "outputs": [
    {
     "data": {
      "text/plain": [
       "('один', 'два', 'три')"
      ]
     },
     "execution_count": 48,
     "metadata": {},
     "output_type": "execute_result"
    }
   ],
   "source": [
    "# Кортежи имеют хороший метод repr:\n",
    "arr"
   ]
  },
  {
   "cell_type": "code",
   "execution_count": 49,
   "id": "3fa31d04-b53a-4679-9253-56162657cd44",
   "metadata": {},
   "outputs": [
    {
     "ename": "TypeError",
     "evalue": "'tuple' object does not support item assignment",
     "output_type": "error",
     "traceback": [
      "\u001b[0;31m---------------------------------------------------------------------------\u001b[0m",
      "\u001b[0;31mTypeError\u001b[0m                                 Traceback (most recent call last)",
      "\u001b[0;32m/var/folders/zz/t0wj_9090rzgb5q9crcqfj5m0000gn/T/ipykernel_1954/2349815524.py\u001b[0m in \u001b[0;36m<module>\u001b[0;34m\u001b[0m\n\u001b[1;32m      1\u001b[0m \u001b[0;31m# Кортежи не могут изменяться:\u001b[0m\u001b[0;34m\u001b[0m\u001b[0;34m\u001b[0m\u001b[0m\n\u001b[0;32m----> 2\u001b[0;31m \u001b[0marr\u001b[0m\u001b[0;34m[\u001b[0m\u001b[0;36m1\u001b[0m\u001b[0;34m]\u001b[0m \u001b[0;34m=\u001b[0m \u001b[0;34m'привет'\u001b[0m\u001b[0;34m\u001b[0m\u001b[0;34m\u001b[0m\u001b[0m\n\u001b[0m",
      "\u001b[0;31mTypeError\u001b[0m: 'tuple' object does not support item assignment"
     ]
    }
   ],
   "source": [
    "# Кортежи не могут изменяться:\n",
    "arr[1] = 'привет'"
   ]
  },
  {
   "cell_type": "code",
   "execution_count": 50,
   "id": "4f068de9-6f5c-4ad3-9c30-c83f5e8b7fe8",
   "metadata": {},
   "outputs": [
    {
     "ename": "TypeError",
     "evalue": "'tuple' object doesn't support item deletion",
     "output_type": "error",
     "traceback": [
      "\u001b[0;31m---------------------------------------------------------------------------\u001b[0m",
      "\u001b[0;31mTypeError\u001b[0m                                 Traceback (most recent call last)",
      "\u001b[0;32m/var/folders/zz/t0wj_9090rzgb5q9crcqfj5m0000gn/T/ipykernel_1954/2023928029.py\u001b[0m in \u001b[0;36m<module>\u001b[0;34m\u001b[0m\n\u001b[0;32m----> 1\u001b[0;31m \u001b[0;32mdel\u001b[0m \u001b[0marr\u001b[0m\u001b[0;34m[\u001b[0m\u001b[0;36m1\u001b[0m\u001b[0;34m]\u001b[0m\u001b[0;34m\u001b[0m\u001b[0;34m\u001b[0m\u001b[0m\n\u001b[0m",
      "\u001b[0;31mTypeError\u001b[0m: 'tuple' object doesn't support item deletion"
     ]
    }
   ],
   "source": [
    "del arr[1]"
   ]
  },
  {
   "cell_type": "code",
   "execution_count": 51,
   "id": "f268c24d-cd8d-4d14-80f8-19b872ee9949",
   "metadata": {},
   "outputs": [
    {
     "data": {
      "text/plain": [
       "('один', 'два', 'три', 23)"
      ]
     },
     "execution_count": 51,
     "metadata": {},
     "output_type": "execute_result"
    }
   ],
   "source": [
    "# Кортежи могут содержать произвольные типы данных: \n",
    "# (При добавлении элементов создается копия кортежа)\n",
    "arr + (23,)"
   ]
  },
  {
   "cell_type": "markdown",
   "id": "4f071976-4cbf-4af4-a9fb-19c98494a772",
   "metadata": {},
   "source": [
    "### array .array — элементарные типизированные массивы\n",
    "\n",
    "Модуль Python array обеспечивает пространственно-эффективное хра- нение элементарных типов данных в стиле языка C, таких как байты, 32-разрядные целые числа, числа с плавающей точкой и т. д.\n",
    "\n",
    "Массивы, создаваемые на основе класса array.array, могут изменяться и ведут себя аналогично спискам, за исключением одного важного раз- личия — они являются «типизированными массивами», ограниченными единственным типом данных.\n",
    "\n",
    "Из-за этого ограничения объекты array.array со многими элементами более пространственно эффективны, чем списки и кортежи. Хранящиеся в них элементы плотно упакованы, и это может быть полезно, если вам нужно хранить много элементов одного и того же типа.\n",
    "\n",
    "Кроме того, массивы поддерживают многие из тех же методов, что и у обычных списков, и вы можете их использовать в качестве «прямой за- мены» без необходимости вносить в свой код другие изменения."
   ]
  },
  {
   "cell_type": "code",
   "execution_count": 52,
   "id": "e397bad8-b3e4-47ab-95f0-12c23a196e6b",
   "metadata": {},
   "outputs": [],
   "source": [
    "import array"
   ]
  },
  {
   "cell_type": "code",
   "execution_count": 53,
   "id": "ce2ca481-73fb-4e30-81a0-e5e1c79e7227",
   "metadata": {},
   "outputs": [],
   "source": [
    "arr = array.array('f', (1.0, 1.5, 2.0, 2.5))"
   ]
  },
  {
   "cell_type": "code",
   "execution_count": 54,
   "id": "a97e88fc-153b-4bbf-9b25-f86d6e7e5dbf",
   "metadata": {},
   "outputs": [
    {
     "data": {
      "text/plain": [
       "1.5"
      ]
     },
     "execution_count": 54,
     "metadata": {},
     "output_type": "execute_result"
    }
   ],
   "source": [
    "arr[1]"
   ]
  },
  {
   "cell_type": "code",
   "execution_count": 55,
   "id": "4152fa1f-4372-406d-9d1d-fee10d52a7e7",
   "metadata": {},
   "outputs": [
    {
     "data": {
      "text/plain": [
       "array('f', [1.0, 1.5, 2.0, 2.5])"
      ]
     },
     "execution_count": 55,
     "metadata": {},
     "output_type": "execute_result"
    }
   ],
   "source": [
    "# Массивы имеют хороший метод repr:\n",
    "arr"
   ]
  },
  {
   "cell_type": "code",
   "execution_count": 56,
   "id": "766bfa48-909e-418f-8155-a2621c783b67",
   "metadata": {},
   "outputs": [],
   "source": [
    "# Массивы могут изменяться:\n",
    "arr[1] = 23.0"
   ]
  },
  {
   "cell_type": "code",
   "execution_count": 57,
   "id": "9089cd96-f49a-4764-be7d-bebbb2cbeee3",
   "metadata": {},
   "outputs": [],
   "source": [
    "del arr[1]"
   ]
  },
  {
   "cell_type": "code",
   "execution_count": 58,
   "id": "6ca9f3ae-098c-4134-aacb-6e80d5c9c312",
   "metadata": {},
   "outputs": [
    {
     "data": {
      "text/plain": [
       "array('f', [1.0, 2.0, 2.5])"
      ]
     },
     "execution_count": 58,
     "metadata": {},
     "output_type": "execute_result"
    }
   ],
   "source": [
    "arr"
   ]
  },
  {
   "cell_type": "code",
   "execution_count": 59,
   "id": "ed66edf6-3b75-4dae-9754-9170d09de28f",
   "metadata": {},
   "outputs": [],
   "source": [
    "arr.append(42.0)"
   ]
  },
  {
   "cell_type": "code",
   "execution_count": 60,
   "id": "173ae8b3-94af-4fcb-9e39-8b839fe30728",
   "metadata": {},
   "outputs": [
    {
     "data": {
      "text/plain": [
       "array('f', [1.0, 2.0, 2.5, 42.0])"
      ]
     },
     "execution_count": 60,
     "metadata": {},
     "output_type": "execute_result"
    }
   ],
   "source": [
    "arr"
   ]
  },
  {
   "cell_type": "code",
   "execution_count": 61,
   "id": "f3d7498c-3156-40bc-827a-9af3bfdf748e",
   "metadata": {},
   "outputs": [
    {
     "ename": "TypeError",
     "evalue": "must be real number, not str",
     "output_type": "error",
     "traceback": [
      "\u001b[0;31m---------------------------------------------------------------------------\u001b[0m",
      "\u001b[0;31mTypeError\u001b[0m                                 Traceback (most recent call last)",
      "\u001b[0;32m/var/folders/zz/t0wj_9090rzgb5q9crcqfj5m0000gn/T/ipykernel_1954/866185679.py\u001b[0m in \u001b[0;36m<module>\u001b[0;34m\u001b[0m\n\u001b[1;32m      1\u001b[0m \u001b[0;31m# Массивы — это \"типизированные\" структуры данных:\u001b[0m\u001b[0;34m\u001b[0m\u001b[0;34m\u001b[0m\u001b[0m\n\u001b[0;32m----> 2\u001b[0;31m \u001b[0marr\u001b[0m\u001b[0;34m[\u001b[0m\u001b[0;36m1\u001b[0m\u001b[0;34m]\u001b[0m \u001b[0;34m=\u001b[0m \u001b[0;34m'привет'\u001b[0m\u001b[0;34m\u001b[0m\u001b[0;34m\u001b[0m\u001b[0m\n\u001b[0m",
      "\u001b[0;31mTypeError\u001b[0m: must be real number, not str"
     ]
    }
   ],
   "source": [
    "# Массивы — это \"типизированные\" структуры данных:\n",
    "arr[1] = 'привет'"
   ]
  },
  {
   "cell_type": "markdown",
   "id": "84dde73b-ee90-473e-bef4-63e917a97c31",
   "metadata": {},
   "source": [
    "### str — неизменяемые массивы символов Юникода\n",
    "\n",
    "В Python 3.x объекты строкового типа str используются для хранения текстовых данных в виде неизменяемых последовательностей символов Юникода1. В сущности, это означает, что тип str представляет собой неизменяемый массив символов. Как это ни странно, но тип str также является рекурсивной структурой данных: каждый символ в строке сам является объектом str длиной, равной 1.\n",
    "\n",
    "Строковые объекты пространственно эффективны, потому что они плотно упакованы и специализируются на одном-единственном типе данных. Если вы храните текст в кодировке Юникод, то лучше использовать этот тип данных. Поскольку строки в Python не могут изменяться, модифи- кация строкового значения требует создания модифицированной копии. Самым близким эквивалентом «изменяющейся последовательности символов» будет список, в котором символы хранятся по отдельности."
   ]
  },
  {
   "cell_type": "code",
   "execution_count": 62,
   "id": "fbe51737-bf17-40ce-bc10-e1aa0b5f14d1",
   "metadata": {},
   "outputs": [],
   "source": [
    "arr = 'abcd'"
   ]
  },
  {
   "cell_type": "code",
   "execution_count": 63,
   "id": "9f9bfc80-2fb0-463c-ba8b-a67f004172a3",
   "metadata": {},
   "outputs": [
    {
     "data": {
      "text/plain": [
       "'b'"
      ]
     },
     "execution_count": 63,
     "metadata": {},
     "output_type": "execute_result"
    }
   ],
   "source": [
    "arr[1]"
   ]
  },
  {
   "cell_type": "code",
   "execution_count": 64,
   "id": "d1688d20-6509-47e3-974b-a320ff0cdbaf",
   "metadata": {},
   "outputs": [
    {
     "data": {
      "text/plain": [
       "'abcd'"
      ]
     },
     "execution_count": 64,
     "metadata": {},
     "output_type": "execute_result"
    }
   ],
   "source": [
    "arr"
   ]
  },
  {
   "cell_type": "code",
   "execution_count": 65,
   "id": "9f880e81-e9a6-46ed-a97e-14b45c16e50e",
   "metadata": {},
   "outputs": [
    {
     "ename": "TypeError",
     "evalue": "'str' object does not support item assignment",
     "output_type": "error",
     "traceback": [
      "\u001b[0;31m---------------------------------------------------------------------------\u001b[0m",
      "\u001b[0;31mTypeError\u001b[0m                                 Traceback (most recent call last)",
      "\u001b[0;32m/var/folders/zz/t0wj_9090rzgb5q9crcqfj5m0000gn/T/ipykernel_1954/3192498838.py\u001b[0m in \u001b[0;36m<module>\u001b[0;34m\u001b[0m\n\u001b[1;32m      1\u001b[0m \u001b[0;31m# Строки неизменяемы:\u001b[0m\u001b[0;34m\u001b[0m\u001b[0;34m\u001b[0m\u001b[0m\n\u001b[0;32m----> 2\u001b[0;31m \u001b[0marr\u001b[0m\u001b[0;34m[\u001b[0m\u001b[0;36m1\u001b[0m\u001b[0;34m]\u001b[0m \u001b[0;34m=\u001b[0m \u001b[0;34m'e'\u001b[0m\u001b[0;34m\u001b[0m\u001b[0;34m\u001b[0m\u001b[0m\n\u001b[0m",
      "\u001b[0;31mTypeError\u001b[0m: 'str' object does not support item assignment"
     ]
    }
   ],
   "source": [
    "# Строки неизменяемы:\n",
    "arr[1] = 'e'"
   ]
  },
  {
   "cell_type": "code",
   "execution_count": 66,
   "id": "eafc2a13-c4c4-425c-b0dd-8e454633f1e7",
   "metadata": {},
   "outputs": [
    {
     "ename": "TypeError",
     "evalue": "'str' object doesn't support item deletion",
     "output_type": "error",
     "traceback": [
      "\u001b[0;31m---------------------------------------------------------------------------\u001b[0m",
      "\u001b[0;31mTypeError\u001b[0m                                 Traceback (most recent call last)",
      "\u001b[0;32m/var/folders/zz/t0wj_9090rzgb5q9crcqfj5m0000gn/T/ipykernel_1954/2023928029.py\u001b[0m in \u001b[0;36m<module>\u001b[0;34m\u001b[0m\n\u001b[0;32m----> 1\u001b[0;31m \u001b[0;32mdel\u001b[0m \u001b[0marr\u001b[0m\u001b[0;34m[\u001b[0m\u001b[0;36m1\u001b[0m\u001b[0;34m]\u001b[0m\u001b[0;34m\u001b[0m\u001b[0;34m\u001b[0m\u001b[0m\n\u001b[0m",
      "\u001b[0;31mTypeError\u001b[0m: 'str' object doesn't support item deletion"
     ]
    }
   ],
   "source": [
    "del arr[1]"
   ]
  },
  {
   "cell_type": "code",
   "execution_count": 67,
   "id": "224d03d6-e7db-4d90-ab98-37bdf0756a0f",
   "metadata": {},
   "outputs": [
    {
     "data": {
      "text/plain": [
       "['a', 'b', 'c', 'd']"
      ]
     },
     "execution_count": 67,
     "metadata": {},
     "output_type": "execute_result"
    }
   ],
   "source": [
    "# Строки могут быть распакованы в список, в результате чего # они получают изменяемое представление:\n",
    "list('abcd')"
   ]
  },
  {
   "cell_type": "code",
   "execution_count": 68,
   "id": "12e35242-9081-41cd-a644-99afdaaa8a4f",
   "metadata": {},
   "outputs": [
    {
     "data": {
      "text/plain": [
       "'abcd'"
      ]
     },
     "execution_count": 68,
     "metadata": {},
     "output_type": "execute_result"
    }
   ],
   "source": [
    "''.join(list('abcd'))"
   ]
  },
  {
   "cell_type": "code",
   "execution_count": 69,
   "id": "edc433a0-ccbe-4417-a2fd-a05e61a394d5",
   "metadata": {},
   "outputs": [
    {
     "data": {
      "text/plain": [
       "str"
      ]
     },
     "execution_count": 69,
     "metadata": {},
     "output_type": "execute_result"
    }
   ],
   "source": [
    "# Строки — это рекурсивные структуры данных:\n",
    "type('abc')"
   ]
  },
  {
   "cell_type": "code",
   "execution_count": 70,
   "id": "7002b9b7-1564-4946-85dc-9f2892f72f3f",
   "metadata": {},
   "outputs": [
    {
     "data": {
      "text/plain": [
       "str"
      ]
     },
     "execution_count": 70,
     "metadata": {},
     "output_type": "execute_result"
    }
   ],
   "source": [
    "type('abc'[0])"
   ]
  },
  {
   "cell_type": "markdown",
   "id": "e1746a3a-664c-488e-ae24-eb2a84d3b7cd",
   "metadata": {},
   "source": [
    "### bytes — неизменяемые массивы одиночных байтов\n",
    "\n",
    "Объекты bytes представляют собой неизменяемые последовательности одиночных байтов (целых чисел в диапазоне 0 ≤ x ≤ 255)1. В концептуаль- ном плане они подобны объектам str и их также можно представить как неизменяемые массивы байтов.\n",
    "\n",
    "Аналогично строковому типу, тип bytes имеет свой собственный лите- ральный синтаксис, предназначенный для создания объектов, и объекты этого типа пространственно эффективны. Объекты bytes не могут изме- няться, но, в отличие от строковых объектов, для «изменяемых массивов байтов» есть специальный тип данных, который называется bytearray, или байтовый массив, в который они могут быть распакованы. Вы узнаете о нем подробнее в следующем подразделе."
   ]
  },
  {
   "cell_type": "code",
   "execution_count": 71,
   "id": "329b6083-c862-42a7-9ab6-9cd7e3bb2e4d",
   "metadata": {},
   "outputs": [
    {
     "data": {
      "text/plain": [
       "1"
      ]
     },
     "execution_count": 71,
     "metadata": {},
     "output_type": "execute_result"
    }
   ],
   "source": [
    "arr = bytes((0, 1, 2, 3))\n",
    "arr[1]"
   ]
  },
  {
   "cell_type": "code",
   "execution_count": 72,
   "id": "402804b0-1cb7-44be-b979-c0816e46749f",
   "metadata": {},
   "outputs": [
    {
     "data": {
      "text/plain": [
       "b'\\x00\\x01\\x02\\x03'"
      ]
     },
     "execution_count": 72,
     "metadata": {},
     "output_type": "execute_result"
    }
   ],
   "source": [
    "# Байтовые литералы имеют свой собственный синтаксис:\n",
    "arr"
   ]
  },
  {
   "cell_type": "code",
   "execution_count": 73,
   "id": "7e431e69-8fc6-4563-8938-9dd35907f9c7",
   "metadata": {},
   "outputs": [
    {
     "ename": "ValueError",
     "evalue": "bytes must be in range(0, 256)",
     "output_type": "error",
     "traceback": [
      "\u001b[0;31m---------------------------------------------------------------------------\u001b[0m",
      "\u001b[0;31mValueError\u001b[0m                                Traceback (most recent call last)",
      "\u001b[0;32m/var/folders/zz/t0wj_9090rzgb5q9crcqfj5m0000gn/T/ipykernel_1954/3787999328.py\u001b[0m in \u001b[0;36m<module>\u001b[0;34m\u001b[0m\n\u001b[1;32m      1\u001b[0m \u001b[0;31m# Разрешены только допустимые \"байты\":\u001b[0m\u001b[0;34m\u001b[0m\u001b[0;34m\u001b[0m\u001b[0m\n\u001b[0;32m----> 2\u001b[0;31m \u001b[0mbytes\u001b[0m\u001b[0;34m(\u001b[0m\u001b[0;34m(\u001b[0m\u001b[0;36m0\u001b[0m\u001b[0;34m,\u001b[0m \u001b[0;36m300\u001b[0m\u001b[0;34m)\u001b[0m\u001b[0;34m)\u001b[0m\u001b[0;34m\u001b[0m\u001b[0;34m\u001b[0m\u001b[0m\n\u001b[0m",
      "\u001b[0;31mValueError\u001b[0m: bytes must be in range(0, 256)"
     ]
    }
   ],
   "source": [
    "# Разрешены только допустимые \"байты\":\n",
    "bytes((0, 300))"
   ]
  },
  {
   "cell_type": "code",
   "execution_count": 74,
   "id": "d8f1436c-6c26-4727-804d-3034572b34d2",
   "metadata": {},
   "outputs": [
    {
     "ename": "TypeError",
     "evalue": "'bytes' object does not support item assignment",
     "output_type": "error",
     "traceback": [
      "\u001b[0;31m---------------------------------------------------------------------------\u001b[0m",
      "\u001b[0;31mTypeError\u001b[0m                                 Traceback (most recent call last)",
      "\u001b[0;32m/var/folders/zz/t0wj_9090rzgb5q9crcqfj5m0000gn/T/ipykernel_1954/2059131872.py\u001b[0m in \u001b[0;36m<module>\u001b[0;34m\u001b[0m\n\u001b[1;32m      1\u001b[0m \u001b[0;31m# Байты неизменяемы:\u001b[0m\u001b[0;34m\u001b[0m\u001b[0;34m\u001b[0m\u001b[0m\n\u001b[0;32m----> 2\u001b[0;31m \u001b[0marr\u001b[0m\u001b[0;34m[\u001b[0m\u001b[0;36m1\u001b[0m\u001b[0;34m]\u001b[0m \u001b[0;34m=\u001b[0m \u001b[0;36m23\u001b[0m\u001b[0;34m\u001b[0m\u001b[0;34m\u001b[0m\u001b[0m\n\u001b[0m",
      "\u001b[0;31mTypeError\u001b[0m: 'bytes' object does not support item assignment"
     ]
    }
   ],
   "source": [
    "# Байты неизменяемы:\n",
    "arr[1] = 23"
   ]
  },
  {
   "cell_type": "code",
   "execution_count": 75,
   "id": "3c939f25-7b6c-4cf9-9e7b-fd79765de073",
   "metadata": {},
   "outputs": [
    {
     "ename": "TypeError",
     "evalue": "'bytes' object doesn't support item deletion",
     "output_type": "error",
     "traceback": [
      "\u001b[0;31m---------------------------------------------------------------------------\u001b[0m",
      "\u001b[0;31mTypeError\u001b[0m                                 Traceback (most recent call last)",
      "\u001b[0;32m/var/folders/zz/t0wj_9090rzgb5q9crcqfj5m0000gn/T/ipykernel_1954/2023928029.py\u001b[0m in \u001b[0;36m<module>\u001b[0;34m\u001b[0m\n\u001b[0;32m----> 1\u001b[0;31m \u001b[0;32mdel\u001b[0m \u001b[0marr\u001b[0m\u001b[0;34m[\u001b[0m\u001b[0;36m1\u001b[0m\u001b[0;34m]\u001b[0m\u001b[0;34m\u001b[0m\u001b[0;34m\u001b[0m\u001b[0m\n\u001b[0m",
      "\u001b[0;31mTypeError\u001b[0m: 'bytes' object doesn't support item deletion"
     ]
    }
   ],
   "source": [
    "del arr[1]"
   ]
  },
  {
   "cell_type": "markdown",
   "id": "faa0d181-edcc-4006-9b2d-eaf54b2025ef",
   "metadata": {},
   "source": [
    "### bytearray — изменяемые массивы одиночных байтов\n",
    "\n",
    "Тип bytearray представляет собой изменяемую последовательность целых чисел в диапазоне 0 ≤ x ≤ 2551. Они тесно связаны с объектами bytes, при этом главное их отличие в том, что объекты bytearray можно свободно изменять — вы можете переписывать элементы, удалять существующие элементы или добавлять новые. Объект bytearray будет соответствующим образом расти и сжиматься.\n",
    "\n",
    "Объекты bytearray могут быть преобразованы обратно в неизменяе- мые объекты bytes, но это влечет за собой копирование абсолютно всех хранящихся в них данных — весьма медленная операция, занимающая O(n) времени."
   ]
  },
  {
   "cell_type": "code",
   "execution_count": 76,
   "id": "72b9d4c5-3860-4235-a0c3-2a9da2407c1c",
   "metadata": {},
   "outputs": [
    {
     "data": {
      "text/plain": [
       "1"
      ]
     },
     "execution_count": 76,
     "metadata": {},
     "output_type": "execute_result"
    }
   ],
   "source": [
    "arr = bytearray((0, 1, 2, 3))\n",
    "arr[1]"
   ]
  },
  {
   "cell_type": "code",
   "execution_count": 77,
   "id": "d808758f-9fe3-4b56-8d91-333a8a85cf2b",
   "metadata": {},
   "outputs": [
    {
     "data": {
      "text/plain": [
       "bytearray(b'\\x00\\x01\\x02\\x03')"
      ]
     },
     "execution_count": 77,
     "metadata": {},
     "output_type": "execute_result"
    }
   ],
   "source": [
    "# Метод repr для bytearray:\n",
    "arr"
   ]
  },
  {
   "cell_type": "code",
   "execution_count": 78,
   "id": "3cda4952-b044-49c4-b38d-7cb51d9ab37b",
   "metadata": {},
   "outputs": [
    {
     "data": {
      "text/plain": [
       "bytearray(b'\\x00\\x17\\x02\\x03')"
      ]
     },
     "execution_count": 78,
     "metadata": {},
     "output_type": "execute_result"
    }
   ],
   "source": [
    "# Байтовые массивы bytearray изменяемы:\n",
    "arr[1] = 23\n",
    "arr"
   ]
  },
  {
   "cell_type": "code",
   "execution_count": 79,
   "id": "26872568-602e-4d6d-ac09-3ccf41c300f8",
   "metadata": {},
   "outputs": [
    {
     "data": {
      "text/plain": [
       "23"
      ]
     },
     "execution_count": 79,
     "metadata": {},
     "output_type": "execute_result"
    }
   ],
   "source": [
    "arr[1]"
   ]
  },
  {
   "cell_type": "code",
   "execution_count": 80,
   "id": "aecf1ccd-7412-464f-b4b4-92d859d27532",
   "metadata": {},
   "outputs": [
    {
     "data": {
      "text/plain": [
       "bytearray(b'\\x00\\x02\\x03')"
      ]
     },
     "execution_count": 80,
     "metadata": {},
     "output_type": "execute_result"
    }
   ],
   "source": [
    "# Байтовые массивы bytearray могут расти и сжиматься в размере:\n",
    "del arr[1]\n",
    "arr"
   ]
  },
  {
   "cell_type": "code",
   "execution_count": 81,
   "id": "38efbf37-e787-42ac-a457-4e5679f473b0",
   "metadata": {},
   "outputs": [
    {
     "data": {
      "text/plain": [
       "bytearray(b'\\x00\\x02\\x03*')"
      ]
     },
     "execution_count": 81,
     "metadata": {},
     "output_type": "execute_result"
    }
   ],
   "source": [
    "arr.append(42)\n",
    "arr"
   ]
  },
  {
   "cell_type": "code",
   "execution_count": 82,
   "id": "e7360929-1f41-46d7-8fe5-454f634097e2",
   "metadata": {},
   "outputs": [
    {
     "ename": "TypeError",
     "evalue": "'str' object cannot be interpreted as an integer",
     "output_type": "error",
     "traceback": [
      "\u001b[0;31m---------------------------------------------------------------------------\u001b[0m",
      "\u001b[0;31mTypeError\u001b[0m                                 Traceback (most recent call last)",
      "\u001b[0;32m/var/folders/zz/t0wj_9090rzgb5q9crcqfj5m0000gn/T/ipykernel_1954/1132710008.py\u001b[0m in \u001b[0;36m<module>\u001b[0;34m\u001b[0m\n\u001b[1;32m      1\u001b[0m \u001b[0;31m# (целые числа в диапазоне 0 <= x <= 255)\u001b[0m\u001b[0;34m\u001b[0m\u001b[0;34m\u001b[0m\u001b[0m\n\u001b[0;32m----> 2\u001b[0;31m \u001b[0marr\u001b[0m\u001b[0;34m[\u001b[0m\u001b[0;36m1\u001b[0m\u001b[0;34m]\u001b[0m \u001b[0;34m=\u001b[0m \u001b[0;34m'привет'\u001b[0m\u001b[0;34m\u001b[0m\u001b[0;34m\u001b[0m\u001b[0m\n\u001b[0m",
      "\u001b[0;31mTypeError\u001b[0m: 'str' object cannot be interpreted as an integer"
     ]
    }
   ],
   "source": [
    "# (целые числа в диапазоне 0 <= x <= 255)\n",
    "arr[1] = 'привет'"
   ]
  },
  {
   "cell_type": "code",
   "execution_count": 83,
   "id": "baa21e88-846b-46ab-a433-31aad7bb553c",
   "metadata": {},
   "outputs": [
    {
     "ename": "ValueError",
     "evalue": "byte must be in range(0, 256)",
     "output_type": "error",
     "traceback": [
      "\u001b[0;31m---------------------------------------------------------------------------\u001b[0m",
      "\u001b[0;31mValueError\u001b[0m                                Traceback (most recent call last)",
      "\u001b[0;32m/var/folders/zz/t0wj_9090rzgb5q9crcqfj5m0000gn/T/ipykernel_1954/256314923.py\u001b[0m in \u001b[0;36m<module>\u001b[0;34m\u001b[0m\n\u001b[0;32m----> 1\u001b[0;31m \u001b[0marr\u001b[0m\u001b[0;34m[\u001b[0m\u001b[0;36m1\u001b[0m\u001b[0;34m]\u001b[0m \u001b[0;34m=\u001b[0m \u001b[0;36m300\u001b[0m\u001b[0;34m\u001b[0m\u001b[0;34m\u001b[0m\u001b[0m\n\u001b[0m",
      "\u001b[0;31mValueError\u001b[0m: byte must be in range(0, 256)"
     ]
    }
   ],
   "source": [
    "arr[1] = 300"
   ]
  },
  {
   "cell_type": "code",
   "execution_count": 85,
   "id": "ff7f637b-b87e-4d47-9c37-0f6230fdd50e",
   "metadata": {},
   "outputs": [
    {
     "data": {
      "text/plain": [
       "b'\\x00\\x02\\x03*'"
      ]
     },
     "execution_count": 85,
     "metadata": {},
     "output_type": "execute_result"
    }
   ],
   "source": [
    "# Bytearrays может быть преобразован в байтовые объекты: \n",
    "# (Это скопирует данные)\n",
    "bytes(arr)"
   ]
  },
  {
   "cell_type": "markdown",
   "id": "26cf1b9b-98ad-4008-a95d-aba97cf37715",
   "metadata": {},
   "source": [
    "### Ключевые выводы\n",
    "\n",
    "В том, что касается реализации массивов в Python, вы можете выбирать из широкого круга встроенных структур данных. В этом разделе мы сосре- доточились на ключевых функциональных средствах языка и структурах данных, включенных только в стандартную библиотеку.\n",
    "\n",
    "Если вы готовы выйти за пределы стандартной библиотеки Python, то сторонние пакеты, такие как NumPy1, предлагают широкий спектр мас- сивоподобных реализаций с большим быстродействием для научных вычислений и науки о данных.\n",
    "\n",
    "Если ограничиваться массивоподобными структурами данных, включен- ными в Python, то наш выбор сводится к следующему.\n",
    "\n",
    "Вам нужно хранить произвольные объекты, которые потенциально могут иметь смешанные типы данных? Используйте список или кортеж в зависимости от того, хотите вы иметь неизменяемую структуру данных или нет.\n",
    "\n",
    "У вас есть числовые (целочисленные или с плавающей точкой) данные и для вас важны плотная упаковка и производительность? Попробуйте array.array и посмотрите, способен ли этот тип делать все, что вам нуж- но. Кроме того, рассмотрите выход за пределы стандартной библиотеки и попробуйте такие пакеты, как NumPy или Pandas2.\n",
    "\n",
    "У вас есть текстовые данные, представленные символами Юникода?\n",
    "Используйте встроенный в Python тип str. Если вам нужна «изменяемая последовательность символов», то используйте list как список символов.\n",
    "\n",
    "Вы хотите хранить нефрагментированный блок байтов? Используйте неизменяемый тип bytes, либо bytearray, если вам нужна изменяемая структура данных.\n",
    "\n",
    "В большинстве случаев мне нравится начинать с простого списка list. И только потом я конкретизирую используемый тип, если производитель- ность или занимаемое пространство оперативной памяти становятся про- блемой. В большинстве случаев использование массивоподобной струк- туры данных общего назначения, такой как список list, обеспечивает наибольшую скорость разработки и удобство во время программирования.\n",
    "\n",
    "Для себя я понял, что в самом начале это обычно намного важнее, чем пытаться выжимать последнюю каплю производительности.\n",
    "\n",
    "### 5 .3 . Записи, структуры и объекты переноса данных\n",
    "\n",
    "Записи, как и структуры данных, по сравнению с массивами обеспечивают фиксированное количество полей, у каждого из которых может быть имя, а также другой тип.\n",
    "\n",
    "В этом разделе вы увидите, как реализовывать в Python записи, структуры и «старые добрые объекты данных» с использованием всего лишь встро- енных типов данных и классов из стандартной библиотеки.\n",
    "\n",
    "Кстати, здесь я использую определение понятия «запись» в широком смысле. Например, я также собираюсь обсудить такие типы, как встроен- ный в Python тип tuple, который может как считаться, так и не считаться записью в строгом смысле этого слова, потому что кортежи не обеспечи- вают именованные поля.\n",
    "\n",
    "Python предлагает несколько типов данных, которые можно использовать для реализации записей, структур и объектов переноса данных. В этом разделе вы кратко рассмотрите каждую реализацию и ее уникальные характеристики. В конце раздела вы найдете резюме и руководство для при-\n",
    "нятия решений, которое поможет вам сделать свой собственный выбор. \n",
    "\n",
    "Ладно, давайте начнем!\n",
    "\n",
    "### dict — простые объекты данных\n",
    "\n",
    "Словари Python хранят произвольное количество объектов, при этом каждый идентифицируется уникальным ключом1. Словари также нередко называются ассоциативными массивами или таблицами соответствий и позволяют производить эффективный поиск, вставку и удаление любого объекта, связанного с заданным ключом.\n",
    "\n",
    "В Python использование словарей в качестве типа данных запись или объекта данных вполне возможно. Словари в Python легко создаются, поскольку они имеют свой собственный синтаксический сахар, который встроен в язык в форме литералов словаря. Синтаксис словаря краток и довольно удобен для набора на клавиатуре.\n",
    "\n",
    "Объекты данных, создаваемые с использованием словарей, могут изме- няться, и при этом практически отсутствует защита от опечаток в именах полей, поскольку поля могут свободно добавляться и удаляться в любое время. Оба этих свойства способны добавить поразительные ошибки, и всегда существует компромисс между удобством и устойчивостью к ошибкам, которого нужно достигать."
   ]
  },
  {
   "cell_type": "code",
   "execution_count": 86,
   "id": "fcc70ff6-3d00-43aa-be2b-cd2ee5b2490d",
   "metadata": {},
   "outputs": [],
   "source": [
    "car1 = {\n",
    "     'цвет': 'красный',\n",
    "     'пробег': 3812.4,\n",
    "     'автомат': True,\n",
    "}\n",
    "car2 = {\n",
    "     'цвет': 'синий',\n",
    "     'пробег': 40231,\n",
    "     'автомат': False,\n",
    "}"
   ]
  },
  {
   "cell_type": "code",
   "execution_count": 87,
   "id": "8bc46675-cd6d-4591-8295-14734dc5cc29",
   "metadata": {},
   "outputs": [
    {
     "data": {
      "text/plain": [
       "{'цвет': 'синий', 'пробег': 40231, 'автомат': False}"
      ]
     },
     "execution_count": 87,
     "metadata": {},
     "output_type": "execute_result"
    }
   ],
   "source": [
    "# Словари имеют хороший метод repr:\n",
    "car2"
   ]
  },
  {
   "cell_type": "code",
   "execution_count": 88,
   "id": "16353274-6cdf-4f13-9c5c-c573fb86a514",
   "metadata": {},
   "outputs": [
    {
     "data": {
      "text/plain": [
       "40231"
      ]
     },
     "execution_count": 88,
     "metadata": {},
     "output_type": "execute_result"
    }
   ],
   "source": [
    "# Получить пробег:\n",
    "car2['пробег']"
   ]
  },
  {
   "cell_type": "code",
   "execution_count": 89,
   "id": "9fa320ab-d55f-4aa8-bc61-77462cd113c1",
   "metadata": {},
   "outputs": [
    {
     "data": {
      "text/plain": [
       "{'цвет': 'синий',\n",
       " 'пробег': 12,\n",
       " 'автомат': False,\n",
       " 'лобовое стекло': 'треснутое'}"
      ]
     },
     "execution_count": 89,
     "metadata": {},
     "output_type": "execute_result"
    }
   ],
   "source": [
    "# Словари изменяемы:\n",
    "car2['пробег'] = 12\n",
    "car2['лобовое стекло'] = 'треснутое'\n",
    "car2"
   ]
  },
  {
   "cell_type": "code",
   "execution_count": 90,
   "id": "84ef6991-fae5-47ed-ab73-564ff6e0779d",
   "metadata": {},
   "outputs": [],
   "source": [
    "# Отсутствует защита от неправильных имен полей # или отсутствующих/лишних полей:\n",
    "car3 = {\n",
    "    'цвет': 'зеленый',\n",
    "    'автомат': False,\n",
    "    'лобовое стекло': 'треснутое',\n",
    "}\n"
   ]
  },
  {
   "cell_type": "markdown",
   "id": "e40ac2ca-602b-4490-b5b4-f09c55bd4bc5",
   "metadata": {},
   "source": [
    "### tuple — неизменяемые группы объектов\n",
    "\n",
    "Кортежи в Python представляют собой простые структуры данных, пред- назначенные для группирования произвольных объектов1. Кортежи не- изменяемы — после их создания их нельзя исправить.\n",
    "\n",
    "С точки зрения производительности кортежи занимают чуть меньше оперативной памяти, чем списки в Python2, и к тому же быстрее созда- ются.\n",
    "\n",
    "Как вы видите в приведенном ниже результате дизассемблирования байткода, конструирование кортежной константы занимает всего один код операции LOAD_CONST, в то время как конструирование объекта-списка с одинаковым содержимым требует еще нескольких операций:\n"
   ]
  },
  {
   "cell_type": "code",
   "execution_count": 91,
   "id": "1b16c52e-3ec1-461a-9143-6666dfed41d7",
   "metadata": {},
   "outputs": [],
   "source": [
    "import dis"
   ]
  },
  {
   "cell_type": "code",
   "execution_count": 92,
   "id": "963d771a-24e7-47fc-a7ef-63214a6950ab",
   "metadata": {},
   "outputs": [
    {
     "name": "stdout",
     "output_type": "stream",
     "text": [
      "  1           0 LOAD_CONST               0 ((23, 'a', 'b', 'c'))\n",
      "              2 RETURN_VALUE\n"
     ]
    }
   ],
   "source": [
    "dis.dis(compile(\"(23, 'a', 'b', 'c')\", '', 'eval'))"
   ]
  },
  {
   "cell_type": "code",
   "execution_count": 93,
   "id": "8a2e26f1-d4c9-47d9-82d6-c433d778a876",
   "metadata": {},
   "outputs": [
    {
     "name": "stdout",
     "output_type": "stream",
     "text": [
      "  1           0 BUILD_LIST               0\n",
      "              2 LOAD_CONST               0 ((23, 'a', 'b', 'c'))\n",
      "              4 LIST_EXTEND              1\n",
      "              6 RETURN_VALUE\n"
     ]
    }
   ],
   "source": [
    "dis.dis(compile(\"[23, 'a', 'b', 'c']\", '', 'eval'))"
   ]
  },
  {
   "cell_type": "markdown",
   "id": "a258bfa8-f44b-413a-9557-4e615d808e5e",
   "metadata": {},
   "source": [
    "Однако вам не стоит особенно налегать на эти различия. На практике разница в производительности часто будет незначительной, и попытка выжать из программы больше эффективности, переключаясь со списков на кортежи, вероятно, будет нерациональной.\n",
    "\n",
    "Возможным недостатком простых кортежей является то, что данные, которые вы в них храните, извлекаются только путем доступа к корте- жу через целочисленные индексы. У вас не получится назначить имена отдельным хранящимся в кортеже свойствам. А это может сказаться на удобочитаемости исходного кода.\n",
    "\n",
    "Кроме того, кортеж всегда является ситуативной структурой: трудно гарантировать, что у двух кортежей будет одинаковое количество полей и одинаковые хранящиеся в них свойства.\n",
    "\n",
    "А это — раздолье для ошибок «по недоразумению», например для раз- ночтений порядка следования полей. Поэтому я рекомендую держать минимальное количество полей в кортеже."
   ]
  },
  {
   "cell_type": "code",
   "execution_count": 94,
   "id": "a8cc9c6d-e799-4383-a83c-1fbaa011138e",
   "metadata": {},
   "outputs": [],
   "source": [
    "# Поля: цвет, пробег, автомат\n",
    "car1 = ('красный', 3812.4, True)\n",
    "car2 = ('синий', 40231.0, False)"
   ]
  },
  {
   "cell_type": "code",
   "execution_count": 95,
   "id": "2b000b43-132e-444f-a3ee-b5341782b017",
   "metadata": {},
   "outputs": [
    {
     "data": {
      "text/plain": [
       "('красный', 3812.4, True)"
      ]
     },
     "execution_count": 95,
     "metadata": {},
     "output_type": "execute_result"
    }
   ],
   "source": [
    "# Экземпляры кортежа имеют хороший метод repr:\n",
    "car1"
   ]
  },
  {
   "cell_type": "code",
   "execution_count": 96,
   "id": "8bfaac89-0b6a-41dd-8260-8aaccabd3026",
   "metadata": {},
   "outputs": [
    {
     "data": {
      "text/plain": [
       "('синий', 40231.0, False)"
      ]
     },
     "execution_count": 96,
     "metadata": {},
     "output_type": "execute_result"
    }
   ],
   "source": [
    "car2"
   ]
  },
  {
   "cell_type": "code",
   "execution_count": 97,
   "id": "82287a10-0aa7-46d9-adf4-96fd2ec94a9b",
   "metadata": {},
   "outputs": [
    {
     "data": {
      "text/plain": [
       "40231.0"
      ]
     },
     "execution_count": 97,
     "metadata": {},
     "output_type": "execute_result"
    }
   ],
   "source": [
    "# Получить пробег:\n",
    "car2[1]"
   ]
  },
  {
   "cell_type": "code",
   "execution_count": 98,
   "id": "295f1917-0bf9-4041-a96b-5fe79ea7e4e3",
   "metadata": {},
   "outputs": [
    {
     "ename": "TypeError",
     "evalue": "'tuple' object does not support item assignment",
     "output_type": "error",
     "traceback": [
      "\u001b[0;31m---------------------------------------------------------------------------\u001b[0m",
      "\u001b[0;31mTypeError\u001b[0m                                 Traceback (most recent call last)",
      "\u001b[0;32m/var/folders/zz/t0wj_9090rzgb5q9crcqfj5m0000gn/T/ipykernel_1954/2965826194.py\u001b[0m in \u001b[0;36m<module>\u001b[0;34m\u001b[0m\n\u001b[1;32m      1\u001b[0m \u001b[0;31m# Кортежи неизменяемы:\u001b[0m\u001b[0;34m\u001b[0m\u001b[0;34m\u001b[0m\u001b[0m\n\u001b[0;32m----> 2\u001b[0;31m \u001b[0mcar2\u001b[0m\u001b[0;34m[\u001b[0m\u001b[0;36m1\u001b[0m\u001b[0;34m]\u001b[0m \u001b[0;34m=\u001b[0m \u001b[0;36m12\u001b[0m\u001b[0;34m\u001b[0m\u001b[0;34m\u001b[0m\u001b[0m\n\u001b[0m",
      "\u001b[0;31mTypeError\u001b[0m: 'tuple' object does not support item assignment"
     ]
    }
   ],
   "source": [
    "# Кортежи неизменяемы:\n",
    "car2[1] = 12"
   ]
  },
  {
   "cell_type": "code",
   "execution_count": 99,
   "id": "dc2799d1-e3f7-4356-9663-7f6f1150e78e",
   "metadata": {},
   "outputs": [],
   "source": [
    "# Нет защиты от неверных имен полей\n",
    "# или отсутствующих/лишних полей:\n",
    "car3 = (3431.5, 'зеленый', True, 'серебряный')"
   ]
  },
  {
   "cell_type": "markdown",
   "id": "758e7a4d-d248-4f3c-ab77-633b94b48a62",
   "metadata": {},
   "source": [
    "### Написание собственного класса — больше работы, больше контроля\n",
    "\n",
    "Классы позволяют определять «шаблоны» многократного использования для объектов данных, причем эти шаблоны гарантируют, что каждый объ- ект предоставляет одинаковый набор полей.\n",
    "\n",
    "Использование обычных классов Python в качестве типов данных запись вполне возможно, но это также влечет за собой ручную работу, связанную с получением удобных функциональных возможностей у других реали- заций. Например, добавление новых полей в конструктор __init__ будет многословным и займет время.\n",
    "\n",
    "Кроме того, принятое по умолчанию строковое представление объек- тов-экземпляров, создаваемых на основе собственных классов, не очень полезно. Чтобы это исправить, вам, вероятно, придется добавить свой собственный метод __repr__1, который, как правило, довольно многосло- вен и подлежит обновлению всякий раз, когда вы добавляете новое поле.\n",
    "\n",
    "Хранящиеся в классах поля могут изменяться, и новые поля могут до- бавляться свободно, нравится вам это или нет. С помощью декоратора @property можно обеспечить себе большее управление и создавать поля с доступом только для чтения2, но это требует написания большего коли- чества связующего кода.\n",
    "\n",
    "Написание собственного класса — отличная возможность, когда в объек- ты-записи требуется добавить бизнес-логику и поведение с использовани- ем методов. Однако это означает, что такие объекты технически больше не являются простыми объектами данных."
   ]
  },
  {
   "cell_type": "code",
   "execution_count": 100,
   "id": "df3422d7-787c-42ee-baf3-a21645629100",
   "metadata": {},
   "outputs": [],
   "source": [
    "class Car:\n",
    "    def __init__(self, color, mileage, automatic):\n",
    "        self.color = color\n",
    "        self.mileage = mileage\n",
    "        self.automatic = automatic"
   ]
  },
  {
   "cell_type": "code",
   "execution_count": 101,
   "id": "ad4a46f9-1020-4545-9280-01673c756804",
   "metadata": {},
   "outputs": [],
   "source": [
    "car1 = Car('красный', 3812.4, True)"
   ]
  },
  {
   "cell_type": "code",
   "execution_count": 102,
   "id": "d2950bf9-ccb8-465d-bc57-82b81b02dbc8",
   "metadata": {},
   "outputs": [],
   "source": [
    "car2 = Car('синий', 40231.0, False)"
   ]
  },
  {
   "cell_type": "code",
   "execution_count": 103,
   "id": "da499069-b047-4eda-944d-4a5f7b793933",
   "metadata": {},
   "outputs": [
    {
     "data": {
      "text/plain": [
       "40231.0"
      ]
     },
     "execution_count": 103,
     "metadata": {},
     "output_type": "execute_result"
    }
   ],
   "source": [
    "# Получить пробег:\n",
    "car2.mileage"
   ]
  },
  {
   "cell_type": "code",
   "execution_count": 104,
   "id": "e58adb8d-53b7-45a3-967e-cf51c22408ec",
   "metadata": {},
   "outputs": [],
   "source": [
    "# Классы изменяемы:\n",
    "car2.mileage = 12\n",
    "car2.windshield = 'треснутое'"
   ]
  },
  {
   "cell_type": "code",
   "execution_count": 105,
   "id": "35b09470-c6b0-466e-94bd-1df5de0bebf3",
   "metadata": {},
   "outputs": [
    {
     "data": {
      "text/plain": [
       "<__main__.Car at 0x7f831a099e20>"
      ]
     },
     "execution_count": 105,
     "metadata": {},
     "output_type": "execute_result"
    }
   ],
   "source": [
    "# Строковое представление не очень полезно\n",
    "# (приходится добавлять написанный вручную метод __repr__):\n",
    "car1"
   ]
  },
  {
   "cell_type": "markdown",
   "id": "b6028cc3-222b-46a4-911a-61a25b874802",
   "metadata": {},
   "source": [
    "### collections .namedtuple — удобные объекты данных\n",
    "\n",
    "Класс namedtuple, доступный в Python 2.6+, предоставляет расширение встроенного типа данных tuple1. Аналогично определению собственного класса, применение именованного кортежа namedtuple позволяет опре- делять «шаблоны» многократного использования для своих записей, гарантирующие использование правильных имен полей.\n",
    "\n",
    "Именованные кортежи неизменяемы, как и обычные кортежи. Это означа- ет, что вы не можете добавлять новые поля или изменять существующие поля после того, как экземпляр namedtuple был создан.\n",
    "\n",
    "Помимо этого, именованные кортежи являются, скажем так, именован- ными кортежами (named tuples). Доступ к каждому хранящемуся в них объекту можно получить по уникальному идентификатору. Это освобож- дает от необходимости запоминать целочисленные индексы или идти обходными методами, например определять индексы целочисленных констант в качестве мнемокодов.\n",
    "\n",
    "На внутреннем уровне объекты namedtuple реализованы как обычные классы Python. В том, что касается использования оперативной памяти, они тоже «лучше» обычных классов и столь же эффективны с точки зре- ния потребляемой оперативной памяти, что и обычные кортежи:"
   ]
  },
  {
   "cell_type": "code",
   "execution_count": 106,
   "id": "eefc771c-1f19-403a-a1cc-079ace4b775a",
   "metadata": {},
   "outputs": [],
   "source": [
    "from collections import namedtuple\n",
    "from sys import getsizeof"
   ]
  },
  {
   "cell_type": "code",
   "execution_count": 107,
   "id": "b4efd0d3-00b9-48a1-b037-4a161f1de776",
   "metadata": {},
   "outputs": [],
   "source": [
    "p1 = namedtuple('Point', 'x y z')(1, 2, 3)"
   ]
  },
  {
   "cell_type": "code",
   "execution_count": 108,
   "id": "f97cef92-d860-4b92-8c73-70d01c426970",
   "metadata": {},
   "outputs": [],
   "source": [
    "p2 = (1, 2, 3)"
   ]
  },
  {
   "cell_type": "code",
   "execution_count": 109,
   "id": "25652179-67d1-47e7-b680-1acf281fa282",
   "metadata": {},
   "outputs": [
    {
     "data": {
      "text/plain": [
       "64"
      ]
     },
     "execution_count": 109,
     "metadata": {},
     "output_type": "execute_result"
    }
   ],
   "source": [
    "getsizeof(p1)"
   ]
  },
  {
   "cell_type": "code",
   "execution_count": 110,
   "id": "9b7f2659-6c56-40cf-97c9-b2b345553541",
   "metadata": {},
   "outputs": [
    {
     "data": {
      "text/plain": [
       "64"
      ]
     },
     "execution_count": 110,
     "metadata": {},
     "output_type": "execute_result"
    }
   ],
   "source": [
    "getsizeof(p2)"
   ]
  },
  {
   "cell_type": "markdown",
   "id": "8527b56e-495d-4ef4-8d1f-f8d7021abded",
   "metadata": {},
   "source": [
    "Именованные кортежи могут довольно просто привести в порядок ис- ходный код и сделать его более удобочитаемым, обеспечив вашим данным более совершенную структуру.\n",
    "\n",
    "По моему опыту, переход от ситуативных типов данных, таких как словари с фиксированным форматом, к именованным кортежам помогает яснее выражать свои намерения. Нередко, когда я применяю эту рефакториза- цию, каким-то невообразимым образом я прихожу к более совершенному решению проблемы, с которой сталкиваюсь.\n",
    "\n",
    "Использование именованных кортежей вместо неструктурированных кортежей и словарей может облегчить жизнь и моим коллегам, потому что именованные кортежи позволяют раздавать данные в «самодокумен- тированном» виде (в известной степени)."
   ]
  },
  {
   "cell_type": "code",
   "execution_count": 111,
   "id": "f52cd133-3923-4118-a65f-1b6f8c3500f4",
   "metadata": {},
   "outputs": [],
   "source": [
    "from collections import namedtuple"
   ]
  },
  {
   "cell_type": "code",
   "execution_count": 112,
   "id": "361a98bc-0ee2-4177-9443-daa7dfbdf143",
   "metadata": {},
   "outputs": [],
   "source": [
    "Car = namedtuple('Авто' , 'цвет пробег автомат')"
   ]
  },
  {
   "cell_type": "code",
   "execution_count": 113,
   "id": "9627e7f8-d706-4c41-be4d-a87fcb3028fb",
   "metadata": {},
   "outputs": [],
   "source": [
    "car1 = Car('красный', 3812.4, True)"
   ]
  },
  {
   "cell_type": "code",
   "execution_count": 114,
   "id": "31af4f21-3a6f-4c6c-abcd-e026068b9ac7",
   "metadata": {},
   "outputs": [
    {
     "data": {
      "text/plain": [
       "Авто(цвет='красный', пробег=3812.4, автомат=True)"
      ]
     },
     "execution_count": 114,
     "metadata": {},
     "output_type": "execute_result"
    }
   ],
   "source": [
    "# Экземпляры имеют хороший метод repr:\n",
    "car1"
   ]
  },
  {
   "cell_type": "code",
   "execution_count": 115,
   "id": "2bd71f30-1cd7-4b58-bbe1-038112e03f9c",
   "metadata": {},
   "outputs": [
    {
     "data": {
      "text/plain": [
       "3812.4"
      ]
     },
     "execution_count": 115,
     "metadata": {},
     "output_type": "execute_result"
    }
   ],
   "source": [
    "# Доступ к полям:\n",
    "car1.пробег"
   ]
  },
  {
   "cell_type": "code",
   "execution_count": 116,
   "id": "126aeff6-faed-43e5-8900-c60465464ef7",
   "metadata": {},
   "outputs": [
    {
     "ename": "AttributeError",
     "evalue": "can't set attribute",
     "output_type": "error",
     "traceback": [
      "\u001b[0;31m---------------------------------------------------------------------------\u001b[0m",
      "\u001b[0;31mAttributeError\u001b[0m                            Traceback (most recent call last)",
      "\u001b[0;32m/var/folders/zz/t0wj_9090rzgb5q9crcqfj5m0000gn/T/ipykernel_1954/3652760023.py\u001b[0m in \u001b[0;36m<module>\u001b[0;34m\u001b[0m\n\u001b[1;32m      1\u001b[0m \u001b[0;31m# Поля неизменяемы:\u001b[0m\u001b[0;34m\u001b[0m\u001b[0;34m\u001b[0m\u001b[0m\n\u001b[0;32m----> 2\u001b[0;31m \u001b[0mcar1\u001b[0m\u001b[0;34m.\u001b[0m\u001b[0mпробег\u001b[0m \u001b[0;34m=\u001b[0m \u001b[0;36m12\u001b[0m\u001b[0;34m\u001b[0m\u001b[0;34m\u001b[0m\u001b[0m\n\u001b[0m",
      "\u001b[0;31mAttributeError\u001b[0m: can't set attribute"
     ]
    }
   ],
   "source": [
    "# Поля неизменяемы:\n",
    "car1.пробег = 12"
   ]
  },
  {
   "cell_type": "code",
   "execution_count": 117,
   "id": "17c8820a-e7d6-466c-a311-91e3c3690ae8",
   "metadata": {},
   "outputs": [
    {
     "ename": "AttributeError",
     "evalue": "'Авто' object has no attribute 'лобовое_стекло'",
     "output_type": "error",
     "traceback": [
      "\u001b[0;31m---------------------------------------------------------------------------\u001b[0m",
      "\u001b[0;31mAttributeError\u001b[0m                            Traceback (most recent call last)",
      "\u001b[0;32m/var/folders/zz/t0wj_9090rzgb5q9crcqfj5m0000gn/T/ipykernel_1954/3956738745.py\u001b[0m in \u001b[0;36m<module>\u001b[0;34m\u001b[0m\n\u001b[0;32m----> 1\u001b[0;31m \u001b[0mcar1\u001b[0m\u001b[0;34m.\u001b[0m\u001b[0mлобовое_стекло\u001b[0m \u001b[0;34m=\u001b[0m \u001b[0;34m'треснутое'\u001b[0m\u001b[0;34m\u001b[0m\u001b[0;34m\u001b[0m\u001b[0m\n\u001b[0m",
      "\u001b[0;31mAttributeError\u001b[0m: 'Авто' object has no attribute 'лобовое_стекло'"
     ]
    }
   ],
   "source": [
    "car1.лобовое_стекло = 'треснутое'"
   ]
  },
  {
   "cell_type": "markdown",
   "id": "9c6a6705-2ce8-4f79-bc79-f74a6207a589",
   "metadata": {},
   "source": [
    "### typing .NamedTuple — усовершенствованные именованные кортежи\n",
    "\n",
    "Этот класс был добавлен в Python 3.6 и является младшим братом класса namedtuple в модуле collections1. Он очень похож на namedtuple, и его главное отличие состоит в том, что у него есть обновленный синтаксис для определения новых типов записей и добавленная поддержка подсказок при вводе исходного кода.\n",
    "\n",
    "Кроме того, обратите внимание, что сигнатуры типов не поддерживаются без отдельного инструмента проверки типов, такого как mypy2. Но даже без инструментальной поддержки они могут предоставлять полезные под- сказки для других программистов (или могут быть ужасно запутанными, если подсказки в отношении типов становятся устаревшими).\n"
   ]
  },
  {
   "cell_type": "code",
   "execution_count": 118,
   "id": "aba7a3c8-fad3-4759-bf75-a3b7ee1fc9fd",
   "metadata": {},
   "outputs": [],
   "source": [
    "from typing import NamedTuple"
   ]
  },
  {
   "cell_type": "code",
   "execution_count": 119,
   "id": "bb52a149-8f4e-4449-88a6-da9cc88718ec",
   "metadata": {},
   "outputs": [],
   "source": [
    "class Car(NamedTuple):\n",
    "    цвет: str\n",
    "    пробег: float\n",
    "    автомат: bool"
   ]
  },
  {
   "cell_type": "code",
   "execution_count": 120,
   "id": "4b565712-b953-4123-9142-1ca05a670a39",
   "metadata": {},
   "outputs": [],
   "source": [
    "car1 = Car('красный', 3812.4, True)"
   ]
  },
  {
   "cell_type": "code",
   "execution_count": 121,
   "id": "5f97a2e7-c890-4258-b767-1a79916c7917",
   "metadata": {},
   "outputs": [
    {
     "data": {
      "text/plain": [
       "Car(цвет='красный', пробег=3812.4, автомат=True)"
      ]
     },
     "execution_count": 121,
     "metadata": {},
     "output_type": "execute_result"
    }
   ],
   "source": [
    "# Экземпляры имеют хороший метод repr:\n",
    "car1"
   ]
  },
  {
   "cell_type": "code",
   "execution_count": 122,
   "id": "af35a8bf-b8fe-4a84-ae8f-f9601ac34fe2",
   "metadata": {},
   "outputs": [
    {
     "data": {
      "text/plain": [
       "3812.4"
      ]
     },
     "execution_count": 122,
     "metadata": {},
     "output_type": "execute_result"
    }
   ],
   "source": [
    "# Доступ к полям:\n",
    "car1.пробег"
   ]
  },
  {
   "cell_type": "code",
   "execution_count": 123,
   "id": "97038afd-2d28-491c-a594-f5b339691407",
   "metadata": {},
   "outputs": [
    {
     "ename": "AttributeError",
     "evalue": "can't set attribute",
     "output_type": "error",
     "traceback": [
      "\u001b[0;31m---------------------------------------------------------------------------\u001b[0m",
      "\u001b[0;31mAttributeError\u001b[0m                            Traceback (most recent call last)",
      "\u001b[0;32m/var/folders/zz/t0wj_9090rzgb5q9crcqfj5m0000gn/T/ipykernel_1954/3652760023.py\u001b[0m in \u001b[0;36m<module>\u001b[0;34m\u001b[0m\n\u001b[1;32m      1\u001b[0m \u001b[0;31m# Поля неизменяемы:\u001b[0m\u001b[0;34m\u001b[0m\u001b[0;34m\u001b[0m\u001b[0m\n\u001b[0;32m----> 2\u001b[0;31m \u001b[0mcar1\u001b[0m\u001b[0;34m.\u001b[0m\u001b[0mпробег\u001b[0m \u001b[0;34m=\u001b[0m \u001b[0;36m12\u001b[0m\u001b[0;34m\u001b[0m\u001b[0;34m\u001b[0m\u001b[0m\n\u001b[0m",
      "\u001b[0;31mAttributeError\u001b[0m: can't set attribute"
     ]
    }
   ],
   "source": [
    "# Поля неизменяемы:\n",
    "car1.пробег = 12"
   ]
  },
  {
   "cell_type": "code",
   "execution_count": 124,
   "id": "8ba7f376-db2f-467b-9e2e-bf900b46639d",
   "metadata": {},
   "outputs": [
    {
     "ename": "AttributeError",
     "evalue": "'Car' object has no attribute 'лобовое_стекло'",
     "output_type": "error",
     "traceback": [
      "\u001b[0;31m---------------------------------------------------------------------------\u001b[0m",
      "\u001b[0;31mAttributeError\u001b[0m                            Traceback (most recent call last)",
      "\u001b[0;32m/var/folders/zz/t0wj_9090rzgb5q9crcqfj5m0000gn/T/ipykernel_1954/3956738745.py\u001b[0m in \u001b[0;36m<module>\u001b[0;34m\u001b[0m\n\u001b[0;32m----> 1\u001b[0;31m \u001b[0mcar1\u001b[0m\u001b[0;34m.\u001b[0m\u001b[0mлобовое_стекло\u001b[0m \u001b[0;34m=\u001b[0m \u001b[0;34m'треснутое'\u001b[0m\u001b[0;34m\u001b[0m\u001b[0;34m\u001b[0m\u001b[0m\n\u001b[0m",
      "\u001b[0;31mAttributeError\u001b[0m: 'Car' object has no attribute 'лобовое_стекло'"
     ]
    }
   ],
   "source": [
    "car1.лобовое_стекло = 'треснутое'"
   ]
  },
  {
   "cell_type": "code",
   "execution_count": 125,
   "id": "368ebac2-1e3e-4177-8d49-0407b2dac59d",
   "metadata": {},
   "outputs": [
    {
     "data": {
      "text/plain": [
       "Car(цвет='красный', пробег='НЕВЕЩЕСТВЕННЫЙ', автомат=99)"
      ]
     },
     "execution_count": 125,
     "metadata": {},
     "output_type": "execute_result"
    }
   ],
   "source": [
    "# Аннотации типа не поддерживаются без отдельного\n",
    "# инструмента проверки типов, такого как mypy:\n",
    "Car('красный', 'НЕВЕЩЕСТВЕННЫЙ', 99)"
   ]
  },
  {
   "cell_type": "markdown",
   "id": "3117e71a-ef33-43b8-98dd-d83b7cdeeb96",
   "metadata": {},
   "source": [
    "### struct .Struct — сериализованные С-структуры\n",
    "\n",
    "Класс struct.Struct1 выполняет преобразование между значениями Python и структурами C, сериализованными в форму объектов Python bytes. Например, он может использоваться для обработки двоичных данных, хранящихся в файлах или поступающих из сетевых соединений.\n",
    "\n",
    "Структуры Struct определяются с использованием форматного строко- подобного мини-языка, который позволяет определять расположение различных типов данных C, таких как char, int и long, а также их без- знаковых вариантов.\n",
    "\n",
    "Сериализованные структуры редко используются для представления объ- ектов данных, предназначенных для обработки исключительно внутри кода Python. Они нужны в первую очередь в качестве формата обмена данными, а не как способ их хранения в оперативной памяти, применяе- мый только программным кодом Python.\n",
    "\n",
    "В некоторых случаях упаковка примитивных данных в структуры по- зволяет уменьшить объем потребляемой оперативной памяти, чем их хранение в других типах данных. Однако чаще всего такая работа будет\n",
    "довольно продвинутой (и, вероятно, ненужной) оптимизацией.\n"
   ]
  },
  {
   "cell_type": "code",
   "execution_count": 126,
   "id": "91caa6cd-a838-4ba9-8cc8-ba10b393484b",
   "metadata": {},
   "outputs": [],
   "source": [
    "from struct import Struct"
   ]
  },
  {
   "cell_type": "code",
   "execution_count": 127,
   "id": "20ea254a-7cd3-4f78-a2b0-0f590241ae1c",
   "metadata": {},
   "outputs": [],
   "source": [
    "MyStruct = Struct('i?f')"
   ]
  },
  {
   "cell_type": "code",
   "execution_count": 128,
   "id": "e0064fb1-4b88-480d-aeb2-8143078f9ac9",
   "metadata": {},
   "outputs": [],
   "source": [
    "data = MyStruct.pack(23, False, 42.0)"
   ]
  },
  {
   "cell_type": "code",
   "execution_count": 129,
   "id": "8e935f9b-9720-49b1-b137-ce04bd04e263",
   "metadata": {},
   "outputs": [
    {
     "data": {
      "text/plain": [
       "b'\\x17\\x00\\x00\\x00\\x00\\x00\\x00\\x00\\x00\\x00(B'"
      ]
     },
     "execution_count": 129,
     "metadata": {},
     "output_type": "execute_result"
    }
   ],
   "source": [
    "# Вы получаете двоичный объект данных (blob):\n",
    "data"
   ]
  },
  {
   "cell_type": "code",
   "execution_count": 130,
   "id": "4f322e2d-14ed-45e6-9003-64c9a0f3a329",
   "metadata": {},
   "outputs": [
    {
     "data": {
      "text/plain": [
       "(23, False, 42.0)"
      ]
     },
     "execution_count": 130,
     "metadata": {},
     "output_type": "execute_result"
    }
   ],
   "source": [
    "# BLOB-объекты можно снова распаковать:\n",
    "MyStruct.unpack(data)"
   ]
  },
  {
   "cell_type": "markdown",
   "id": "7716d24b-d631-4cce-9e02-7e2aa720ca7b",
   "metadata": {},
   "source": [
    "### types .SimpleNamespace — причудливый атрибутивный доступ\n",
    "\n",
    "А вот еще один «эзотерический» вариант реализации объектов данных в Python: types.SimpleNamespace1. Этот класс был добавлен в Python 3.3, и он обеспечивает атрибутивный доступ к своему пространству имен.\n",
    "\n",
    "Это означает, что экземпляры SimpleNamespace показывают все свои клю- чи как атрибуты класса. А значит, вы можете использовать «точечный» атрибутивный доступ объект.ключ вместо синтаксиса с индексацией в квадратных скобках объект['ключ'], который применяется обычными словарями. Все экземпляры также по умолчанию включают содержатель- ный метод __repr__.\n",
    "\n",
    "Как видно из его названия, тип SimpleNamespace прост в использовании! Это, в сущности, прославленный словарь, который предоставляет доступ по атрибуту и выдает приличную распечатку. Атрибуты могут свободно добавляться, изменяться и удаляться."
   ]
  },
  {
   "cell_type": "code",
   "execution_count": 131,
   "id": "9e4a9bc5-7134-4299-a917-d029da04105d",
   "metadata": {},
   "outputs": [],
   "source": [
    "from types import SimpleNamespace"
   ]
  },
  {
   "cell_type": "code",
   "execution_count": 132,
   "id": "cbfcbc7c-8004-434a-90b2-9cdf47c29d14",
   "metadata": {},
   "outputs": [],
   "source": [
    "car1 = SimpleNamespace(цвет='красный',\n",
    "                       пробег=3812.4,\n",
    "                       автомат=True)"
   ]
  },
  {
   "cell_type": "code",
   "execution_count": 133,
   "id": "0cd034cb-0fbf-49aa-8f70-258b61ce0f55",
   "metadata": {},
   "outputs": [
    {
     "data": {
      "text/plain": [
       "namespace(цвет='красный', пробег=3812.4, автомат=True)"
      ]
     },
     "execution_count": 133,
     "metadata": {},
     "output_type": "execute_result"
    }
   ],
   "source": [
    "# Метод repr по умолчанию:\n",
    "car1"
   ]
  },
  {
   "cell_type": "code",
   "execution_count": 134,
   "id": "0a4ba854-7012-41aa-bbb0-79afeeb8eeea",
   "metadata": {},
   "outputs": [],
   "source": [
    "# Экземпляры поддерживают атрибутивный доступ и могут изменяться:\n",
    "car1.пробег = 12"
   ]
  },
  {
   "cell_type": "code",
   "execution_count": 135,
   "id": "ca9534b4-5563-4f0a-b639-b2e64f13bc73",
   "metadata": {},
   "outputs": [],
   "source": [
    "car1.лобовое_стекло = 'треснутое'"
   ]
  },
  {
   "cell_type": "code",
   "execution_count": 136,
   "id": "575adf4f-4e3a-4744-9ac1-53933613fc55",
   "metadata": {},
   "outputs": [],
   "source": [
    "del car1.автомат"
   ]
  },
  {
   "cell_type": "code",
   "execution_count": 137,
   "id": "deffd1ae-ffd4-491c-90dd-e1fc2f1e9109",
   "metadata": {},
   "outputs": [
    {
     "data": {
      "text/plain": [
       "namespace(цвет='красный', пробег=12, лобовое_стекло='треснутое')"
      ]
     },
     "execution_count": 137,
     "metadata": {},
     "output_type": "execute_result"
    }
   ],
   "source": [
    "car1"
   ]
  },
  {
   "cell_type": "markdown",
   "id": "d77924ba-2834-47e0-bdb1-bbbd5cd446ba",
   "metadata": {},
   "source": [
    "### Ключевые выводы\n",
    "\n",
    "Итак, какой же тип следует использовать для объектов данных в Python? Как вы убедились, есть целый ряд различных вариантов для реализации записей или объектов данных. Как правило, ваше решение будет зависеть от вашего сценария использования:\n",
    "\n",
    "У вас есть всего несколько (2–3) полей: использование обыкновенного объекта-кортежа может подойти, если порядок следования полей легко запоминается или имена полей излишни. Например, представьте точку (x, y, z) в трехмерном пространстве.\n",
    "\n",
    "Вам нужны неизменяемые поля: в данном случае обыкновенные кортежи, collections.namedtuple и typing.NamedTuple, дадут неплохие возмож- ности для реализации этого типа объекта данных.\n",
    "\n",
    "Вам нужно устранить имена полей, чтобы избежать опечаток: вашими друзьями здесь будут collections.namedtuple и typing.NamedTuple.\n",
    "\n",
    "Вы не хотите усложнять: обыкновенный объект-словарь может быть хорошим вариантом из-за удобного синтаксиса, который сильно напо- минает JSON.\n",
    "\n",
    "Вам нужен полный контроль над вашей структурой данных: самое время написать собственный класс с методами-модификаторами (сеттерами) и методами-получателями (геттерами) @property.\n",
    "\n",
    "Вам нужно добавить в объект поведение (методы): вам следует на- писать собственный класс с нуля либо путем расширения collections. namedtuple или typing.NamedTuple.\n",
    "\n",
    "Вам нужно плотно упаковать данные, чтобы сериализовать их для записи на жесткий диск или отправить их по Сети: самое время навести справки по поводу struct.Struct, потому что этот объект представляет собой превосходный вариант использования.\n",
    "\n",
    "Если вы ищете безопасный вариант, который можно использовать по умолчанию, то моя общая рекомендация в отношении реализации про- стой записи, структуры или объекта данных в Python будет следующей: использовать collections.namedtuple в Python 2.x и его младшего брата, typing.NamedTuple, в Python 3.\n",
    "\n",
    "### 5 .4 . Множества и мультимножества\n",
    "\n",
    "В этом разделе вы увидите, как в Python реализуются такие структуры данных, как изменяемое и неизменяемое множество и мультимножество (или тип bag, то есть мешок), с использованием встроенных типов данных и классов стандартной библиотеки. Однако сначала давайте составим краткое резюме по поводу того, что такое множество.\n",
    "\n",
    "Множество представляет собой неупорядоченную коллекцию объектов, которая не допускает повторяющихся элементов. Как правило, множе- ства используются для быстрой проверки принадлежности значения множеству, вставки новых значений в множество, удаления значений из множества и вычисления на множествах операций, таких как объединение или пересечение двух множеств.\n",
    "\n",
    "Предполагается, что в «надлежащей» реализации множества операции проверки на принадлежность будут выполняться за быстрое O(1) время. Операции объединения, пересечения, разности и взятия подмножеств должны в среднем занимать O(n) времени. В реализациях множества, включенных в стандартную библиотеку Python, данные характеристики производительности соблюдаются1.\n",
    "\n",
    "Точно так же, как и словари, множества в Python обрабатываются особым образом и имеют свой синтаксический сахар, упрощающий их создание. Например, синтаксис выражения с фигурными скобками для множеств и конструкция включения в множество позволяют удобно определять новые экземпляры множеств:\n",
    "\n",
    "vowels = {'a', 'e', 'i', 'o', 'u'}\n",
    "squares = {x * x for x in range(10)}\n",
    "\n",
    "Тем не менее следует быть осторожными: для того чтобы создать пу- стое множество, вам нужно вызвать конструктор set(). Использование фигурных скобок {} неоднозначно и вместо этого создаст пустой сло- варь.\n",
    "Python и его стандартная библиотека предоставляют несколько реализа- ций множества. Давайте их рассмотрим.\n",
    "\n",
    "### set — ваше дежурное множество\n",
    "\n",
    "Это встроенная в Python реализация множества1. Тип set изменяемый и допускает динамическую вставку и удаление элементов.\n",
    "\n",
    "Множества Python set подкрепляются типом данных dict и обладают одинаковыми характеристиками производительности. Любой хешируе- мый объект может храниться в множестве set2."
   ]
  },
  {
   "cell_type": "code",
   "execution_count": 138,
   "id": "1fc42b5d-820b-43bb-886c-063bdca73846",
   "metadata": {},
   "outputs": [],
   "source": [
    "vowels = {'а', 'о', 'э', 'и', 'у', 'ы', 'е', 'е', 'ю', 'я'}"
   ]
  },
  {
   "cell_type": "code",
   "execution_count": 139,
   "id": "f243019d-099d-4227-abd2-af23ecba68a5",
   "metadata": {},
   "outputs": [
    {
     "data": {
      "text/plain": [
       "True"
      ]
     },
     "execution_count": 139,
     "metadata": {},
     "output_type": "execute_result"
    }
   ],
   "source": [
    "'э' in vowels"
   ]
  },
  {
   "cell_type": "code",
   "execution_count": 140,
   "id": "c94d42df-46cb-4838-b2a5-2198fa977b4f",
   "metadata": {},
   "outputs": [],
   "source": [
    "letters = set('алиса')"
   ]
  },
  {
   "cell_type": "code",
   "execution_count": 141,
   "id": "158005cf-b35e-4456-86b8-c76b4e2d3914",
   "metadata": {},
   "outputs": [
    {
     "data": {
      "text/plain": [
       "{'а', 'и'}"
      ]
     },
     "execution_count": 141,
     "metadata": {},
     "output_type": "execute_result"
    }
   ],
   "source": [
    "letters.intersection(vowels)"
   ]
  },
  {
   "cell_type": "code",
   "execution_count": 142,
   "id": "413bc4f1-2d0c-487c-967c-a4a528441840",
   "metadata": {},
   "outputs": [],
   "source": [
    "vowels.add('х')"
   ]
  },
  {
   "cell_type": "code",
   "execution_count": 143,
   "id": "2bc4369c-2f2b-44e1-aaf7-7025b54d4271",
   "metadata": {},
   "outputs": [
    {
     "data": {
      "text/plain": [
       "{'а', 'е', 'и', 'о', 'у', 'х', 'ы', 'э', 'ю', 'я'}"
      ]
     },
     "execution_count": 143,
     "metadata": {},
     "output_type": "execute_result"
    }
   ],
   "source": [
    "vowels"
   ]
  },
  {
   "cell_type": "code",
   "execution_count": 144,
   "id": "85a48622-658c-4951-b446-9ca1d7ddef33",
   "metadata": {},
   "outputs": [
    {
     "data": {
      "text/plain": [
       "10"
      ]
     },
     "execution_count": 144,
     "metadata": {},
     "output_type": "execute_result"
    }
   ],
   "source": [
    "len(vowels)"
   ]
  },
  {
   "cell_type": "markdown",
   "id": "6f3cbb27-50fb-47f6-91ce-3760a573ecc9",
   "metadata": {},
   "source": [
    "### frozenset — неизменяемые множества\n",
    "\n",
    "Класс frozenset реализует неизменяемую версию множества set. Такое множество не может быть изменено после того, как оно было сконстру- ировано1. Множества frozenset статичны и допускают только операции с запросами в отношении своих элементов (никаких вставок или удале- ний). Поскольку множества frozenset статичны и хешируемы, они могут использоваться в качестве ключей словаря или в качестве элементов другого множества, а это то, что невозможно с обычными (изменяемыми) объектами-множествами set.\n"
   ]
  },
  {
   "cell_type": "code",
   "execution_count": 145,
   "id": "0635b983-6fd5-4e7a-a557-1181f37631d6",
   "metadata": {},
   "outputs": [
    {
     "ename": "AttributeError",
     "evalue": "'frozenset' object has no attribute 'add'",
     "output_type": "error",
     "traceback": [
      "\u001b[0;31m---------------------------------------------------------------------------\u001b[0m",
      "\u001b[0;31mAttributeError\u001b[0m                            Traceback (most recent call last)",
      "\u001b[0;32m/var/folders/zz/t0wj_9090rzgb5q9crcqfj5m0000gn/T/ipykernel_1954/3800472095.py\u001b[0m in \u001b[0;36m<module>\u001b[0;34m\u001b[0m\n\u001b[1;32m      1\u001b[0m \u001b[0mvowels\u001b[0m \u001b[0;34m=\u001b[0m \u001b[0mfrozenset\u001b[0m\u001b[0;34m(\u001b[0m\u001b[0;34m{\u001b[0m\u001b[0;34m'а'\u001b[0m\u001b[0;34m,\u001b[0m \u001b[0;34m'о'\u001b[0m\u001b[0;34m,\u001b[0m \u001b[0;34m'э'\u001b[0m\u001b[0;34m,\u001b[0m \u001b[0;34m'и'\u001b[0m\u001b[0;34m,\u001b[0m \u001b[0;34m'у'\u001b[0m\u001b[0;34m,\u001b[0m \u001b[0;34m'ы'\u001b[0m\u001b[0;34m,\u001b[0m \u001b[0;34m'е'\u001b[0m\u001b[0;34m,\u001b[0m \u001b[0;34m'е'\u001b[0m\u001b[0;34m,\u001b[0m \u001b[0;34m'ю'\u001b[0m\u001b[0;34m,\u001b[0m\u001b[0;34m'я'\u001b[0m\u001b[0;34m}\u001b[0m\u001b[0;34m)\u001b[0m\u001b[0;34m\u001b[0m\u001b[0;34m\u001b[0m\u001b[0m\n\u001b[0;32m----> 2\u001b[0;31m \u001b[0mvowels\u001b[0m\u001b[0;34m.\u001b[0m\u001b[0madd\u001b[0m\u001b[0;34m(\u001b[0m\u001b[0;34m'р'\u001b[0m\u001b[0;34m)\u001b[0m\u001b[0;34m\u001b[0m\u001b[0;34m\u001b[0m\u001b[0m\n\u001b[0m",
      "\u001b[0;31mAttributeError\u001b[0m: 'frozenset' object has no attribute 'add'"
     ]
    }
   ],
   "source": [
    "vowels = frozenset({'а', 'о', 'э', 'и', 'у', 'ы', 'е', 'е', 'ю','я'})\n",
    "vowels.add('р')"
   ]
  },
  {
   "cell_type": "code",
   "execution_count": 146,
   "id": "3809fbdb-0fde-4b48-a871-46a2d8a70def",
   "metadata": {},
   "outputs": [],
   "source": [
    "# Множества frozenset хешируемы и могут\n",
    "# использоваться в качестве ключей словаря:\n",
    "d = { frozenset({1, 2, 3}): 'привет' }"
   ]
  },
  {
   "cell_type": "code",
   "execution_count": 147,
   "id": "36a3001c-8b17-4e2d-8e1c-8de185824bce",
   "metadata": {},
   "outputs": [
    {
     "data": {
      "text/plain": [
       "'привет'"
      ]
     },
     "execution_count": 147,
     "metadata": {},
     "output_type": "execute_result"
    }
   ],
   "source": [
    "d[frozenset({1, 2, 3})]"
   ]
  },
  {
   "cell_type": "markdown",
   "id": "19243086-bf6a-4b7b-b236-b71d32636fb2",
   "metadata": {},
   "source": [
    "### collections .Counter — мультимножества\n",
    "\n",
    "Класс collections.Counter стандартной библиотеки Python реализует тип «мультимножество» (или «мешок»), который допускает неоднократ- ное появление элемента в множестве2.\n",
    "\n",
    "Это бывает полезно, если вам нужно вести учет не только того, при- надлежит ли элемент множеству, но и того, сколько раз он был включен в множество:"
   ]
  },
  {
   "cell_type": "code",
   "execution_count": 148,
   "id": "369fbaac-21dc-4423-aa55-ccf58ba070fe",
   "metadata": {},
   "outputs": [],
   "source": [
    "from collections import Counter"
   ]
  },
  {
   "cell_type": "code",
   "execution_count": 149,
   "id": "22f28401-edf6-4250-8d50-929e9ad58e4f",
   "metadata": {},
   "outputs": [],
   "source": [
    "inventory = Counter()"
   ]
  },
  {
   "cell_type": "code",
   "execution_count": 150,
   "id": "f5ee3e9d-3fea-40ae-bdf2-1ebb7af2d801",
   "metadata": {},
   "outputs": [],
   "source": [
    "loot = {'клинок': 1, 'хлеб': 3}"
   ]
  },
  {
   "cell_type": "code",
   "execution_count": 151,
   "id": "83855fb4-8eab-4db4-a881-fbc1106e6fc3",
   "metadata": {},
   "outputs": [],
   "source": [
    "inventory.update(loot)"
   ]
  },
  {
   "cell_type": "code",
   "execution_count": 152,
   "id": "59179579-7995-438e-9019-10fce0f8de1a",
   "metadata": {},
   "outputs": [
    {
     "data": {
      "text/plain": [
       "Counter({'клинок': 1, 'хлеб': 3})"
      ]
     },
     "execution_count": 152,
     "metadata": {},
     "output_type": "execute_result"
    }
   ],
   "source": [
    "inventory"
   ]
  },
  {
   "cell_type": "code",
   "execution_count": 153,
   "id": "e885d796-9207-45f6-829e-8d24e24942d2",
   "metadata": {},
   "outputs": [],
   "source": [
    "more_loot = {'клинок': 1, 'яблоко': 1}"
   ]
  },
  {
   "cell_type": "code",
   "execution_count": 154,
   "id": "a88b492f-17f6-4a1b-9b12-3db8ba55e627",
   "metadata": {},
   "outputs": [],
   "source": [
    "inventory.update(more_loot)"
   ]
  },
  {
   "cell_type": "code",
   "execution_count": 155,
   "id": "e3aa3f41-2344-4d2d-8d3a-315baad62423",
   "metadata": {},
   "outputs": [
    {
     "data": {
      "text/plain": [
       "Counter({'клинок': 2, 'хлеб': 3, 'яблоко': 1})"
      ]
     },
     "execution_count": 155,
     "metadata": {},
     "output_type": "execute_result"
    }
   ],
   "source": [
    "inventory"
   ]
  },
  {
   "cell_type": "markdown",
   "id": "9251e4d4-f65f-4662-8873-bda77972c12a",
   "metadata": {},
   "source": [
    "Приведу одно предостережение относительно класса Counter: следует со- блюдать осторожность во время подсчета количества элементов в объекте Counter. В результате вызова функции len() возвращается количество уникальных элементов в мультимножестве, тогда как общее количество элементов может быть получено с использованием функции sum:\n"
   ]
  },
  {
   "cell_type": "code",
   "execution_count": 156,
   "id": "33d1b551-afb8-495a-a87d-466c8a351e4a",
   "metadata": {},
   "outputs": [
    {
     "data": {
      "text/plain": [
       "3"
      ]
     },
     "execution_count": 156,
     "metadata": {},
     "output_type": "execute_result"
    }
   ],
   "source": [
    "# Количество уникальных элементов\n",
    "len(inventory)"
   ]
  },
  {
   "cell_type": "code",
   "execution_count": 158,
   "id": "75ac75ec-eeae-4d0a-bdf6-d851a924a83c",
   "metadata": {},
   "outputs": [
    {
     "data": {
      "text/plain": [
       "6"
      ]
     },
     "execution_count": 158,
     "metadata": {},
     "output_type": "execute_result"
    }
   ],
   "source": [
    "# Общее количество элементов\n",
    "sum(inventory.values())"
   ]
  },
  {
   "cell_type": "markdown",
   "id": "99d96693-2a4b-4d0e-90fb-426b2f48769c",
   "metadata": {},
   "source": [
    "### Ключевые выводы\n",
    "* Множество является еще одной полезной и широко используемой структурой данных, включенной в Python и ее стандартную библио- теку.\n",
    "* Используйте встроенный тип set, когда вы хотите получить изменя- емое множество.\n",
    "* Объекты frozenset хешируемы и могут использоваться в качестве словаря или ключей множества.\n",
    "* Класс collections.Counter реализует структуры данных «мультимно- жество», или «мешок»."
   ]
  },
  {
   "cell_type": "markdown",
   "id": "732f95d0-bee5-4441-be83-a64485960bda",
   "metadata": {},
   "source": [
    "### 5 .5 . Стеки (с дисциплиной доступа LIFO)\n",
    "\n",
    "Стек представляет собой коллекцию объектов, которая поддерживает бы- струю семантику доступа «последним пришел — первым ушел» (LIFO — last in, first out) для вставок и удалений. В отличие от списков или множеств, стеки, как правило, не допускают произвольного доступа к объектам, которые они содержат. Операции вставки и удаления также нередко на- зываются вталкиванием (push) и выталкиванием (pop).\n",
    "\n",
    "Полезной аналогией для стековой структуры данных из реального мира является стопка тарелок:\n",
    "\n",
    "Новые тарелки добавляются на вершину стопки . И поскольку тарелки дорогие и тяжелые, можно взять только самую верхнюю тарелку (метод «последним пришел — первым ушел») . Чтобы добраться до тарелок, которые находятся внизу стопки, необходимо поочередно удалить все тарелки, которые находятся выше .\n",
    "\n",
    "Стеки и очереди похожи. Обе эти структуры данных являются линей- ными коллекциями элементов, и разница между ними состоит в порядке доступа к элементам.\n",
    "\n",
    "В случае с очередью вы удаляете элемент, который был добавлен в нее раньше всех (метод «первым пришел — первым ушел», или FIFO); однако в случае со стеком вы удаляете элемент, который был добавлен в него позже всех (метод «последним пришел — первым ушел», или LIFO).\n",
    "\n",
    "С точки зрения производительности предполагается, что надлежащая реализация стека будет занимать O(1) времени на операции вставки и удаления.\n",
    "\n",
    "Стеки находят широкое применение в алгоритмах, например в синтакси- ческом анализе языка и управлении рабочей памятью времени исполне- ния («стек вызовов»). Короткий и красивый алгоритм с использованием стека представлен поиском в глубину (DFS) на древовидной или графо- вой структуре данных.\n",
    "\n",
    "Python поставляется с несколькими реализациями стека, каждая из которых имеет слегка отличающиеся характеристики. Сейчас мы их рас- смотрим и сравним их характеристики.\n",
    "\n",
    "### list — простые встроенные стеки\n",
    "\n",
    "Встроенный в Python тип list создает нормальную стековую структуру данных, поскольку он поддерживает операции вталкивания и выталкива- ния за амортизируемое O(1) время1.\n",
    "\n",
    "На внутреннем уровне списки Python реализованы как динамические массивы, а значит, при добавлении или удалении элементов им время от времени нужно изменять пространство оперативной памяти для храня- щихся в них элементов. Список выделяет избыточную резервную память, с тем чтобы не каждая операция вталкивания и выталкивания требовала изменения размера памяти, и, как результат, для этих операций вы полу- чаете амортизируемую временную сложность O(1).\n",
    "\n",
    "Недостаток же состоит в том, что это делает показатели их производитель- ности менее надежными, чем стабильные вставки и удаления с временной сложностью O(1), которые обеспечиваются реализацией на основе связ- ного списка (такого, как collections.deque, см. ниже). С другой стороны, списки реально обеспечивают быстрый (со временем O(1)) произвольный доступ к элементам в стеке, и это может быть дополнительным преиму- ществом.\n",
    "\n",
    "Используя списки в качестве стеков, необходимо учитывать одно важное предостережение относительно производительности.\n",
    "\n",
    "Чтобы получить производительность с амортизируемым временем O(1) для вставок и удалений, новые элементы должны добавляться в конец списка методом append() и снова удалятся из конца методом pop(). Для оптимальной производительности стеки на основе списков Python долж- ны расти по направлению к более высоким индексам и сжиматься к более низким.\n",
    "\n",
    "Добавление и удаление элементов в начале списка намного медленнее и занимает O(n) времени, поскольку существующие элементы должны сдвигаться, чтобы создать место для нового элемента. Такого антишаблона производительности следует избегать."
   ]
  },
  {
   "cell_type": "code",
   "execution_count": 159,
   "id": "b49bde72-744e-4cea-bfc8-86c98222e00c",
   "metadata": {},
   "outputs": [],
   "source": [
    "s = []"
   ]
  },
  {
   "cell_type": "code",
   "execution_count": 160,
   "id": "19f66bc3-0100-46ab-8056-154dab11a745",
   "metadata": {},
   "outputs": [],
   "source": [
    "s.append('есть')"
   ]
  },
  {
   "cell_type": "code",
   "execution_count": 161,
   "id": "bd26c0ca-b72a-4220-a3a2-b806dbc408a5",
   "metadata": {},
   "outputs": [],
   "source": [
    "s.append('спать')"
   ]
  },
  {
   "cell_type": "code",
   "execution_count": 162,
   "id": "a89d62ff-8187-454d-a0fd-c2bc182c3659",
   "metadata": {},
   "outputs": [],
   "source": [
    "s.append('программировать')"
   ]
  },
  {
   "cell_type": "code",
   "execution_count": 163,
   "id": "abf26b79-83e0-4d34-9076-5c714530be21",
   "metadata": {},
   "outputs": [
    {
     "data": {
      "text/plain": [
       "['есть', 'спать', 'программировать']"
      ]
     },
     "execution_count": 163,
     "metadata": {},
     "output_type": "execute_result"
    }
   ],
   "source": [
    "s"
   ]
  },
  {
   "cell_type": "code",
   "execution_count": 164,
   "id": "3ad60644-7123-4d3d-91ae-5d3d77ca1744",
   "metadata": {},
   "outputs": [
    {
     "data": {
      "text/plain": [
       "'программировать'"
      ]
     },
     "execution_count": 164,
     "metadata": {},
     "output_type": "execute_result"
    }
   ],
   "source": [
    "s.pop()"
   ]
  },
  {
   "cell_type": "code",
   "execution_count": 165,
   "id": "133998b8-9a56-4810-a859-04d127c6a1c9",
   "metadata": {},
   "outputs": [
    {
     "data": {
      "text/plain": [
       "'спать'"
      ]
     },
     "execution_count": 165,
     "metadata": {},
     "output_type": "execute_result"
    }
   ],
   "source": [
    "s.pop()"
   ]
  },
  {
   "cell_type": "code",
   "execution_count": 166,
   "id": "0eb1b105-ea5e-49ee-b8ea-3dcbf15ea924",
   "metadata": {},
   "outputs": [
    {
     "data": {
      "text/plain": [
       "'есть'"
      ]
     },
     "execution_count": 166,
     "metadata": {},
     "output_type": "execute_result"
    }
   ],
   "source": [
    "s.pop()"
   ]
  },
  {
   "cell_type": "code",
   "execution_count": 167,
   "id": "7cbde0b5-f533-44ee-815f-1ee97948915d",
   "metadata": {},
   "outputs": [
    {
     "ename": "IndexError",
     "evalue": "pop from empty list",
     "output_type": "error",
     "traceback": [
      "\u001b[0;31m---------------------------------------------------------------------------\u001b[0m",
      "\u001b[0;31mIndexError\u001b[0m                                Traceback (most recent call last)",
      "\u001b[0;32m/var/folders/zz/t0wj_9090rzgb5q9crcqfj5m0000gn/T/ipykernel_1954/3455620568.py\u001b[0m in \u001b[0;36m<module>\u001b[0;34m\u001b[0m\n\u001b[0;32m----> 1\u001b[0;31m \u001b[0ms\u001b[0m\u001b[0;34m.\u001b[0m\u001b[0mpop\u001b[0m\u001b[0;34m(\u001b[0m\u001b[0;34m)\u001b[0m\u001b[0;34m\u001b[0m\u001b[0;34m\u001b[0m\u001b[0m\n\u001b[0m",
      "\u001b[0;31mIndexError\u001b[0m: pop from empty list"
     ]
    }
   ],
   "source": [
    "s.pop()"
   ]
  },
  {
   "cell_type": "markdown",
   "id": "9f2e6531-2fe9-47b6-ba87-2c09fbdd3a63",
   "metadata": {},
   "source": [
    "### collections .deque — быстрые и надежные стеки\n",
    "\n",
    "Класс deque реализует очередь с двусторонним доступом, которая под- держивает добавление и удаление элементов с любого конца за O(1) (неамортизируемое) время. Поскольку двусторонние очереди одинаково хорошо поддерживают добавление и удаление элементов с любого конца, они могут служить и в качестве очередей, и в качестве стеков1.\n",
    "\n",
    "Объекты Python deque реализованы как двунаправленные связные спи- ски, что дает им стабильную производительность для операций вставки и удаления элементов, но при этом плохую O(n) производительность для произвольного доступа к элементам в середине очереди2.\n",
    "\n",
    "В целом двусторонняя очередь collections.deque – отличный выбор, если вы ищете стековую структуру данных в стандартной библиотеке Python, которая обладает характеристиками производительности, ана- логичными реализации на основе связного списка.\n"
   ]
  },
  {
   "cell_type": "code",
   "execution_count": 168,
   "id": "0489a31b-6f8f-4d49-8ede-909ab8356e6c",
   "metadata": {},
   "outputs": [],
   "source": [
    "from collections import deque"
   ]
  },
  {
   "cell_type": "code",
   "execution_count": 169,
   "id": "d5359a39-fdf6-4aff-ba30-1eb6317479ff",
   "metadata": {},
   "outputs": [],
   "source": [
    "s = deque()"
   ]
  },
  {
   "cell_type": "code",
   "execution_count": 170,
   "id": "1d7be421-2d25-4bb9-b3a5-f95b2c2af66e",
   "metadata": {},
   "outputs": [],
   "source": [
    "s.append('есть')"
   ]
  },
  {
   "cell_type": "code",
   "execution_count": 171,
   "id": "a8f9ac51-c0d2-4018-a976-fd9ef014cf9b",
   "metadata": {},
   "outputs": [],
   "source": [
    "s.append('спать')"
   ]
  },
  {
   "cell_type": "code",
   "execution_count": 172,
   "id": "d715b9a1-c2f5-479d-aef2-b78b38c66b0c",
   "metadata": {},
   "outputs": [],
   "source": [
    "s.append('программировать')"
   ]
  },
  {
   "cell_type": "code",
   "execution_count": 173,
   "id": "cfbc5926-45ab-4c83-b79d-37d97bc71732",
   "metadata": {},
   "outputs": [
    {
     "data": {
      "text/plain": [
       "deque(['есть', 'спать', 'программировать'])"
      ]
     },
     "execution_count": 173,
     "metadata": {},
     "output_type": "execute_result"
    }
   ],
   "source": [
    "s"
   ]
  },
  {
   "cell_type": "code",
   "execution_count": 174,
   "id": "c941037a-94c5-463b-a981-d90e3945ddc9",
   "metadata": {},
   "outputs": [
    {
     "data": {
      "text/plain": [
       "'программировать'"
      ]
     },
     "execution_count": 174,
     "metadata": {},
     "output_type": "execute_result"
    }
   ],
   "source": [
    "s.pop()"
   ]
  },
  {
   "cell_type": "code",
   "execution_count": 175,
   "id": "1e4bf278-007a-4052-a07e-181fa0cca35e",
   "metadata": {},
   "outputs": [
    {
     "data": {
      "text/plain": [
       "'спать'"
      ]
     },
     "execution_count": 175,
     "metadata": {},
     "output_type": "execute_result"
    }
   ],
   "source": [
    "s.pop()"
   ]
  },
  {
   "cell_type": "code",
   "execution_count": 176,
   "id": "1c4c9be7-7c8b-4938-96ca-01fa7091e7f4",
   "metadata": {},
   "outputs": [
    {
     "data": {
      "text/plain": [
       "'есть'"
      ]
     },
     "execution_count": 176,
     "metadata": {},
     "output_type": "execute_result"
    }
   ],
   "source": [
    "s.pop()"
   ]
  },
  {
   "cell_type": "code",
   "execution_count": 177,
   "id": "5b681770-5461-4b8c-9df6-2eb19789ed69",
   "metadata": {},
   "outputs": [
    {
     "ename": "IndexError",
     "evalue": "pop from an empty deque",
     "output_type": "error",
     "traceback": [
      "\u001b[0;31m---------------------------------------------------------------------------\u001b[0m",
      "\u001b[0;31mIndexError\u001b[0m                                Traceback (most recent call last)",
      "\u001b[0;32m/var/folders/zz/t0wj_9090rzgb5q9crcqfj5m0000gn/T/ipykernel_1954/3455620568.py\u001b[0m in \u001b[0;36m<module>\u001b[0;34m\u001b[0m\n\u001b[0;32m----> 1\u001b[0;31m \u001b[0ms\u001b[0m\u001b[0;34m.\u001b[0m\u001b[0mpop\u001b[0m\u001b[0;34m(\u001b[0m\u001b[0;34m)\u001b[0m\u001b[0;34m\u001b[0m\u001b[0;34m\u001b[0m\u001b[0m\n\u001b[0m",
      "\u001b[0;31mIndexError\u001b[0m: pop from an empty deque"
     ]
    }
   ],
   "source": [
    "s.pop()"
   ]
  },
  {
   "cell_type": "markdown",
   "id": "d3404075-3792-4c58-b5ca-9dc44b7968fe",
   "metadata": {},
   "source": [
    "### deque .LifoQueue — семантика блокирования для параллельных вычислений\n",
    "\n",
    "Данная реализация стека в стандартной библиотеке Python синхрони- зирована и обеспечивает семантику блокирования с целью поддержки многочисленных параллельных производителей и потребителей1.\n",
    "\n",
    "Помимо LifoQueue, модуль queue содержит несколько других классов, которые реализуют очереди с мультипроизводителями/мультипотреби- телями, широко используемые в параллельных вычислениях.\n",
    "\n",
    "В зависимости от вашего варианта использования семантика блокирова- ния может оказаться полезной, а может накладывать ненужные издержки. В этом случае в качестве стека общего назначения лучше всего использо- вать список list или двустороннюю очередь deque."
   ]
  },
  {
   "cell_type": "code",
   "execution_count": 178,
   "id": "52aeb4fe-cf8b-499f-be5d-38b86f97bc87",
   "metadata": {},
   "outputs": [],
   "source": [
    "from queue import LifoQueue"
   ]
  },
  {
   "cell_type": "code",
   "execution_count": 179,
   "id": "9f1c3195-2896-4e1b-938f-9557e8700ab7",
   "metadata": {},
   "outputs": [],
   "source": [
    "s = LifoQueue()"
   ]
  },
  {
   "cell_type": "code",
   "execution_count": 180,
   "id": "0f5a1ed9-49a6-45d1-8888-943fd010b929",
   "metadata": {},
   "outputs": [],
   "source": [
    "s.put('есть')"
   ]
  },
  {
   "cell_type": "code",
   "execution_count": 181,
   "id": "2ca06212-ec9d-4fc1-9c61-8e4c42424d20",
   "metadata": {},
   "outputs": [],
   "source": [
    "s.put('спать')"
   ]
  },
  {
   "cell_type": "code",
   "execution_count": 182,
   "id": "366f42a9-645b-472f-97e7-9844e1c8c8ff",
   "metadata": {},
   "outputs": [],
   "source": [
    "s.put('программировать')"
   ]
  },
  {
   "cell_type": "code",
   "execution_count": 183,
   "id": "373d7c06-d30b-46c0-a48a-2a38e0d56d50",
   "metadata": {},
   "outputs": [
    {
     "data": {
      "text/plain": [
       "<queue.LifoQueue at 0x7f831d6171f0>"
      ]
     },
     "execution_count": 183,
     "metadata": {},
     "output_type": "execute_result"
    }
   ],
   "source": [
    "s"
   ]
  },
  {
   "cell_type": "code",
   "execution_count": 184,
   "id": "efc00e52-431b-40ed-a039-22e9e4c37f3e",
   "metadata": {},
   "outputs": [
    {
     "data": {
      "text/plain": [
       "'программировать'"
      ]
     },
     "execution_count": 184,
     "metadata": {},
     "output_type": "execute_result"
    }
   ],
   "source": [
    "s.get()"
   ]
  },
  {
   "cell_type": "code",
   "execution_count": 185,
   "id": "a65f12e5-131a-41c1-ab2f-592dea755661",
   "metadata": {},
   "outputs": [
    {
     "data": {
      "text/plain": [
       "'спать'"
      ]
     },
     "execution_count": 185,
     "metadata": {},
     "output_type": "execute_result"
    }
   ],
   "source": [
    "s.get()"
   ]
  },
  {
   "cell_type": "code",
   "execution_count": 186,
   "id": "d86c8682-f8af-4bc1-a32a-3bd380ca2d17",
   "metadata": {},
   "outputs": [
    {
     "data": {
      "text/plain": [
       "'есть'"
      ]
     },
     "execution_count": 186,
     "metadata": {},
     "output_type": "execute_result"
    }
   ],
   "source": [
    "s.get()"
   ]
  },
  {
   "cell_type": "code",
   "execution_count": 187,
   "id": "a2b5d1b3-fb83-495a-9cba-1aefbbda78eb",
   "metadata": {},
   "outputs": [
    {
     "ename": "Empty",
     "evalue": "",
     "output_type": "error",
     "traceback": [
      "\u001b[0;31m---------------------------------------------------------------------------\u001b[0m",
      "\u001b[0;31mEmpty\u001b[0m                                     Traceback (most recent call last)",
      "\u001b[0;32m/var/folders/zz/t0wj_9090rzgb5q9crcqfj5m0000gn/T/ipykernel_1954/2350026785.py\u001b[0m in \u001b[0;36m<module>\u001b[0;34m\u001b[0m\n\u001b[0;32m----> 1\u001b[0;31m \u001b[0ms\u001b[0m\u001b[0;34m.\u001b[0m\u001b[0mget_nowait\u001b[0m\u001b[0;34m(\u001b[0m\u001b[0;34m)\u001b[0m\u001b[0;34m\u001b[0m\u001b[0;34m\u001b[0m\u001b[0m\n\u001b[0m",
      "\u001b[0;32m/opt/anaconda3/lib/python3.9/queue.py\u001b[0m in \u001b[0;36mget_nowait\u001b[0;34m(self)\u001b[0m\n\u001b[1;32m    197\u001b[0m         \u001b[0;32mraise\u001b[0m \u001b[0mthe\u001b[0m \u001b[0mEmpty\u001b[0m \u001b[0mexception\u001b[0m\u001b[0;34m.\u001b[0m\u001b[0;34m\u001b[0m\u001b[0;34m\u001b[0m\u001b[0m\n\u001b[1;32m    198\u001b[0m         '''\n\u001b[0;32m--> 199\u001b[0;31m         \u001b[0;32mreturn\u001b[0m \u001b[0mself\u001b[0m\u001b[0;34m.\u001b[0m\u001b[0mget\u001b[0m\u001b[0;34m(\u001b[0m\u001b[0mblock\u001b[0m\u001b[0;34m=\u001b[0m\u001b[0;32mFalse\u001b[0m\u001b[0;34m)\u001b[0m\u001b[0;34m\u001b[0m\u001b[0;34m\u001b[0m\u001b[0m\n\u001b[0m\u001b[1;32m    200\u001b[0m \u001b[0;34m\u001b[0m\u001b[0m\n\u001b[1;32m    201\u001b[0m     \u001b[0;31m# Override these methods to implement other queue organizations\u001b[0m\u001b[0;34m\u001b[0m\u001b[0;34m\u001b[0m\u001b[0m\n",
      "\u001b[0;32m/opt/anaconda3/lib/python3.9/queue.py\u001b[0m in \u001b[0;36mget\u001b[0;34m(self, block, timeout)\u001b[0m\n\u001b[1;32m    166\u001b[0m             \u001b[0;32mif\u001b[0m \u001b[0;32mnot\u001b[0m \u001b[0mblock\u001b[0m\u001b[0;34m:\u001b[0m\u001b[0;34m\u001b[0m\u001b[0;34m\u001b[0m\u001b[0m\n\u001b[1;32m    167\u001b[0m                 \u001b[0;32mif\u001b[0m \u001b[0;32mnot\u001b[0m \u001b[0mself\u001b[0m\u001b[0;34m.\u001b[0m\u001b[0m_qsize\u001b[0m\u001b[0;34m(\u001b[0m\u001b[0;34m)\u001b[0m\u001b[0;34m:\u001b[0m\u001b[0;34m\u001b[0m\u001b[0;34m\u001b[0m\u001b[0m\n\u001b[0;32m--> 168\u001b[0;31m                     \u001b[0;32mraise\u001b[0m \u001b[0mEmpty\u001b[0m\u001b[0;34m\u001b[0m\u001b[0;34m\u001b[0m\u001b[0m\n\u001b[0m\u001b[1;32m    169\u001b[0m             \u001b[0;32melif\u001b[0m \u001b[0mtimeout\u001b[0m \u001b[0;32mis\u001b[0m \u001b[0;32mNone\u001b[0m\u001b[0;34m:\u001b[0m\u001b[0;34m\u001b[0m\u001b[0;34m\u001b[0m\u001b[0m\n\u001b[1;32m    170\u001b[0m                 \u001b[0;32mwhile\u001b[0m \u001b[0;32mnot\u001b[0m \u001b[0mself\u001b[0m\u001b[0;34m.\u001b[0m\u001b[0m_qsize\u001b[0m\u001b[0;34m(\u001b[0m\u001b[0;34m)\u001b[0m\u001b[0;34m:\u001b[0m\u001b[0;34m\u001b[0m\u001b[0;34m\u001b[0m\u001b[0m\n",
      "\u001b[0;31mEmpty\u001b[0m: "
     ]
    }
   ],
   "source": [
    "s.get_nowait()"
   ]
  },
  {
   "cell_type": "code",
   "execution_count": 189,
   "id": "207b33c6-f182-402b-9060-b72f0aca40a7",
   "metadata": {},
   "outputs": [
    {
     "ename": "KeyboardInterrupt",
     "evalue": "",
     "output_type": "error",
     "traceback": [
      "\u001b[0;31m---------------------------------------------------------------------------\u001b[0m",
      "\u001b[0;31mKeyboardInterrupt\u001b[0m                         Traceback (most recent call last)",
      "\u001b[0;32m/var/folders/zz/t0wj_9090rzgb5q9crcqfj5m0000gn/T/ipykernel_1954/3267978791.py\u001b[0m in \u001b[0;36m<module>\u001b[0;34m\u001b[0m\n\u001b[1;32m      1\u001b[0m \u001b[0;31m# Блокирует / ожидает бесконечно...\u001b[0m\u001b[0;34m\u001b[0m\u001b[0;34m\u001b[0m\u001b[0m\n\u001b[0;32m----> 2\u001b[0;31m \u001b[0ms\u001b[0m\u001b[0;34m.\u001b[0m\u001b[0mget\u001b[0m\u001b[0;34m(\u001b[0m\u001b[0;34m)\u001b[0m\u001b[0;34m\u001b[0m\u001b[0;34m\u001b[0m\u001b[0m\n\u001b[0m",
      "\u001b[0;32m/opt/anaconda3/lib/python3.9/queue.py\u001b[0m in \u001b[0;36mget\u001b[0;34m(self, block, timeout)\u001b[0m\n\u001b[1;32m    169\u001b[0m             \u001b[0;32melif\u001b[0m \u001b[0mtimeout\u001b[0m \u001b[0;32mis\u001b[0m \u001b[0;32mNone\u001b[0m\u001b[0;34m:\u001b[0m\u001b[0;34m\u001b[0m\u001b[0;34m\u001b[0m\u001b[0m\n\u001b[1;32m    170\u001b[0m                 \u001b[0;32mwhile\u001b[0m \u001b[0;32mnot\u001b[0m \u001b[0mself\u001b[0m\u001b[0;34m.\u001b[0m\u001b[0m_qsize\u001b[0m\u001b[0;34m(\u001b[0m\u001b[0;34m)\u001b[0m\u001b[0;34m:\u001b[0m\u001b[0;34m\u001b[0m\u001b[0;34m\u001b[0m\u001b[0m\n\u001b[0;32m--> 171\u001b[0;31m                     \u001b[0mself\u001b[0m\u001b[0;34m.\u001b[0m\u001b[0mnot_empty\u001b[0m\u001b[0;34m.\u001b[0m\u001b[0mwait\u001b[0m\u001b[0;34m(\u001b[0m\u001b[0;34m)\u001b[0m\u001b[0;34m\u001b[0m\u001b[0;34m\u001b[0m\u001b[0m\n\u001b[0m\u001b[1;32m    172\u001b[0m             \u001b[0;32melif\u001b[0m \u001b[0mtimeout\u001b[0m \u001b[0;34m<\u001b[0m \u001b[0;36m0\u001b[0m\u001b[0;34m:\u001b[0m\u001b[0;34m\u001b[0m\u001b[0;34m\u001b[0m\u001b[0m\n\u001b[1;32m    173\u001b[0m                 \u001b[0;32mraise\u001b[0m \u001b[0mValueError\u001b[0m\u001b[0;34m(\u001b[0m\u001b[0;34m\"'timeout' must be a non-negative number\"\u001b[0m\u001b[0;34m)\u001b[0m\u001b[0;34m\u001b[0m\u001b[0;34m\u001b[0m\u001b[0m\n",
      "\u001b[0;32m/opt/anaconda3/lib/python3.9/threading.py\u001b[0m in \u001b[0;36mwait\u001b[0;34m(self, timeout)\u001b[0m\n\u001b[1;32m    310\u001b[0m         \u001b[0;32mtry\u001b[0m\u001b[0;34m:\u001b[0m    \u001b[0;31m# restore state no matter what (e.g., KeyboardInterrupt)\u001b[0m\u001b[0;34m\u001b[0m\u001b[0;34m\u001b[0m\u001b[0m\n\u001b[1;32m    311\u001b[0m             \u001b[0;32mif\u001b[0m \u001b[0mtimeout\u001b[0m \u001b[0;32mis\u001b[0m \u001b[0;32mNone\u001b[0m\u001b[0;34m:\u001b[0m\u001b[0;34m\u001b[0m\u001b[0;34m\u001b[0m\u001b[0m\n\u001b[0;32m--> 312\u001b[0;31m                 \u001b[0mwaiter\u001b[0m\u001b[0;34m.\u001b[0m\u001b[0macquire\u001b[0m\u001b[0;34m(\u001b[0m\u001b[0;34m)\u001b[0m\u001b[0;34m\u001b[0m\u001b[0;34m\u001b[0m\u001b[0m\n\u001b[0m\u001b[1;32m    313\u001b[0m                 \u001b[0mgotit\u001b[0m \u001b[0;34m=\u001b[0m \u001b[0;32mTrue\u001b[0m\u001b[0;34m\u001b[0m\u001b[0;34m\u001b[0m\u001b[0m\n\u001b[1;32m    314\u001b[0m             \u001b[0;32melse\u001b[0m\u001b[0;34m:\u001b[0m\u001b[0;34m\u001b[0m\u001b[0;34m\u001b[0m\u001b[0m\n",
      "\u001b[0;31mKeyboardInterrupt\u001b[0m: "
     ]
    }
   ],
   "source": [
    "# Блокирует / ожидает бесконечно...\n",
    "s.get()"
   ]
  },
  {
   "cell_type": "markdown",
   "id": "3e5038fb-fea9-45f6-9028-7ff118548ac4",
   "metadata": {},
   "source": [
    "### Сравнение реализаций стека в Python\n",
    "\n",
    "Как вы убедились, Python поставляется с несколькими реализациями стековой структуры данных. Все они обладают слегка различающимися характеристиками, а также компромиссным соотношением производи- тельности и применения.\n",
    "\n",
    "Если вам не нужна поддержка параллельной обработки (или вы не хотите обрабатывать блокировку и снятие блокировки вручную), то ваш выбор сводится к встроенному типу list или collections.deque. Разница лежит в используемой за кадром структуре данных и общей простоте использо- вания:\n",
    "* Список list поддерживается динамическим массивом, который делает его отличным выбором для быстрого произвольного доступа, но при этом требует нерегулярного изменения размеров во время добавления или удаления элементов. Список выделяет излишнюю резервную память, чтобы не каждая операция вталкивания и выталкивания тре- бовала изменения размеров, и для этих операций вы получаете амор-тизируемую временную сложность O(1). Однако вам следует быть внимательными и стараться выполнять вставку и удаление элементов «с правильной стороны», используя методы append() и pop(). В про- тивном случае производительность замедлится до O(n).\n",
    "* Двусторонняя очередь collections.deque поддерживается двунаправ- ленным связным списком, который оптимизирует добавления и уда- ления с обоих концов и обеспечивает для этих операций стабильную производительность O(1). Производительность класса deque не только стабильнее, но его также легче использовать, потому что вам не при- ходится переживать по поводу добавления или удаления элементов «не с того конца».\n",
    "\n",
    "Резюмируя, я полагаю, что двусторонняя очередь collections.deque представляет собой отличный вариант для реализации стека (очереди LIFO) на Python.\n",
    "\n",
    "### Ключевые выводы\n",
    "* Python поставляется с несколькими реализациями стека, которые обладают слегка различающимися характеристиками производитель- ности и особенностями использования.\n",
    "* Двусторонняя очередь collections.deque обеспечивает безопасную и быструю реализацию стека общего пользования.\n",
    "* Встроенный тип list может применяться в качестве стека, но следует соблюдать осторожность и добавлять и удалять элементы только при помощи методов append() и pop(), чтобы избежать замедления произ- водительности.\n",
    "\n",
    "### 5 .6 . Очереди (с дисциплиной доступа FIFO)\n",
    "\n",
    "В этом разделе вы увидите, как реализовывать очередь, то есть структуру данных с дисциплиной доступа FIFO, используя только встроенные типы данных и классы из стандартной библиотеки Python. Но сначала давайте вкратце повторим, что такое очередь.\n",
    "\n",
    "Очередь представляет собой коллекцию объектов, которая поддерживает быструю семантику доступа «первым пришел — первым ушел» (FIFO — first in, first out) для вставок и удалений. Операции вставки и удаления иногда называются поставить в очередь (enqueue) и убрать из очереди (dequeue). В отличие от списков или множеств, очереди, как правило, не допускают произвольного доступа к объектам, которые они содержат.\n",
    "\n",
    "Ниже приведена аналогия для очереди с дисциплиной доступа «первым пришел — первым ушел» из реального мира:\n",
    "\n",
    "Представьте очередь разработчиков-питонистов, ожидающих получе- ния значка участника конференции в день регистрации на PyCon . По мере прибытия новых участников к месту проведения конференции они выстраиваются в очередь, «становясь в ее конец», чтобы получить свои значки . Удаление (обслуживание) происходит в начале очереди, когда разработчики получают свои значки и пакет с материалами и подарками конференции и покидают очередь .\n",
    "\n",
    "Еще один способ запомнить особенности структуры данных очередь со- стоит в том, чтобы представить ее как конвейер:\n",
    "\n",
    "Новые элементы (молекулы воды, теннисные мячи, ...) вставляются в одном конце и проходят в другой, где вы или кто-то другой их все время удаляете . Когда элементы находятся в очереди (в твердой ме- таллической трубе), вы не можете до них добраться . Единственный спо- соб взаимодействия с элементами из очереди заключается в том, чтобы добавлять новые элементы в конец (ставить в очередь) или удалять элементы из начала конвейера (убирать из очереди) .\n",
    "\n",
    "Очереди похожи на стеки, и разница между ними в том, как удаляются элементы.\n",
    "\n",
    "В случае с очередью вы удаляете элемент, который был добавлен в нее раньше всех (принцип «первым пришел — первым ушел», или FIFO); одна- ко в случае со стеком вы удаляете элемент, который был добавлен в него позже всех (принцип «последним пришел — первым ушел», или LIFO).\n",
    "\n",
    "С точки зрения производительности предполагается, что надлежащая реализация очереди будет занимать O(1) времени на операции вставки и удаления. Эти две выполняемые с очередью операции являются главными, и при правильной реализации они обеспечивают высокое быстро-\n",
    "действие.\n",
    "\n",
    "Очереди находят широкое применение в алгоритмах и нередко помогают решать задачи планирования и параллельного программирования. Корот- кий и красивый алгоритм с использованием очереди представлен поис- ком в ширину (breadth-first search, BFS) на древовидной или графовой структуре данных.\n",
    "\n",
    "В алгоритмах планирования выполнения задач во внутреннем представ- лении нередко используются очереди с приоритетом. Они представля- ют собой специализированные очереди: вместо получения следующего элемента по времени вставки очередь с приоритетом получает элемент с самым высоким приоритетом. Приоритет отдельных элементов опреде- ляется очередью, основанной на примененном к их ключам упорядочении. В следующем разделе мы обратимся к очередям с приоритетом и рассмо- трим ближе, как они реализуются в Python.\n",
    "\n",
    "Однако в обычной очереди содержащиеся в ней элементы не переупоря- дочиваются. Точно так же, как и в примере с конвейером, «вы получите только то, что вы вставили», и именно в таком порядке.\n",
    "\n",
    "Python поставляется с несколькими реализациями очереди, каждая из ко- торых обладает несколько различающимися характеристиками. Давайте их рассмотрим.\n",
    "\n",
    "### list — ужасно меееедленная очередь\n",
    "\n",
    "В качестве очереди можно использовать обычный список, но с точки зрения производительности такое решение не идеально1. Списки для этой цели довольно медленные, потому что вставка в начало очереди или удаление элемента влекут за собой сдвиг всех других элементов на одну позицию, требуя O(n) времени.\n",
    "\n",
    "Поэтому я не рекомендую использовать список в качестве импровизиро- ванной очереди в Python (если только вы не имеете дело с небольшим количеством элементов)."
   ]
  },
  {
   "cell_type": "code",
   "execution_count": 190,
   "id": "d34430ca-1723-49f6-8c90-848f5706c389",
   "metadata": {},
   "outputs": [],
   "source": [
    "q = []"
   ]
  },
  {
   "cell_type": "code",
   "execution_count": 191,
   "id": "90a65d77-a4f4-4bb6-a4fa-9bae6469d583",
   "metadata": {},
   "outputs": [],
   "source": [
    "q.append('есть')"
   ]
  },
  {
   "cell_type": "code",
   "execution_count": 192,
   "id": "347f5ae6-3bfc-47e4-899e-674c145ec69f",
   "metadata": {},
   "outputs": [],
   "source": [
    "q.append('спать')"
   ]
  },
  {
   "cell_type": "code",
   "execution_count": 193,
   "id": "7a54ebad-4a41-4099-9088-4264ab94b9d4",
   "metadata": {},
   "outputs": [],
   "source": [
    "q.append('программировать')"
   ]
  },
  {
   "cell_type": "code",
   "execution_count": 194,
   "id": "a861ac92-2b0f-4734-b15a-09460651b6c7",
   "metadata": {},
   "outputs": [
    {
     "data": {
      "text/plain": [
       "['есть', 'спать', 'программировать']"
      ]
     },
     "execution_count": 194,
     "metadata": {},
     "output_type": "execute_result"
    }
   ],
   "source": [
    "q"
   ]
  },
  {
   "cell_type": "code",
   "execution_count": 195,
   "id": "487acd68-5657-4c6b-ba68-0a76f575c508",
   "metadata": {},
   "outputs": [
    {
     "data": {
      "text/plain": [
       "'есть'"
      ]
     },
     "execution_count": 195,
     "metadata": {},
     "output_type": "execute_result"
    }
   ],
   "source": [
    "# Осторожно: это очень медленная операция!\n",
    "q.pop(0)"
   ]
  },
  {
   "cell_type": "markdown",
   "id": "1bc77dbf-4a9f-42fd-a6a9-71d94c630d4c",
   "metadata": {},
   "source": [
    "### collections .deque — быстрые и надежные очереди\n",
    "\n",
    "Класс deque реализует очередь с двусторонним доступом, которая под- держивает добавление и удаление элементов с любого конца за O(1) (неамортизируемое) время. Поскольку двусторонние очереди одинаково хорошо поддерживают добавление и удаление элементов с любого конца, они могут служить в качестве очередей и в качестве стеков1.\n",
    "\n",
    "Объекты Python deque реализованы как двунаправленные связные списки (doubly-linked lists)2. Это придает им превосходную и стабильную произ- водительность для операций вставки и удаления элементов, но при этом плохую O(n) производительность для произвольного доступа к элементам в середине очереди.\n",
    "\n",
    "Как результат, двусторонняя очередь collections.deque будет хорошим выбором, если вы ищете структуру данных очередь в стандартной библио- теке Python."
   ]
  },
  {
   "cell_type": "code",
   "execution_count": 196,
   "id": "06b9408a-6a8e-42eb-b27c-326afc640bec",
   "metadata": {},
   "outputs": [],
   "source": [
    "from collections import deque"
   ]
  },
  {
   "cell_type": "code",
   "execution_count": 197,
   "id": "7c62dce4-09c0-4d01-8ae2-73779581facd",
   "metadata": {},
   "outputs": [],
   "source": [
    "q = deque()"
   ]
  },
  {
   "cell_type": "code",
   "execution_count": 198,
   "id": "803b9633-69e4-43bc-b281-ae3fd4fcb53e",
   "metadata": {},
   "outputs": [],
   "source": [
    "q.append('есть')"
   ]
  },
  {
   "cell_type": "code",
   "execution_count": 199,
   "id": "702ff8e4-b353-452d-a563-7e80ae7896c4",
   "metadata": {},
   "outputs": [],
   "source": [
    "q.append('спать')"
   ]
  },
  {
   "cell_type": "code",
   "execution_count": 200,
   "id": "53d774d1-2dd1-465a-88f2-165f242aea73",
   "metadata": {},
   "outputs": [],
   "source": [
    "q.append('программировать')"
   ]
  },
  {
   "cell_type": "code",
   "execution_count": 201,
   "id": "5c62ee25-b652-46e7-8ea6-42c7dad23fc1",
   "metadata": {},
   "outputs": [
    {
     "data": {
      "text/plain": [
       "deque(['есть', 'спать', 'программировать'])"
      ]
     },
     "execution_count": 201,
     "metadata": {},
     "output_type": "execute_result"
    }
   ],
   "source": [
    "q"
   ]
  },
  {
   "cell_type": "code",
   "execution_count": 202,
   "id": "a479536b-a6a9-4632-a9dd-e38220c56239",
   "metadata": {},
   "outputs": [
    {
     "data": {
      "text/plain": [
       "'есть'"
      ]
     },
     "execution_count": 202,
     "metadata": {},
     "output_type": "execute_result"
    }
   ],
   "source": [
    "q.popleft()"
   ]
  },
  {
   "cell_type": "code",
   "execution_count": 203,
   "id": "38c50f2f-02e2-4fb7-b7b1-1c02e11686a2",
   "metadata": {},
   "outputs": [
    {
     "data": {
      "text/plain": [
       "'спать'"
      ]
     },
     "execution_count": 203,
     "metadata": {},
     "output_type": "execute_result"
    }
   ],
   "source": [
    "q.popleft()"
   ]
  },
  {
   "cell_type": "code",
   "execution_count": 204,
   "id": "8665ccd4-8477-4e1e-b46f-121160090b2d",
   "metadata": {},
   "outputs": [
    {
     "data": {
      "text/plain": [
       "'программировать'"
      ]
     },
     "execution_count": 204,
     "metadata": {},
     "output_type": "execute_result"
    }
   ],
   "source": [
    "q.popleft()"
   ]
  },
  {
   "cell_type": "code",
   "execution_count": 205,
   "id": "bf4fe101-4c3b-41f7-8364-6af834a84b4b",
   "metadata": {},
   "outputs": [
    {
     "ename": "IndexError",
     "evalue": "pop from an empty deque",
     "output_type": "error",
     "traceback": [
      "\u001b[0;31m---------------------------------------------------------------------------\u001b[0m",
      "\u001b[0;31mIndexError\u001b[0m                                Traceback (most recent call last)",
      "\u001b[0;32m/var/folders/zz/t0wj_9090rzgb5q9crcqfj5m0000gn/T/ipykernel_1954/3009220604.py\u001b[0m in \u001b[0;36m<module>\u001b[0;34m\u001b[0m\n\u001b[0;32m----> 1\u001b[0;31m \u001b[0mq\u001b[0m\u001b[0;34m.\u001b[0m\u001b[0mpopleft\u001b[0m\u001b[0;34m(\u001b[0m\u001b[0;34m)\u001b[0m\u001b[0;34m\u001b[0m\u001b[0;34m\u001b[0m\u001b[0m\n\u001b[0m",
      "\u001b[0;31mIndexError\u001b[0m: pop from an empty deque"
     ]
    }
   ],
   "source": [
    "q.popleft()"
   ]
  },
  {
   "cell_type": "markdown",
   "id": "034dd8ec-30c2-47d1-a7c6-2218c0f49e9a",
   "metadata": {},
   "source": [
    "### queue .Queue — семантика блокирования для параллельных вычислений\n",
    "\n",
    "Данная реализация очереди в стандартной библиотеке Python синхро- низирована и обеспечивает семантику блокирования с целью поддержки многочисленных параллельных производителей и потребителей1.\n",
    "\n",
    "Модуль queue содержит несколько других классов, которые реализуют очереди с мультипроизводителями/мультипотребителями, которые ши- роко используются в параллельных вычислениях.\n",
    "\n",
    "В зависимости от вашего варианта использования семантика блокирова- ния может оказаться полезной, а может накладывать ненужные издержки. В этом случае в качестве очереди общего назначения лучше всего исполь- зовать двустороннюю очередь collections.deque."
   ]
  },
  {
   "cell_type": "code",
   "execution_count": 206,
   "id": "7669df34-8e89-4f3e-bfed-d79939f3250f",
   "metadata": {},
   "outputs": [],
   "source": [
    "from queue import Queue"
   ]
  },
  {
   "cell_type": "code",
   "execution_count": 207,
   "id": "ba37f3b1-5608-443d-8ad8-9a4ad13fdd2b",
   "metadata": {},
   "outputs": [],
   "source": [
    "q = Queue()\n",
    "q.put('есть')\n",
    "q.put('спать')\n",
    "q.put('программировать')"
   ]
  },
  {
   "cell_type": "code",
   "execution_count": 208,
   "id": "35489ead-072d-47a9-8a92-fabe94981550",
   "metadata": {},
   "outputs": [
    {
     "data": {
      "text/plain": [
       "<queue.Queue at 0x7f831d619250>"
      ]
     },
     "execution_count": 208,
     "metadata": {},
     "output_type": "execute_result"
    }
   ],
   "source": [
    "q"
   ]
  },
  {
   "cell_type": "code",
   "execution_count": 209,
   "id": "0e0e3484-0116-4299-9b4e-030edc30aca7",
   "metadata": {},
   "outputs": [
    {
     "data": {
      "text/plain": [
       "'есть'"
      ]
     },
     "execution_count": 209,
     "metadata": {},
     "output_type": "execute_result"
    }
   ],
   "source": [
    "q.get()"
   ]
  },
  {
   "cell_type": "code",
   "execution_count": 210,
   "id": "b4d69bdc-e8f2-46f4-bb4d-a1279bc955b1",
   "metadata": {},
   "outputs": [
    {
     "data": {
      "text/plain": [
       "'спать'"
      ]
     },
     "execution_count": 210,
     "metadata": {},
     "output_type": "execute_result"
    }
   ],
   "source": [
    "q.get()"
   ]
  },
  {
   "cell_type": "code",
   "execution_count": 211,
   "id": "985b0687-83a7-4e60-beca-e1cf68e7b459",
   "metadata": {},
   "outputs": [
    {
     "data": {
      "text/plain": [
       "'программировать'"
      ]
     },
     "execution_count": 211,
     "metadata": {},
     "output_type": "execute_result"
    }
   ],
   "source": [
    "q.get()"
   ]
  },
  {
   "cell_type": "code",
   "execution_count": 213,
   "id": "2d1fe668-79d0-41ce-8804-f997992ca7a3",
   "metadata": {},
   "outputs": [
    {
     "ename": "Empty",
     "evalue": "",
     "output_type": "error",
     "traceback": [
      "\u001b[0;31m---------------------------------------------------------------------------\u001b[0m",
      "\u001b[0;31mEmpty\u001b[0m                                     Traceback (most recent call last)",
      "\u001b[0;32m/var/folders/zz/t0wj_9090rzgb5q9crcqfj5m0000gn/T/ipykernel_1954/948591637.py\u001b[0m in \u001b[0;36m<module>\u001b[0;34m\u001b[0m\n\u001b[0;32m----> 1\u001b[0;31m \u001b[0mq\u001b[0m\u001b[0;34m.\u001b[0m\u001b[0mget_nowait\u001b[0m\u001b[0;34m(\u001b[0m\u001b[0;34m)\u001b[0m\u001b[0;34m\u001b[0m\u001b[0;34m\u001b[0m\u001b[0m\n\u001b[0m",
      "\u001b[0;32m/opt/anaconda3/lib/python3.9/queue.py\u001b[0m in \u001b[0;36mget_nowait\u001b[0;34m(self)\u001b[0m\n\u001b[1;32m    197\u001b[0m         \u001b[0;32mraise\u001b[0m \u001b[0mthe\u001b[0m \u001b[0mEmpty\u001b[0m \u001b[0mexception\u001b[0m\u001b[0;34m.\u001b[0m\u001b[0;34m\u001b[0m\u001b[0;34m\u001b[0m\u001b[0m\n\u001b[1;32m    198\u001b[0m         '''\n\u001b[0;32m--> 199\u001b[0;31m         \u001b[0;32mreturn\u001b[0m \u001b[0mself\u001b[0m\u001b[0;34m.\u001b[0m\u001b[0mget\u001b[0m\u001b[0;34m(\u001b[0m\u001b[0mblock\u001b[0m\u001b[0;34m=\u001b[0m\u001b[0;32mFalse\u001b[0m\u001b[0;34m)\u001b[0m\u001b[0;34m\u001b[0m\u001b[0;34m\u001b[0m\u001b[0m\n\u001b[0m\u001b[1;32m    200\u001b[0m \u001b[0;34m\u001b[0m\u001b[0m\n\u001b[1;32m    201\u001b[0m     \u001b[0;31m# Override these methods to implement other queue organizations\u001b[0m\u001b[0;34m\u001b[0m\u001b[0;34m\u001b[0m\u001b[0m\n",
      "\u001b[0;32m/opt/anaconda3/lib/python3.9/queue.py\u001b[0m in \u001b[0;36mget\u001b[0;34m(self, block, timeout)\u001b[0m\n\u001b[1;32m    166\u001b[0m             \u001b[0;32mif\u001b[0m \u001b[0;32mnot\u001b[0m \u001b[0mblock\u001b[0m\u001b[0;34m:\u001b[0m\u001b[0;34m\u001b[0m\u001b[0;34m\u001b[0m\u001b[0m\n\u001b[1;32m    167\u001b[0m                 \u001b[0;32mif\u001b[0m \u001b[0;32mnot\u001b[0m \u001b[0mself\u001b[0m\u001b[0;34m.\u001b[0m\u001b[0m_qsize\u001b[0m\u001b[0;34m(\u001b[0m\u001b[0;34m)\u001b[0m\u001b[0;34m:\u001b[0m\u001b[0;34m\u001b[0m\u001b[0;34m\u001b[0m\u001b[0m\n\u001b[0;32m--> 168\u001b[0;31m                     \u001b[0;32mraise\u001b[0m \u001b[0mEmpty\u001b[0m\u001b[0;34m\u001b[0m\u001b[0;34m\u001b[0m\u001b[0m\n\u001b[0m\u001b[1;32m    169\u001b[0m             \u001b[0;32melif\u001b[0m \u001b[0mtimeout\u001b[0m \u001b[0;32mis\u001b[0m \u001b[0;32mNone\u001b[0m\u001b[0;34m:\u001b[0m\u001b[0;34m\u001b[0m\u001b[0;34m\u001b[0m\u001b[0m\n\u001b[1;32m    170\u001b[0m                 \u001b[0;32mwhile\u001b[0m \u001b[0;32mnot\u001b[0m \u001b[0mself\u001b[0m\u001b[0;34m.\u001b[0m\u001b[0m_qsize\u001b[0m\u001b[0;34m(\u001b[0m\u001b[0;34m)\u001b[0m\u001b[0;34m:\u001b[0m\u001b[0;34m\u001b[0m\u001b[0;34m\u001b[0m\u001b[0m\n",
      "\u001b[0;31mEmpty\u001b[0m: "
     ]
    }
   ],
   "source": [
    "q.get_nowait()"
   ]
  },
  {
   "cell_type": "code",
   "execution_count": 214,
   "id": "7a647f61-c588-4800-85ff-919f4aa549a5",
   "metadata": {},
   "outputs": [],
   "source": [
    "# Блокирует / ожидает бесконечно...\n",
    "# q.get()"
   ]
  },
  {
   "cell_type": "markdown",
   "id": "c356ddf7-ff3a-4f5e-86c0-5bd974b959dc",
   "metadata": {},
   "source": [
    "### multiprocessing .Queue — очереди совместных заданий\n",
    "\n",
    "Такая реализация очереди совместных заданий позволяет выполнять па- раллельную обработку находящихся в очереди элементов многочисленны- ми параллельными рабочими процессами1. Процессно-ориентированное распараллеливание популярно в Python из-за глобальной блокировки интерпретатора (GIL), которая препятствует некоторым формам парал- лельного исполнения в единственном процессе интерпретатора.\n",
    "\n",
    "В качестве специализированной реализации очереди, предназначенной для обмена данными между процессами, очередь multiprocessing.Queue упрощает распределение работы по многочисленным процессам с целью преодоления ограничений GIL. Этот тип очереди может хранить и пере- давать любой консервируемый (модулем pickle) объект через границы процессов."
   ]
  },
  {
   "cell_type": "code",
   "execution_count": 215,
   "id": "0e746a56-0068-4a43-9fd8-ccdbefc9718e",
   "metadata": {},
   "outputs": [],
   "source": [
    "from multiprocessing import Queue"
   ]
  },
  {
   "cell_type": "code",
   "execution_count": 216,
   "id": "c899b7d2-3278-4326-878f-70790f3aad79",
   "metadata": {},
   "outputs": [],
   "source": [
    "q = Queue()\n",
    "q.put('есть')\n",
    "q.put('спать')\n",
    "q.put('программировать')"
   ]
  },
  {
   "cell_type": "code",
   "execution_count": 217,
   "id": "012228ef-ecd4-45d0-b99b-48ff9ba4a976",
   "metadata": {},
   "outputs": [
    {
     "data": {
      "text/plain": [
       "<multiprocessing.queues.Queue at 0x7f831d61d790>"
      ]
     },
     "execution_count": 217,
     "metadata": {},
     "output_type": "execute_result"
    }
   ],
   "source": [
    "q"
   ]
  },
  {
   "cell_type": "code",
   "execution_count": 218,
   "id": "396ed937-c575-4e9b-9ecb-3ae4489d7e7f",
   "metadata": {},
   "outputs": [
    {
     "data": {
      "text/plain": [
       "'есть'"
      ]
     },
     "execution_count": 218,
     "metadata": {},
     "output_type": "execute_result"
    }
   ],
   "source": [
    "q.get()"
   ]
  },
  {
   "cell_type": "code",
   "execution_count": 219,
   "id": "250cd242-ff0a-4585-9ab8-db4e1f4a4576",
   "metadata": {},
   "outputs": [
    {
     "data": {
      "text/plain": [
       "'спать'"
      ]
     },
     "execution_count": 219,
     "metadata": {},
     "output_type": "execute_result"
    }
   ],
   "source": [
    "q.get()"
   ]
  },
  {
   "cell_type": "code",
   "execution_count": 220,
   "id": "70e094e5-2bab-48a1-86bd-d50b601cd4b2",
   "metadata": {},
   "outputs": [
    {
     "data": {
      "text/plain": [
       "'программировать'"
      ]
     },
     "execution_count": 220,
     "metadata": {},
     "output_type": "execute_result"
    }
   ],
   "source": [
    "q.get()"
   ]
  },
  {
   "cell_type": "code",
   "execution_count": 222,
   "id": "488b336b-bf0e-4df7-9da6-cd00f0f9b52b",
   "metadata": {},
   "outputs": [],
   "source": [
    "# Блокирует / ожидает бесконечно...\n",
    "# q.get()"
   ]
  },
  {
   "cell_type": "markdown",
   "id": "662e97f1-07ce-412a-ae1f-3f23e5761e1a",
   "metadata": {},
   "source": [
    "### Ключевые выводы\n",
    "\n",
    "* Python содержит несколько реализаций очередей в качестве составной части ядра языка и его стандартной библиотеки.\n",
    "* Объекты-списки list могут использоваться в качестве очередей, но это обычно не рекомендуется делать из-за низкой производитель- ности.\n",
    "* Если вы не ищете поддержку параллельной обработки, то реализация, предлагаемая очередью collections.deque, является превосходным вариантом по умолчанию для реализации в Python структуры данных с дисциплиной доступа FIFO, то есть очереди. Она обеспечивает ха- рактеристики производительности, которые можно ожидать от хоро- шей реализации очереди, а также может применяться в качестве стека (очереди с дисциплиной доступа LIFO).\n",
    "\n",
    "### 5 .7 . Очереди с приоритетом\n",
    "\n",
    "Очередь с приоритетом представляет собой контейнерную структуру дан- ных, которая управляет набором записей с полностью упорядоченными ключами1 (например, числовым значением веса) с целью обеспечения бы-\n",
    "строго доступа к записи с наименьшим или наибольшим ключом в наборе.\n",
    "\n",
    "Очередь с приоритетом можно представить как видоизмененную очередь: вместо получения следующего элемента по времени вставки она получает элемент с самым высоким приоритетом. Приоритет отдельных элементов определяется примененным к их ключам упорядочением.\n",
    "\n",
    "Очереди с приоритетом широко используются для решения задач пла- нирования, например предоставления предпочтений задачам с более высокой актуальностью.\n",
    "\n",
    "Представьте работу планировщика задач операционной системы:\n",
    "\n",
    "В идеальном случае высокоприоритетные задачи в системе (например, игра в компьютерную игру в реальном времени) должны иметь пред- почтение перед задачами с более низким приоритетом (например, ска- чивание обновлений в фоновом режиме) . Организовывая предстоящие задачи в очередь с приоритетом, которая использует актуальность за- дачи в качестве ключа, планировщик задач может быстро выбирать за- дачи с самым высоким приоритетом и давать им выполняться в первую очередь .\n",
    "\n",
    "В этом разделе вы увидите несколько вариантов реализации очередей с приоритетом в Python с помощью встроенных структур данных либо структур данных, которые поставляются вместе со стандартной библио- текой Python. Каждая реализация будет иметь свои собственные преиму- щества и недостатки, но, по моему мнению, в каждом распространенном сценарии есть свой победитель. Давайте узнаем, что лучше.\n",
    "\n",
    "### list — поддержание сортируемой очереди вручную\n",
    "\n",
    "Вы можете использовать сортированный список list, который позволяет быстро идентифицировать и удалять наименьший или наибольший эле- мент. Недостатком является то, что вставка новых элементов в список является медленной O(n) операцией.\n",
    "\n",
    "Несмотря на то что точка вставки может быть найдена за O(log n) время с помощью алгоритма bisect.insort1 стандартной библиотеки, это реше- ние всегда находится во власти медленного шага вставки.\n",
    "\n",
    "Поддержание упорядоченности путем добавления в конец списка и пере- сортировки также занимает минимум O(n log n) времени. Еще один недо- статок — вам придется вручную заботиться о пересортировке списка во время вставки новых элементов. Пропустив этот шаг, можно легко внести ошибки, и ответственность за них всегда будет на вас как на разработчике.\n",
    "\n",
    "Поэтому я убежден, что сортированные списки подходят как очереди с приоритетом только в тех случаях, когда вставок немного."
   ]
  },
  {
   "cell_type": "code",
   "execution_count": 223,
   "id": "625c1d7a-7f94-4fe7-980f-a4a86e4aff87",
   "metadata": {},
   "outputs": [],
   "source": [
    "q = []"
   ]
  },
  {
   "cell_type": "code",
   "execution_count": 224,
   "id": "4d91674f-1326-4619-ad26-ad71de8f567d",
   "metadata": {},
   "outputs": [],
   "source": [
    "q.append((2, 'программировать'))\n",
    "q.append((1, 'есть'))\n",
    "q.append((3, 'спать'))\n"
   ]
  },
  {
   "cell_type": "code",
   "execution_count": 226,
   "id": "a9e5fe22-0fcb-4add-9ab6-b52bdcf7fc3d",
   "metadata": {},
   "outputs": [],
   "source": [
    "# ПРИМЕЧАНИЕ: Не забудьте выполнить пересортировку всякий раз,\n",
    "#             когда добавляется новый элемент, либо используйте\n",
    "# bisect.insort(). \n",
    "q.sort(reverse=True)"
   ]
  },
  {
   "cell_type": "code",
   "execution_count": 227,
   "id": "9de067ed-055a-400e-b8ab-fc839eb47f8c",
   "metadata": {},
   "outputs": [
    {
     "name": "stdout",
     "output_type": "stream",
     "text": [
      "(1, 'есть')\n",
      "(2, 'программировать')\n",
      "(3, 'спать')\n"
     ]
    }
   ],
   "source": [
    "while q:\n",
    "    next_item = q.pop()\n",
    "    print(next_item)"
   ]
  },
  {
   "cell_type": "markdown",
   "id": "fb506527-81be-470a-bc5a-c623a60e0510",
   "metadata": {},
   "source": [
    "### heapq — двоичные кучи на основе списка\n",
    "\n",
    "Данная реализация двоичной кучи обычно подкрепляется обыкновенным списком, и она поддерживает вставку и извлечение наименьшего элемента за O(log n) время2.\n",
    "\n",
    "Этот модуль — хороший выбор для реализации очередей с приоритетом в Python. Поскольку двоичная куча heapq технически обеспечивает толь- ко реализацию min-heap (то есть кучи, где значение в любой вершине не больше, чем значения ее потомков), должны быть предприняты допол- нительные шаги, которые обеспечат стабильность сортировки и другие функциональные возможности, которые, как правило, ожидают от «прак- тической версии» очереди с приоритетом1."
   ]
  },
  {
   "cell_type": "code",
   "execution_count": 228,
   "id": "0ed508fd-ccc1-4ed2-8f23-c79cd0686a92",
   "metadata": {},
   "outputs": [],
   "source": [
    "import heapq"
   ]
  },
  {
   "cell_type": "code",
   "execution_count": 229,
   "id": "9e288ab9-ea07-4352-853e-fd2460d2e471",
   "metadata": {},
   "outputs": [],
   "source": [
    "q = []"
   ]
  },
  {
   "cell_type": "code",
   "execution_count": 230,
   "id": "e470198b-7124-456a-b5c8-6b9d79827136",
   "metadata": {},
   "outputs": [],
   "source": [
    "heapq.heappush(q, (2, 'программировать'))\n",
    "heapq.heappush(q, (1, 'есть'))\n",
    "heapq.heappush(q, (3, 'спать'))"
   ]
  },
  {
   "cell_type": "code",
   "execution_count": 231,
   "id": "922fd060-3226-4bbb-87ff-04b9ccb15953",
   "metadata": {},
   "outputs": [
    {
     "name": "stdout",
     "output_type": "stream",
     "text": [
      "(1, 'есть')\n",
      "(2, 'программировать')\n",
      "(3, 'спать')\n"
     ]
    }
   ],
   "source": [
    "while q:\n",
    "    next_item = heapq.heappop(q)\n",
    "    print(next_item)"
   ]
  },
  {
   "cell_type": "markdown",
   "id": "5c3f4d1c-e2ea-49a0-9423-546d536f86f0",
   "metadata": {},
   "source": [
    "### queue .PriorityQueue — красивые очереди с приоритетом\n",
    "\n",
    "Данная реализация очереди с приоритетом во внутреннем представлении использует двоичную кучу heapq и имеет одинаковую временную и про- странственную вычислительную сложность2.\n",
    "\n",
    "Разница состоит в том, что очередь с приоритетом PriorityQueue синхро- низирована и обеспечивает семантику блокирования с целью поддержки многочисленных параллельных производителей и потребителей.\n",
    "\n",
    "В зависимости от вашего варианта использования она либо станет по- лезной, либо слегка замедлит вашу программу. В любом случае вы можете предпочесть интерфейс на основе класса, предлагаемый классом PriorityQueue, использованию интерфейса на основе функций, предла- гаемого модулем heapq.\n"
   ]
  },
  {
   "cell_type": "code",
   "execution_count": 232,
   "id": "d5f0f973-ab91-494f-aa80-6289555c3ee0",
   "metadata": {},
   "outputs": [],
   "source": [
    "from queue import PriorityQueue"
   ]
  },
  {
   "cell_type": "code",
   "execution_count": 233,
   "id": "511805af-4d33-4529-8904-045dd9752d1d",
   "metadata": {},
   "outputs": [],
   "source": [
    "q = PriorityQueue()"
   ]
  },
  {
   "cell_type": "code",
   "execution_count": 234,
   "id": "f2b8d67b-32f1-435a-b51d-b1e8881e22e5",
   "metadata": {},
   "outputs": [],
   "source": [
    "q.put((2, 'программировать'))\n",
    "q.put((1, 'есть'))\n",
    "q.put((3, 'спать'))"
   ]
  },
  {
   "cell_type": "code",
   "execution_count": 235,
   "id": "02385174-7f35-402b-b397-bae06fb00a48",
   "metadata": {},
   "outputs": [
    {
     "name": "stdout",
     "output_type": "stream",
     "text": [
      "(1, 'есть')\n",
      "(2, 'программировать')\n",
      "(3, 'спать')\n"
     ]
    }
   ],
   "source": [
    "while not q.empty():\n",
    "     next_item = q.get()\n",
    "     print(next_item)"
   ]
  },
  {
   "cell_type": "markdown",
   "id": "bdd5c683-ad39-44d9-96a0-9246dba2c354",
   "metadata": {},
   "source": [
    "### Ключевые выводы\n",
    "* Python содержит несколько реализаций очередей с приоритетом, ко- торые вы можете использовать в своих программах.\n",
    "* Реализация queue.PriorityQueue выбивается из общего ряда, отлича- ясь хорошим объектно-ориентированным интерфейсом и именем, ко- торое четко указывает на ее направленность. Такая реализация должна быть предпочтительным вариантом.\n",
    "* Если требуется избежать издержек, связанных с блокировкой очере- ди queue.PriorityQueue, то непосредственное использование моду- ля heapq также будет хорошим выбором."
   ]
  },
  {
   "cell_type": "code",
   "execution_count": null,
   "id": "60e3d9b0-a887-439a-b3ce-b6c87138e283",
   "metadata": {},
   "outputs": [],
   "source": []
  }
 ],
 "metadata": {
  "kernelspec": {
   "display_name": "Python 3 (ipykernel)",
   "language": "python",
   "name": "python3"
  },
  "language_info": {
   "codemirror_mode": {
    "name": "ipython",
    "version": 3
   },
   "file_extension": ".py",
   "mimetype": "text/x-python",
   "name": "python",
   "nbconvert_exporter": "python",
   "pygments_lexer": "ipython3",
   "version": "3.9.13"
  }
 },
 "nbformat": 4,
 "nbformat_minor": 5
}
