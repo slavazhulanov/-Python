{
 "cells": [
  {
   "cell_type": "markdown",
   "id": "42687205-bc84-4b80-b772-b36b18fcf46a",
   "metadata": {},
   "source": [
    "### 8 .1 . Исследование модулей и объектов Python\n",
    "\n",
    "Вы можете в интерактивном режиме исследовать модули и объекты не- посредственно из интерпретатора Python. Это недооцененное функцио- нальное средство легко упустить из виду, особенно если вы переходите на Python с другого языка.\n",
    "\n",
    "Многие языки программирования затрудняют инспектирование пакета или класса без сверки с онлайн-документацией или заучивания опреде- лений интерфейсов наизусть.\n",
    "\n",
    "В Python дела обстоят по-другому — эффективный разработчик будет проводить массу времени в сеансах интерпретатора REPL, работая ин- терактивно с интерпретатором Python. Например, я часто это делаю для разработки коротких фрагментов кода и логики, после чего копирую их и вставляю в файл Python, с которым я работаю в своем редакторе.\n",
    "\n",
    "В этой главе вы познакомитесь с двумя простыми приемами, которые можно использовать для исследования классов и методов Python инте- рактивно, находясь вн"
   ]
  },
  {
   "cell_type": "code",
   "execution_count": 1,
   "id": "3bc96a93-7505-486a-a403-6fa8cb483b2c",
   "metadata": {},
   "outputs": [
    {
     "name": "stdout",
     "output_type": "stream",
     "text": [
      "Liza - sosiska\n",
      "Liza - sosiska\n",
      "Liza - sosiska\n",
      "Liza - sosiska\n",
      "Liza - sosiska\n",
      "Liza - sosiska\n",
      "Liza - sosiska\n",
      "Liza - sosiska\n",
      "Liza - sosiska\n",
      "Liza - sosiska\n",
      "Liza - sosiska\n",
      "Liza - sosiska\n",
      "Liza - sosiska\n",
      "Liza - sosiska\n",
      "Liza - sosiska\n"
     ]
    }
   ],
   "source": [
    "for i in range(15):\n",
    "    print(\"Liza - sosiska\")"
   ]
  },
  {
   "cell_type": "code",
   "execution_count": null,
   "id": "2eaad6a9-97e5-41af-9d12-bd41c19d3849",
   "metadata": {},
   "outputs": [],
   "source": []
  }
 ],
 "metadata": {
  "kernelspec": {
   "display_name": "Python 3 (ipykernel)",
   "language": "python",
   "name": "python3"
  },
  "language_info": {
   "codemirror_mode": {
    "name": "ipython",
    "version": 3
   },
   "file_extension": ".py",
   "mimetype": "text/x-python",
   "name": "python",
   "nbconvert_exporter": "python",
   "pygments_lexer": "ipython3",
   "version": "3.11.5"
  }
 },
 "nbformat": 4,
 "nbformat_minor": 5
}
