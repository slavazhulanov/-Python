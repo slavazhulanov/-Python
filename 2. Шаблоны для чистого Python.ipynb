{
 "cells": [
  {
   "cell_type": "markdown",
   "id": "7d1f77d5",
   "metadata": {},
   "source": [
    "### 2.1. Прикрой свой з** инструкциями assert"
   ]
  },
  {
   "cell_type": "code",
   "execution_count": 1,
   "id": "31a3e120",
   "metadata": {},
   "outputs": [],
   "source": [
    "def apply_discount(product, discount):\n",
    "    price = int(product['цена'] * (1.0 - discount))\n",
    "    assert 0 <= price <= product['цена']\n",
    "    return price"
   ]
  },
  {
   "cell_type": "code",
   "execution_count": 2,
   "id": "f4c71913",
   "metadata": {},
   "outputs": [],
   "source": [
    "shoes = {'имя': 'Модные туфли', 'цена': 14900}"
   ]
  },
  {
   "cell_type": "code",
   "execution_count": 3,
   "id": "34a5e64c",
   "metadata": {},
   "outputs": [
    {
     "data": {
      "text/plain": [
       "11175"
      ]
     },
     "execution_count": 3,
     "metadata": {},
     "output_type": "execute_result"
    }
   ],
   "source": [
    "apply_discount(shoes, 0.25)"
   ]
  },
  {
   "cell_type": "code",
   "execution_count": 4,
   "id": "a4548d85",
   "metadata": {},
   "outputs": [
    {
     "ename": "AssertionError",
     "evalue": "",
     "output_type": "error",
     "traceback": [
      "\u001b[0;31m---------------------------------------------------------------------------\u001b[0m",
      "\u001b[0;31mAssertionError\u001b[0m                            Traceback (most recent call last)",
      "\u001b[0;32m/var/folders/zz/t0wj_9090rzgb5q9crcqfj5m0000gn/T/ipykernel_3227/678258690.py\u001b[0m in \u001b[0;36m<module>\u001b[0;34m\u001b[0m\n\u001b[0;32m----> 1\u001b[0;31m \u001b[0mapply_discount\u001b[0m\u001b[0;34m(\u001b[0m\u001b[0mshoes\u001b[0m\u001b[0;34m,\u001b[0m \u001b[0;36m2.0\u001b[0m\u001b[0;34m)\u001b[0m\u001b[0;34m\u001b[0m\u001b[0;34m\u001b[0m\u001b[0m\n\u001b[0m",
      "\u001b[0;32m/var/folders/zz/t0wj_9090rzgb5q9crcqfj5m0000gn/T/ipykernel_3227/3761767258.py\u001b[0m in \u001b[0;36mapply_discount\u001b[0;34m(product, discount)\u001b[0m\n\u001b[1;32m      1\u001b[0m \u001b[0;32mdef\u001b[0m \u001b[0mapply_discount\u001b[0m\u001b[0;34m(\u001b[0m\u001b[0mproduct\u001b[0m\u001b[0;34m,\u001b[0m \u001b[0mdiscount\u001b[0m\u001b[0;34m)\u001b[0m\u001b[0;34m:\u001b[0m\u001b[0;34m\u001b[0m\u001b[0;34m\u001b[0m\u001b[0m\n\u001b[1;32m      2\u001b[0m     \u001b[0mprice\u001b[0m \u001b[0;34m=\u001b[0m \u001b[0mint\u001b[0m\u001b[0;34m(\u001b[0m\u001b[0mproduct\u001b[0m\u001b[0;34m[\u001b[0m\u001b[0;34m'цена'\u001b[0m\u001b[0;34m]\u001b[0m \u001b[0;34m*\u001b[0m \u001b[0;34m(\u001b[0m\u001b[0;36m1.0\u001b[0m \u001b[0;34m-\u001b[0m \u001b[0mdiscount\u001b[0m\u001b[0;34m)\u001b[0m\u001b[0;34m)\u001b[0m\u001b[0;34m\u001b[0m\u001b[0;34m\u001b[0m\u001b[0m\n\u001b[0;32m----> 3\u001b[0;31m     \u001b[0;32massert\u001b[0m \u001b[0;36m0\u001b[0m \u001b[0;34m<=\u001b[0m \u001b[0mprice\u001b[0m \u001b[0;34m<=\u001b[0m \u001b[0mproduct\u001b[0m\u001b[0;34m[\u001b[0m\u001b[0;34m'цена'\u001b[0m\u001b[0;34m]\u001b[0m\u001b[0;34m\u001b[0m\u001b[0;34m\u001b[0m\u001b[0m\n\u001b[0m\u001b[1;32m      4\u001b[0m     \u001b[0;32mreturn\u001b[0m \u001b[0mprice\u001b[0m\u001b[0;34m\u001b[0m\u001b[0;34m\u001b[0m\u001b[0m\n",
      "\u001b[0;31mAssertionError\u001b[0m: "
     ]
    }
   ],
   "source": [
    "apply_discount(shoes, 2.0)"
   ]
  },
  {
   "cell_type": "markdown",
   "id": "a383b05b",
   "metadata": {},
   "source": [
    "Ключевые выводы\n",
    "* Инструкция Python assert — это средство отладки, которое проверяет условие, выступающее в качестве внутренней самопроверки вашей программы.\n",
    "* Инструкции assert должны применяться только для того, чтобы по- могать разработчикам идентифицировать ошибки. Они не являются механизмом обработки ошибок периода исполнения программы.\n",
    "* Инструкции assert могут быть глобально отключены в настройках интерпретатора."
   ]
  },
  {
   "cell_type": "markdown",
   "id": "a8f9aaaf",
   "metadata": {},
   "source": [
    "### 2.2. Беспечное размещение запятой"
   ]
  },
  {
   "cell_type": "code",
   "execution_count": 5,
   "id": "9800c746",
   "metadata": {},
   "outputs": [],
   "source": [
    "names = ['Элис', 'Боб', 'Дилберт']"
   ]
  },
  {
   "cell_type": "code",
   "execution_count": 6,
   "id": "84ff77e1",
   "metadata": {},
   "outputs": [],
   "source": [
    "names = [\n",
    "    'Элис',\n",
    "    'Боб',\n",
    "    'Дилберт'\n",
    "]"
   ]
  },
  {
   "cell_type": "code",
   "execution_count": 7,
   "id": "456b2a90",
   "metadata": {},
   "outputs": [],
   "source": [
    "names = [\n",
    "    'Элис',\n",
    "    'Боб',\n",
    "    'Дилберт',\n",
    "]"
   ]
  },
  {
   "cell_type": "markdown",
   "id": "e5546628",
   "metadata": {},
   "source": [
    "Ключевые выводы\n",
    "* Продуманное форматирование и размещение запятой может упростить обслуживание ваших констант списка, словаря или множества.\n",
    "* Конкатенация строковых литералов как функциональное средство Python может работать как на вас, так и против, внося в код трудноот- лавливаемые ошибки."
   ]
  },
  {
   "cell_type": "markdown",
   "id": "3d8cc214",
   "metadata": {},
   "source": [
    "### 2.3. Менеджеры контекста и инструкция with"
   ]
  },
  {
   "cell_type": "code",
   "execution_count": 8,
   "id": "c3ad7c58",
   "metadata": {},
   "outputs": [],
   "source": [
    "class ManagedFile:\n",
    "    def __init__(self, name):\n",
    "        self.name = name\n",
    "    def __enter__(self):\n",
    "        self.file = open(self.name, 'w')\n",
    "        return self.file\n",
    "    def __exit__(self, exc_type, exc_val, exc_tb):\n",
    "        if self.file:\n",
    "            self.file.close()"
   ]
  },
  {
   "cell_type": "code",
   "execution_count": 9,
   "id": "eb00d869",
   "metadata": {},
   "outputs": [],
   "source": [
    "with ManagedFile('hello.txt') as f:\n",
    "    f.write('привет, мир!')\n",
    "    f.write('а теперь, пока!')"
   ]
  },
  {
   "cell_type": "markdown",
   "id": "cc1e1e0f",
   "metadata": {},
   "source": [
    "Ключевые выводы\n",
    "* Инструкция with упрощает обработку исключений путем инкапсуля- ции стандартных случаев применения инструкций try/finally в так называемые менеджеры контекста.\n",
    "* Чаще всего менеджер контекста используется для управления без- опасным получением и высвобождением системных ресурсов. Ресурсы выделяются при помощи инструкции with и высвобождаются автома- тически, когда поток исполнения покидает контекст with.\n",
    "* Эффективное применение инструкции with помогает избежать утечки ресурсов и облегчает ее восприятие.\n"
   ]
  },
  {
   "cell_type": "markdown",
   "id": "dfcba6b4-bb8c-4138-aab1-e1ff33717a37",
   "metadata": {},
   "source": [
    "### 2.4. Подчеркивания, дандеры и другое"
   ]
  },
  {
   "cell_type": "markdown",
   "id": "2e8f957f-73fe-4cb9-bb61-08465f09ec2e",
   "metadata": {},
   "source": [
    "У символов одинарного и двойного подчеркивания в Python есть осо- бый смысл в именах переменных и методов. Отчасти этот смысл суще- ствует исключительно по договоренности и предназначен в качестве подсказки программисту — и частично он обеспечивается интерпрета- тором Python.\n",
    "Если вам интересно, каков смысл символов одинарного и двойного под- черкивания в именах переменных и методов, то здесь я приложу все уси- лия, чтобы ответить на ваш вопрос. В этом разделе мы обсудим следующие ниже шаблоны подчеркивания и согласованные правила именования и то, как они влияют на поведение ваших программ Python: \n",
    "* Одинарный начальный символ подчеркивания: _var.\n",
    "* Одинарный замыкающий символ подчркивания: var_.\n",
    "* Двойной начальный символ подчеркивания: __var.\n",
    "* Двойной начальный и замыкающий символ подчеркивания: __var__.\n",
    "* Одинарный символ подчеркивания: _."
   ]
  },
  {
   "cell_type": "markdown",
   "id": "ca8d2dda-12ca-4dba-82a0-9fe8b298bbb9",
   "metadata": {},
   "source": [
    "### 1 . Одинарный начальный символ подчеркивания: _var"
   ]
  },
  {
   "cell_type": "markdown",
   "id": "330be440-b3bf-480c-b328-38ef12bf8815",
   "metadata": {},
   "source": [
    "Префикс, состоящий из символа подчеркивания, подразумевается как подсказка, которая должна сообщить другому программисту, что пере- менная или метод, начинающиеся с одинарного символа подчеркивания, предназначаются для внутреннего пользования. Эта договоренность определена в PEP 8, руководстве по стилю оформления наиболее широко применяемого исходного кода Python1."
   ]
  },
  {
   "cell_type": "code",
   "execution_count": 2,
   "id": "18d3d950-6618-46f8-85e5-65eaa5ed2bdf",
   "metadata": {},
   "outputs": [],
   "source": [
    "class Test:\n",
    "    def __init__(self):\n",
    "        self.foo = 11\n",
    "        self._bar = 23"
   ]
  },
  {
   "cell_type": "code",
   "execution_count": 3,
   "id": "1cc1d2e4-e506-4c55-8c74-53e86f8c6cd6",
   "metadata": {},
   "outputs": [],
   "source": [
    "t = Test()"
   ]
  },
  {
   "cell_type": "code",
   "execution_count": 4,
   "id": "485dcf46-2a7e-4ce7-8488-0bafbd818342",
   "metadata": {},
   "outputs": [
    {
     "data": {
      "text/plain": [
       "11"
      ]
     },
     "execution_count": 4,
     "metadata": {},
     "output_type": "execute_result"
    }
   ],
   "source": [
    "t.foo"
   ]
  },
  {
   "cell_type": "code",
   "execution_count": 5,
   "id": "50cd3e0f-e305-4be4-8339-616b5e67f902",
   "metadata": {},
   "outputs": [
    {
     "data": {
      "text/plain": [
       "23"
      ]
     },
     "execution_count": 5,
     "metadata": {},
     "output_type": "execute_result"
    }
   ],
   "source": [
    "t._bar"
   ]
  },
  {
   "cell_type": "markdown",
   "id": "f5601967-97bf-4aea-baa7-5f4bf06ff178",
   "metadata": {},
   "source": [
    "Как видите, одинарный начальный символ подчеркивания в _bar не поме- шал нам «залезть» в класс и получить доступ к значению этой переменной.\n"
   ]
  },
  {
   "cell_type": "markdown",
   "id": "1e1e455f-86b3-4260-913c-66f32143a187",
   "metadata": {},
   "source": [
    "Одинарные символы подчеркивания являются в Python согласованным правилом именования, которое говорит о том, что то или иное имя пред- назначается для внутреннего использования . Это договорное правило обычно интерпретатором Python не обеспечивается и предназначено для программиста только в качестве подсказки ."
   ]
  },
  {
   "cell_type": "markdown",
   "id": "e4d3a311-00b9-4190-8540-a92a531c6f86",
   "metadata": {},
   "source": [
    "### 2 . Одинарный замыкающий символ подчеркивания: var_"
   ]
  },
  {
   "cell_type": "markdown",
   "id": "b15ed4dd-8f96-4dc3-be24-5d6c0cc58c7a",
   "metadata": {},
   "source": [
    "Иногда самое подходящее имя переменной уже занято ключевым словом языка Python. По этой причине такие имена, как class или def, в Python нельзя использовать в качестве имен переменных. В этом случае можно в конец имени добавить символ одинарного подчеркивания, чтобы из- бежать конфликта из-за совпадения имен:"
   ]
  },
  {
   "cell_type": "markdown",
   "id": "7328a4d5-cb04-410b-8f13-09901f6b5138",
   "metadata": {},
   "source": [
    "\n",
    "В общих чертах, замыкающий одинарный символ подчеркивания (пост- фикс) используется по договоренности, чтобы избежать конфликтов из- за совпадения имен с ключевыми словами Python. Эта договоренность определена и объяснена в PEP 8."
   ]
  },
  {
   "cell_type": "markdown",
   "id": "5c007275-0883-46de-bc3f-8f5263a5b349",
   "metadata": {},
   "source": [
    "### 3 . Двойной начальный символ подчеркивания: __var"
   ]
  },
  {
   "cell_type": "markdown",
   "id": "9f43450a-3e3b-45dc-9434-040061bce97e",
   "metadata": {},
   "source": [
    "Шаблоны именования, которые мы рассмотрели к этому моменту, по- лучают свой смысл только из согласованной договоренности. В случае атрибутов (переменных и методов) класса Python, которые начинаются с двойных символов подчеркивания, все немного по-другому.\n",
    "Префикс, состоящий из двойного символа подчеркивания, заставляет интерпретатор Python переписывать имя атрибута для того, чтобы в под- классах избежать конфликтов из-за совпадения имен.\n",
    "Такое переписывание также называется искажением имени (name mangling) — интерпретатор преобразует имя переменной таким образом, что становится сложнее создать конфликты, когда позже класс будет расширен.\n",
    "Я знаю, звучит довольно абстрактно. Вот почему я подобрал этот неболь- шой пример кода, который мы сможем использовать для эксперименти- рования:"
   ]
  },
  {
   "cell_type": "code",
   "execution_count": 6,
   "id": "011868cc-64c8-4d62-8821-3da53adec9d4",
   "metadata": {},
   "outputs": [],
   "source": [
    "class Test:\n",
    "    def __init__(self):\n",
    "        self.foo = 11\n",
    "        self._bar = 23\n",
    "        self.__baz = 23"
   ]
  },
  {
   "cell_type": "markdown",
   "id": "690525b2-e1cb-4040-abec-14f360e0fb83",
   "metadata": {},
   "source": [
    "Давайте взглянем на атрибуты объекта, использовав встроенную функ- цию dir():"
   ]
  },
  {
   "cell_type": "code",
   "execution_count": 7,
   "id": "580f19c2-3212-446c-ac4f-4400b7d91b18",
   "metadata": {},
   "outputs": [],
   "source": [
    "t = Test()"
   ]
  },
  {
   "cell_type": "code",
   "execution_count": 8,
   "id": "2f781ec5-59cd-4b5b-9ce0-7bf73bad6bc7",
   "metadata": {},
   "outputs": [
    {
     "data": {
      "text/plain": [
       "['_Test__baz',\n",
       " '__class__',\n",
       " '__delattr__',\n",
       " '__dict__',\n",
       " '__dir__',\n",
       " '__doc__',\n",
       " '__eq__',\n",
       " '__format__',\n",
       " '__ge__',\n",
       " '__getattribute__',\n",
       " '__gt__',\n",
       " '__hash__',\n",
       " '__init__',\n",
       " '__init_subclass__',\n",
       " '__le__',\n",
       " '__lt__',\n",
       " '__module__',\n",
       " '__ne__',\n",
       " '__new__',\n",
       " '__reduce__',\n",
       " '__reduce_ex__',\n",
       " '__repr__',\n",
       " '__setattr__',\n",
       " '__sizeof__',\n",
       " '__str__',\n",
       " '__subclasshook__',\n",
       " '__weakref__',\n",
       " '_bar',\n",
       " 'foo']"
      ]
     },
     "execution_count": 8,
     "metadata": {},
     "output_type": "execute_result"
    }
   ],
   "source": [
    "dir(t)"
   ]
  },
  {
   "cell_type": "markdown",
   "id": "551c9c0e-3128-454c-8241-12eec6c79cea",
   "metadata": {},
   "source": [
    "Результат показывает список с атрибутами объекта. Давайте возьмем этот список и отыщем наши первоначальные имена переменных foo, _bar, и __baz. Обещаю, вы обнаружите несколько интересных изменений.\n",
    "Прежде всего, в списке атрибутов переменная self.foo появляется неиз- мененной как foo.\n",
    "Далее, self._bar ведет себя таким же образом — она обнаруживается в классе как _bar. Как уже было отмечено, в данном случае начальный символ подчеркивания — это просто договоренность, подсказка про- граммисту.\n",
    "Однако с атрибутом self.__baz все выглядит немного по-другому. Когда вы попытаетесь отыскать в списке атрибут __baz, вы увидите, что пере- менной с таким именем там нет.\n",
    "Так что же произошло с __baz?\n",
    "Если вы приглядитесь, то увидите, что в этом объекте имеется атрибут с именем _Test__baz. Это и есть искажение имени, которое применяет интерпретатор Python. Это делается, чтобы защитить переменную от переопределения в подклассах.\n",
    "Давайте создадим еще один класс, который расширяет класс Test и пы- тается переопределить его существующие атрибуты, добавленные в кон- структоре:"
   ]
  },
  {
   "cell_type": "code",
   "execution_count": 9,
   "id": "0e9e2225-b73f-4316-beaa-3c64967aadca",
   "metadata": {},
   "outputs": [],
   "source": [
    "class ExtendedTest(Test):\n",
    "    def __init__(self):\n",
    "        super().__init__()\n",
    "        self.foo = 'переопределено'\n",
    "        self._bar = 'переопределено'\n",
    "        self.__baz = 'переопределено'"
   ]
  },
  {
   "cell_type": "markdown",
   "id": "4c5a122b-2fc2-41ef-a1ef-9ad80cec295a",
   "metadata": {},
   "source": [
    "Итак, какими, по вашему мнению, будут значения foo, _bar и __baz в эк-\n",
    "земплярах класса ExtendedTest? Давайте посмотрим:"
   ]
  },
  {
   "cell_type": "code",
   "execution_count": 10,
   "id": "90948eda-6b8d-440d-b5e4-a0ddb9667ad0",
   "metadata": {},
   "outputs": [],
   "source": [
    "t2 = ExtendedTest()"
   ]
  },
  {
   "cell_type": "code",
   "execution_count": 11,
   "id": "b3dac3ab-520d-49c0-949e-0ef506b131db",
   "metadata": {
    "jp-MarkdownHeadingCollapsed": true,
    "tags": []
   },
   "outputs": [
    {
     "data": {
      "text/plain": [
       "'переопределено'"
      ]
     },
     "execution_count": 11,
     "metadata": {},
     "output_type": "execute_result"
    }
   ],
   "source": [
    "t2.foo"
   ]
  },
  {
   "cell_type": "code",
   "execution_count": 12,
   "id": "a7d9f93f-1cad-4376-aded-5eb8fa0fae7c",
   "metadata": {},
   "outputs": [
    {
     "data": {
      "text/plain": [
       "'переопределено'"
      ]
     },
     "execution_count": 12,
     "metadata": {},
     "output_type": "execute_result"
    }
   ],
   "source": [
    "t2._bar"
   ]
  },
  {
   "cell_type": "code",
   "execution_count": 13,
   "id": "9bf64899-ccaa-440b-b58e-1a655c407d7a",
   "metadata": {},
   "outputs": [
    {
     "ename": "AttributeError",
     "evalue": "'ExtendedTest' object has no attribute '__baz'",
     "output_type": "error",
     "traceback": [
      "\u001b[0;31m---------------------------------------------------------------------------\u001b[0m",
      "\u001b[0;31mAttributeError\u001b[0m                            Traceback (most recent call last)",
      "\u001b[0;32m/var/folders/zz/t0wj_9090rzgb5q9crcqfj5m0000gn/T/ipykernel_1986/3261563431.py\u001b[0m in \u001b[0;36m<module>\u001b[0;34m\u001b[0m\n\u001b[0;32m----> 1\u001b[0;31m \u001b[0mt2\u001b[0m\u001b[0;34m.\u001b[0m\u001b[0m__baz\u001b[0m\u001b[0;34m\u001b[0m\u001b[0;34m\u001b[0m\u001b[0m\n\u001b[0m",
      "\u001b[0;31mAttributeError\u001b[0m: 'ExtendedTest' object has no attribute '__baz'"
     ]
    }
   ],
   "source": [
    "t2.__baz"
   ]
  },
  {
   "cell_type": "code",
   "execution_count": 14,
   "id": "09af5fa8-b61b-47b5-a3ae-eec7aa652561",
   "metadata": {},
   "outputs": [
    {
     "data": {
      "text/plain": [
       "['_ExtendedTest__baz',\n",
       " '_Test__baz',\n",
       " '__class__',\n",
       " '__delattr__',\n",
       " '__dict__',\n",
       " '__dir__',\n",
       " '__doc__',\n",
       " '__eq__',\n",
       " '__format__',\n",
       " '__ge__',\n",
       " '__getattribute__',\n",
       " '__gt__',\n",
       " '__hash__',\n",
       " '__init__',\n",
       " '__init_subclass__',\n",
       " '__le__',\n",
       " '__lt__',\n",
       " '__module__',\n",
       " '__ne__',\n",
       " '__new__',\n",
       " '__reduce__',\n",
       " '__reduce_ex__',\n",
       " '__repr__',\n",
       " '__setattr__',\n",
       " '__sizeof__',\n",
       " '__str__',\n",
       " '__subclasshook__',\n",
       " '__weakref__',\n",
       " '_bar',\n",
       " 'foo']"
      ]
     },
     "execution_count": 14,
     "metadata": {},
     "output_type": "execute_result"
    }
   ],
   "source": [
    "dir(t2)"
   ]
  },
  {
   "cell_type": "markdown",
   "id": "d35b1e27-dd89-4216-b23e-ca232ac2d901",
   "metadata": {},
   "source": [
    "Как видите, имя __baz превратилось в _ExtendedTest__baz, чтобы предот- вратить случайное изменение. Но первоначальное имя _Test__baz по- прежнему на месте:"
   ]
  },
  {
   "cell_type": "code",
   "execution_count": 15,
   "id": "1a826215-c4ed-4434-a77c-70504e27f754",
   "metadata": {},
   "outputs": [
    {
     "data": {
      "text/plain": [
       "'переопределено'"
      ]
     },
     "execution_count": 15,
     "metadata": {},
     "output_type": "execute_result"
    }
   ],
   "source": [
    "t2._ExtendedTest__baz"
   ]
  },
  {
   "cell_type": "code",
   "execution_count": 16,
   "id": "0faf6932-cda6-41c5-9fac-da95f7ea3190",
   "metadata": {},
   "outputs": [
    {
     "data": {
      "text/plain": [
       "23"
      ]
     },
     "execution_count": 16,
     "metadata": {},
     "output_type": "execute_result"
    }
   ],
   "source": [
    "t2._Test__baz"
   ]
  },
  {
   "cell_type": "markdown",
   "id": "aba72812-d59d-47dc-9b94-564891e2f771",
   "metadata": {},
   "source": [
    "Искажение имени с двойным символом подчеркивания для программи- ста совершенно очевидно. Взгляните на следующий пример, который это подтверждает:"
   ]
  },
  {
   "cell_type": "code",
   "execution_count": 17,
   "id": "929206ea-2f79-43f3-a346-cdc92679bf12",
   "metadata": {},
   "outputs": [],
   "source": [
    "class ManglingTest:\n",
    "    def __init__(self):\n",
    "        self.__mangled = 'Привет'\n",
    "        \n",
    "    def get_mangled(self):\n",
    "         return self.__mangled"
   ]
  },
  {
   "cell_type": "code",
   "execution_count": 18,
   "id": "00ce4b6b-b624-4f2c-8cdb-643074e7983d",
   "metadata": {},
   "outputs": [
    {
     "data": {
      "text/plain": [
       "'Привет'"
      ]
     },
     "execution_count": 18,
     "metadata": {},
     "output_type": "execute_result"
    }
   ],
   "source": [
    "ManglingTest().get_mangled()"
   ]
  },
  {
   "cell_type": "code",
   "execution_count": 19,
   "id": "173be832-3d0f-4780-b19d-69dd2e2cfe53",
   "metadata": {},
   "outputs": [
    {
     "ename": "AttributeError",
     "evalue": "'ManglingTest' object has no attribute '__mangled'",
     "output_type": "error",
     "traceback": [
      "\u001b[0;31m---------------------------------------------------------------------------\u001b[0m",
      "\u001b[0;31mAttributeError\u001b[0m                            Traceback (most recent call last)",
      "\u001b[0;32m/var/folders/zz/t0wj_9090rzgb5q9crcqfj5m0000gn/T/ipykernel_1986/2943269035.py\u001b[0m in \u001b[0;36m<module>\u001b[0;34m\u001b[0m\n\u001b[0;32m----> 1\u001b[0;31m \u001b[0mManglingTest\u001b[0m\u001b[0;34m(\u001b[0m\u001b[0;34m)\u001b[0m\u001b[0;34m.\u001b[0m\u001b[0m__mangled\u001b[0m\u001b[0;34m\u001b[0m\u001b[0;34m\u001b[0m\u001b[0m\n\u001b[0m",
      "\u001b[0;31mAttributeError\u001b[0m: 'ManglingTest' object has no attribute '__mangled'"
     ]
    }
   ],
   "source": [
    "ManglingTest().__mangled"
   ]
  },
  {
   "cell_type": "markdown",
   "id": "f536e9b4-d094-46bf-a9a6-3eb2a41dcb4f",
   "metadata": {},
   "source": [
    "Распространяется ли искажение на имена методов? Конечно! Искажение имен затрагивает все имена, которые в контексте класса начинаются с двух символов подчеркивания (или «дандеров»):"
   ]
  },
  {
   "cell_type": "code",
   "execution_count": 20,
   "id": "59b18414-b008-4b58-ae52-f4190d325d2b",
   "metadata": {},
   "outputs": [],
   "source": [
    "class MangledMethod:\n",
    "    def __method(self):\n",
    "        return 42\n",
    "    def call_it(self):\n",
    "        return self.__method()"
   ]
  },
  {
   "cell_type": "code",
   "execution_count": 21,
   "id": "0070cd7c-9fce-4d1c-84d5-517bd1170551",
   "metadata": {},
   "outputs": [
    {
     "ename": "AttributeError",
     "evalue": "'MangledMethod' object has no attribute '__method'",
     "output_type": "error",
     "traceback": [
      "\u001b[0;31m---------------------------------------------------------------------------\u001b[0m",
      "\u001b[0;31mAttributeError\u001b[0m                            Traceback (most recent call last)",
      "\u001b[0;32m/var/folders/zz/t0wj_9090rzgb5q9crcqfj5m0000gn/T/ipykernel_1986/2847256654.py\u001b[0m in \u001b[0;36m<module>\u001b[0;34m\u001b[0m\n\u001b[0;32m----> 1\u001b[0;31m \u001b[0mMangledMethod\u001b[0m\u001b[0;34m(\u001b[0m\u001b[0;34m)\u001b[0m\u001b[0;34m.\u001b[0m\u001b[0m__method\u001b[0m\u001b[0;34m(\u001b[0m\u001b[0;34m)\u001b[0m\u001b[0;34m\u001b[0m\u001b[0;34m\u001b[0m\u001b[0m\n\u001b[0m",
      "\u001b[0;31mAttributeError\u001b[0m: 'MangledMethod' object has no attribute '__method'"
     ]
    }
   ],
   "source": [
    "MangledMethod().__method()"
   ]
  },
  {
   "cell_type": "code",
   "execution_count": 22,
   "id": "f442a8bb-9767-4220-b737-03ec6f5c87db",
   "metadata": {},
   "outputs": [
    {
     "data": {
      "text/plain": [
       "42"
      ]
     },
     "execution_count": 22,
     "metadata": {},
     "output_type": "execute_result"
    }
   ],
   "source": [
    "MangledMethod().call_it()"
   ]
  },
  {
   "cell_type": "markdown",
   "id": "4b199372-7a8f-4281-a5ef-471a2c9a08fd",
   "metadata": {},
   "source": [
    "Вот еще один, пожалуй, вызывающий удивление, пример искажения имен в действии:"
   ]
  },
  {
   "cell_type": "code",
   "execution_count": 24,
   "id": "61da4a18-e0ff-446b-9d83-f3cd28edfb33",
   "metadata": {},
   "outputs": [],
   "source": [
    "_MangledGlobal__mangled = 23"
   ]
  },
  {
   "cell_type": "code",
   "execution_count": 25,
   "id": "1dc61108-e2bd-46b8-8ab5-7e8770fd61a9",
   "metadata": {},
   "outputs": [],
   "source": [
    "class MangledGlobal:\n",
    "    def test(self):\n",
    "        return __mangled"
   ]
  },
  {
   "cell_type": "code",
   "execution_count": 26,
   "id": "c43d9093-f967-4959-96b8-f141ba1bdaed",
   "metadata": {},
   "outputs": [
    {
     "data": {
      "text/plain": [
       "23"
      ]
     },
     "execution_count": 26,
     "metadata": {},
     "output_type": "execute_result"
    }
   ],
   "source": [
    "MangledGlobal().test()"
   ]
  },
  {
   "cell_type": "markdown",
   "id": "44e52792-87b4-4c98-837a-ad3bd2e438a9",
   "metadata": {},
   "source": [
    "В этом примере я назначил _MangledGlobal__mangled глобальной пе- ременной. Затем к этой переменной я обратился в контексте класса MangledGlobal. Из-за искажения имен я смог сослаться на глобальную переменную _MangledGlobal__mangled просто как на __mangled внутри метода test() класса."
   ]
  },
  {
   "cell_type": "markdown",
   "id": "c3379767-e679-4e40-a890-d98dd50a2c93",
   "metadata": {},
   "source": [
    "Интерпретатор Python автоматически расширил имя __mangled до _MangledGlobal__mangled, потому что оно начинается с двух символов подчеркивания. Это показывает, что искажение имен точно не связано с атрибутами класса. Оно относится к любому имени, начинающемуся с двух символов подчеркивания, которое используется в контексте класса."
   ]
  },
  {
   "cell_type": "markdown",
   "id": "f1615c55-46b2-4acb-84d3-26579aaab688",
   "metadata": {},
   "source": [
    "### Экскурс: что такое дандеры?"
   ]
  },
  {
   "cell_type": "markdown",
   "id": "54ff5939-80a9-4735-aebb-a12d614bd41b",
   "metadata": {},
   "source": [
    "Если вы слышали разговор опытных питонистов о Python или при- сутствовали при обсуждении на конференциях, то, возможно, слышали термин дандер (dunder). Вам интересно, что же это такое? Ладно, вот ответ.\n",
    "В сообществе Python двойные символы подчеркивания часто называют «дандерами» (dunders — это сокращение от англ. double underscores). При- чина в том, что в исходном коде Python двойные символы подчеркивания встречаются довольно часто, и, чтобы не изнурять свои жевательные мышцы, питонисты нередко сокращают термин «двойное подчеркивание», сводя его до «дандера».Например, переменная __baz будет произноситься как «дандер baz». Ана- логичным образом, метод __init__ звучит как «дандер init», хотя будет логичным предположить, что так: «дандер init дандер».\n",
    "Но это всего лишь еще одна из причуд среди прочих согласованных пра- вил именования. Для разработчиков Python это все равно что секретное рукопожатие."
   ]
  },
  {
   "cell_type": "markdown",
   "id": "641b0d38-5ee0-4ecc-9508-4ffec9fc11c4",
   "metadata": {},
   "source": [
    "### 4 . Двойной начальный и замыкающий символ подчеркивания: __var__\n"
   ]
  },
  {
   "cell_type": "markdown",
   "id": "3ace1427-9bd2-4428-88b0-d722f4bb5ed8",
   "metadata": {},
   "source": [
    "Пожалуй, это удивляет, но искажение имен не применяется, если имя начинается и заканчивается двойными символами подчеркивания. Ин- терпретатор Python не трогает переменные, окруженные префиксом и постфиксом, которые состоят из двойных символов подчеркивания:"
   ]
  },
  {
   "cell_type": "code",
   "execution_count": 27,
   "id": "6867a82b-3f39-4830-b376-a044ff2cec29",
   "metadata": {},
   "outputs": [],
   "source": [
    "class PrefixPostfixTest:\n",
    "    def __init__(self):\n",
    "        self.__bam__ = 42"
   ]
  },
  {
   "cell_type": "code",
   "execution_count": 28,
   "id": "7b01f17e-1c3e-471e-93f4-04ef9719e0c0",
   "metadata": {},
   "outputs": [
    {
     "data": {
      "text/plain": [
       "42"
      ]
     },
     "execution_count": 28,
     "metadata": {},
     "output_type": "execute_result"
    }
   ],
   "source": [
    "PrefixPostfixTest().__bam__"
   ]
  },
  {
   "cell_type": "markdown",
   "id": "b7acf419-54a6-4622-9bda-3b35e350c416",
   "metadata": {},
   "source": [
    "Однако имена, у которых есть начальный и замыкающий двойной символ подчеркивания, в языке зарезервированы для специального применения. Это правило касается таких имен, как метод __init__ для конструкторов объектов или метод __call__, который делает объекты вызываемыми.\n",
    "Эти дандер-методы часто упоминаются как магические методы, однако в сообществе Python многим разработчикам, включая меня, это слово не нравится. Такое название подразумевает, что применение дандер-методов не приветствуется, и это абсолютно не соответствует действительности. В Python они представляют собой ключевое функциональное средство и должны применяться по мере необходимости. В них нет ничего «маги- ческого» или тайного.\n",
    "Тем не менее в контексте согласованных правил именования лучше воз- держаться от использования имен, которые начинаются и заканчиваютсядвойными символами подчеркивания, в своих собственных программах —\n",
    "во избежание конфликтов с последующими версиями языка Python."
   ]
  },
  {
   "cell_type": "markdown",
   "id": "8b73bc30-92ca-446e-8b7b-331052e4d4fa",
   "metadata": {},
   "source": [
    "### 5 . Одинарный символ подчеркивания: _"
   ]
  },
  {
   "cell_type": "markdown",
   "id": "576d7549-04d4-45f0-9f33-06e9e9492d05",
   "metadata": {},
   "source": [
    "По договоренности одинарный автономный символ подчеркивания ино- гда используется в качестве имени, чтобы подчеркнуть, что эта перемен- ная временная или незначительная.\n",
    "Например, в приведенном ниже цикле нам не нужен доступ к нарастающе- му индексу, и мы можем применить «_», чтобы показать, что этот символ подчеркивания является лишь временным значением:"
   ]
  },
  {
   "cell_type": "code",
   "execution_count": 29,
   "id": "8fd3d039-b0d5-43ae-9d7e-79dfdbd6602d",
   "metadata": {},
   "outputs": [
    {
     "name": "stdout",
     "output_type": "stream",
     "text": [
      "Привет, Мир.\n",
      "Привет, Мир.\n",
      "Привет, Мир.\n",
      "Привет, Мир.\n",
      "Привет, Мир.\n",
      "Привет, Мир.\n",
      "Привет, Мир.\n",
      "Привет, Мир.\n",
      "Привет, Мир.\n",
      "Привет, Мир.\n",
      "Привет, Мир.\n",
      "Привет, Мир.\n",
      "Привет, Мир.\n",
      "Привет, Мир.\n",
      "Привет, Мир.\n",
      "Привет, Мир.\n",
      "Привет, Мир.\n",
      "Привет, Мир.\n",
      "Привет, Мир.\n",
      "Привет, Мир.\n",
      "Привет, Мир.\n",
      "Привет, Мир.\n",
      "Привет, Мир.\n",
      "Привет, Мир.\n",
      "Привет, Мир.\n",
      "Привет, Мир.\n",
      "Привет, Мир.\n",
      "Привет, Мир.\n",
      "Привет, Мир.\n",
      "Привет, Мир.\n",
      "Привет, Мир.\n",
      "Привет, Мир.\n"
     ]
    }
   ],
   "source": [
    "for _ in range(32):\n",
    "    print('Привет, Мир.')"
   ]
  },
  {
   "cell_type": "markdown",
   "id": "e8356b1d-22bc-4827-90da-9b523e1b5eb3",
   "metadata": {},
   "source": [
    "Одинарные символы подчеркивания также можно применять в распа- ковке выражений, обозначая таким образом «неважную» переменную, чтобы проигнорировать отдельные значения. И снова: смысл одинарного подчеркивания существует только по договоренности, и оно не запускает особых форм поведения в синтаксическом анализаторе Python. Одинар- ный символ подчеркивания — это просто имя допустимой переменной, которое иногда используется с этой целью.\n",
    "В следующем ниже примере исходного кода я распаковываю кортеж в от- дельные переменные, но я заинтересован только в значениях полей color и mileage. Однако для того, чтобы выражение распаковки было успешным, мне нужно назначить переменным все содержащиеся в кортеже значения. Именно тут в качестве переменной-заполнителя пригодится символ «_»:"
   ]
  },
  {
   "cell_type": "code",
   "execution_count": 30,
   "id": "ce80abdd-60b0-4aa4-805a-acd718702712",
   "metadata": {},
   "outputs": [],
   "source": [
    "car = ('красный', 'легковой автомобиль', 12, 3812.4)"
   ]
  },
  {
   "cell_type": "code",
   "execution_count": 31,
   "id": "f58b9e62-5111-45b5-b0f1-98a79ecf7a87",
   "metadata": {},
   "outputs": [],
   "source": [
    "color, _, _, mileage = car"
   ]
  },
  {
   "cell_type": "code",
   "execution_count": 32,
   "id": "a06085b8-8dda-493f-bbda-cf0a85706254",
   "metadata": {},
   "outputs": [
    {
     "data": {
      "text/plain": [
       "'красный'"
      ]
     },
     "execution_count": 32,
     "metadata": {},
     "output_type": "execute_result"
    }
   ],
   "source": [
    "color"
   ]
  },
  {
   "cell_type": "code",
   "execution_count": 33,
   "id": "5f5ab3ed-ccdb-4610-a916-4e4122ddb451",
   "metadata": {},
   "outputs": [
    {
     "data": {
      "text/plain": [
       "3812.4"
      ]
     },
     "execution_count": 33,
     "metadata": {},
     "output_type": "execute_result"
    }
   ],
   "source": [
    "mileage"
   ]
  },
  {
   "cell_type": "code",
   "execution_count": 34,
   "id": "6b7c23a6-a4c0-4de8-a2e4-6dd3999f858d",
   "metadata": {},
   "outputs": [
    {
     "data": {
      "text/plain": [
       "12"
      ]
     },
     "execution_count": 34,
     "metadata": {},
     "output_type": "execute_result"
    }
   ],
   "source": [
    "_"
   ]
  },
  {
   "cell_type": "markdown",
   "id": "a3f9b848-0fff-4252-8034-05122f51828b",
   "metadata": {},
   "source": [
    "Помимо его применения в качестве временной переменной, символ «_» является специальной переменной в большинстве интерпретаторов Python, работающих в цикле чтение-вычисление-печать (REPL). Она представляет в них результат последнего выражения, вычисленного интерпретатором.\n",
    "Это удобно, если вы работаете в сеансе интерпретатора и хотите получить доступ к результату предыдущего вычисления:"
   ]
  },
  {
   "cell_type": "code",
   "execution_count": 35,
   "id": "d35c00eb-7a83-493f-960f-f05329bd0944",
   "metadata": {},
   "outputs": [
    {
     "data": {
      "text/plain": [
       "23"
      ]
     },
     "execution_count": 35,
     "metadata": {},
     "output_type": "execute_result"
    }
   ],
   "source": [
    "20 + 3"
   ]
  },
  {
   "cell_type": "code",
   "execution_count": 36,
   "id": "1cc181f7-82e6-43a4-8d91-618f5cc45095",
   "metadata": {},
   "outputs": [
    {
     "data": {
      "text/plain": [
       "12"
      ]
     },
     "execution_count": 36,
     "metadata": {},
     "output_type": "execute_result"
    }
   ],
   "source": [
    "_"
   ]
  },
  {
   "cell_type": "markdown",
   "id": "83701c5e-185f-402e-a7c2-203b9a6c20cc",
   "metadata": {},
   "source": [
    "### Ключевые выводы\n",
    "\n",
    "* Одинарный начальный символ подчеркивания _var: согласованное правило именования, указывающее на то, что имя предназначается для внутреннего использования. Обычно не обеспечивается интерпре- татором Python (за исключением подстановочного импорта) и нужно только как подсказка программистам.\n",
    "* Одинарный замыкающий символ подчеркивания var_: используется по договоренности, чтобы избежать конфликтов с ключевыми словами Python, которые могут возникнуть из-за совпадения имен.\n",
    "* Двойной начальный символ подчеркивания __var: запускает механизм искажения имен при использовании в контексте класса. Обеспечива- ется интерпретатором Python.\n",
    "* Двойной начальный и замыкающий символ подчеркивания __var__: указывает на специальные методы, определенные языком Python. Следует избегать этой схемы именования для своих собственных атрибутов.\n",
    "* Одинарный символ подчеркивания _: иногда используется в качестве имени временных или незначительных переменных («неважных»). Кроме того, он представляет результат последнего выражения в сеансе интерпретатора REPL Python."
   ]
  },
  {
   "cell_type": "markdown",
   "id": "5537180e-d92d-4187-80b2-d521fa295bae",
   "metadata": {},
   "source": [
    "### 2.5. Шокирующая правда о форматировании строковых значений"
   ]
  },
  {
   "cell_type": "markdown",
   "id": "67147984-88d0-4892-8aa3-81942a96e3dd",
   "metadata": {},
   "source": [
    "Помните про Дзен Python и про то, как должен существовать «один — и, желательно, только один — очевидный способ сделать это»? Вы, воз- можно, почешете затылок, когда узнаете, что в Python существует четыре основных способа форматирования строковых значений.\n",
    "В этом разделе я покажу, как эти четыре подхода к форматированию строк работают и каковы их соответствующие достоинства и недостатки. Я так- же покажу вам свое простое «эмпирическое правило» в отношении того, как я подбираю наилучший универсальный подход к форматированию строк."
   ]
  },
  {
   "cell_type": "code",
   "execution_count": 38,
   "id": "aa7e35c7-b501-48f3-920c-62ebe2f80753",
   "metadata": {},
   "outputs": [],
   "source": [
    "errno = 50159747054\n",
    "name = 'Боб'"
   ]
  },
  {
   "cell_type": "markdown",
   "id": "60d5f81a-6b09-4635-8509-d97e9b35a7a6",
   "metadata": {},
   "source": [
    "### No 1 . «Классическое» форматирование строковых значений"
   ]
  },
  {
   "cell_type": "markdown",
   "id": "7d2aa10b-d9e3-4d9b-8723-c97f6948e379",
   "metadata": {},
   "source": [
    "Строковые значения в Python имеют уникальную встроенную операцию, к которой можно обратиться через оператор %. Этот оператор представ- ляет собой краткую форму, которая позволяет очень легко выполнять простое позиционное форматирование. Если вы когда-либо имели дело с функцией printf в языке C, то вы сразу же поймете, как эта операция работает. Ниже дан простой пример:"
   ]
  },
  {
   "cell_type": "code",
   "execution_count": 39,
   "id": "d9b32fcf-7486-442b-bb6b-267646548587",
   "metadata": {},
   "outputs": [
    {
     "data": {
      "text/plain": [
       "'Привет, Боб'"
      ]
     },
     "execution_count": 39,
     "metadata": {},
     "output_type": "execute_result"
    }
   ],
   "source": [
    "'Привет, %s' % name"
   ]
  },
  {
   "cell_type": "markdown",
   "id": "70a1d6a2-79fb-4224-92bd-111590a9bb8b",
   "metadata": {},
   "source": [
    "Здесь я использую спецификатор формата %s, чтобы сообщить Python, где подставить значение переменной name, представленной в виде строкового значения. Этот способ называется «классическим» форматированием строк1.\n",
    "В классическом форматировании строк существуют и другие специфика- торы формата, служащие для того, чтобы дать вам возможность управлять выводимым строковым значением. Например, имеется возможность пре- образовывать числа в шестнадцатеричную форму записи или заполнять пробелами для генерирования безупречно отформатированных таблиц и отчетов.\n",
    "Ниже я использую спецификатор формата %x, чтобы преобразовать цело- численное значение в строковое и представить его как шестнадцатеричное число:"
   ]
  },
  {
   "cell_type": "code",
   "execution_count": 40,
   "id": "d4f8a8ae-1657-46b3-b88f-8608b20576e5",
   "metadata": {},
   "outputs": [
    {
     "data": {
      "text/plain": [
       "'badc0ffee'"
      ]
     },
     "execution_count": 40,
     "metadata": {},
     "output_type": "execute_result"
    }
   ],
   "source": [
    "'%x' % errno"
   ]
  },
  {
   "cell_type": "markdown",
   "id": "c06776a2-9e03-4706-901a-1f620881ae87",
   "metadata": {},
   "source": [
    "Синтаксис «классического» форматирования строк слегка изменится, если вы захотите выполнить многочисленные подстановки в одном- единственном строковом значении. Поскольку оператор % принимает всего один аргумент, вам необходимо обернуть правую часть в кортеж, как здесь:"
   ]
  },
  {
   "cell_type": "code",
   "execution_count": 41,
   "id": "5f550897-01fa-4f01-a0d3-c7ceb8e2ab22",
   "metadata": {},
   "outputs": [
    {
     "data": {
      "text/plain": [
       "'Эй, Боб! Вот ошибка 0xbadc0ffee!'"
      ]
     },
     "execution_count": 41,
     "metadata": {},
     "output_type": "execute_result"
    }
   ],
   "source": [
    "'Эй, %s! Вот ошибка 0x%x!' % (name, errno)"
   ]
  },
  {
   "cell_type": "markdown",
   "id": "70f16d1d-c0c7-4a6b-9f0f-39530b73bab2",
   "metadata": {},
   "source": [
    "\n",
    "Это облегчает поддержку ваших строк и их модификацию в будущем. Вам не нужно волноваться о том, что порядок, в котором вы передаете значе- ния, совпадает с порядком, на который ссылаются значения в форматной строке. Разумеется, оборотной стороной этого приема является то, что он требует набирать чуть больше текста.\n",
    "Я уверен, вы спросите, почему такое форматирование в стиле printf называется «классическим» форматированием строк. Что ж, давайте расскажу. Дело в том, что оно технически было заменено на «современ- ное» форматирование, о котором мы собираемся поговорить уже через минуту. Но несмотря на то что «классическому» форматированию стали придавать меньшее значение, оно не было объявлено нерекомендуемым для использования. И в последних версиях Python оно по-прежнему под- держивается."
   ]
  },
  {
   "cell_type": "markdown",
   "id": "75c48005-e1ed-4eef-860a-189e4249e107",
   "metadata": {},
   "source": [
    "### No 2 . «Современное» форматирование строковых значений"
   ]
  },
  {
   "cell_type": "markdown",
   "id": "acc08624-8c6a-4c79-8606-00bf98d62c53",
   "metadata": {},
   "source": [
    "Python 3 ввел новый способ форматирования строк, который позднее был также перенесен в Python 2.7. Это «современное» форматирование строк избавляется от специального синтаксиса с использованием опера- тора % и делает синтаксис форматирования строк более упорядоченным.Форматирование теперь обрабатывается вызовом функции format() со\n",
    "строковым объектом1.\n",
    "Функция format() может применяться для выполнения простого позици- онного форматирования, точно так же, как вы могли поступать в случае с «классическим» форматированием:"
   ]
  },
  {
   "cell_type": "code",
   "execution_count": 42,
   "id": "b148a6c7-e6c8-421e-830a-bd4f404f963b",
   "metadata": {},
   "outputs": [
    {
     "data": {
      "text/plain": [
       "'Привет, Боб'"
      ]
     },
     "execution_count": 42,
     "metadata": {},
     "output_type": "execute_result"
    }
   ],
   "source": [
    "'Привет, {}'.format(name)"
   ]
  },
  {
   "cell_type": "markdown",
   "id": "92fcc49d-c877-483a-aab6-51779f39d58a",
   "metadata": {},
   "source": [
    "Либо вы можете обращаться к подстановкам переменных по имени и ис- пользовать их в любом порядке, в котором вы захотите. Это довольно мощное функциональное средство языка, поскольку оно позволяет из- менять порядок следования отображаемых элементов, не изменяя аргу- менты, переданные в функцию форматирования:\n"
   ]
  },
  {
   "cell_type": "code",
   "execution_count": 43,
   "id": "d3bb6e03-d17f-4d7b-872d-9953fe2cae3a",
   "metadata": {},
   "outputs": [
    {
     "data": {
      "text/plain": [
       "'Эй, Боб! Вот ошибка 0xbadc0ffee!'"
      ]
     },
     "execution_count": 43,
     "metadata": {},
     "output_type": "execute_result"
    }
   ],
   "source": [
    "'Эй, {name}! Вот ошибка 0x{errno:x}!'.format(name=name, errno=errno)"
   ]
  },
  {
   "cell_type": "markdown",
   "id": "36d92f33-30ac-40c3-8bce-11ee6854b9d6",
   "metadata": {},
   "source": [
    "Этот пример также показывает, как изменился синтаксис форматирова- ния целочисленной переменной в виде шестнадцатеричной строки. Теперь мы должны передавать спецификацию формата (format spec) путем до- бавления суффикса «:x» после имени переменной.\n",
    "В целом синтаксис форматной строки стал мощнее, не усложнив при этом более простые варианты использования. Время, потраченное на подробное изучение документации Python по мини-языку форматирования строк, с лихвой окупится2."
   ]
  },
  {
   "cell_type": "markdown",
   "id": "55db6111-4fd6-42d3-825d-7186588498f7",
   "metadata": {},
   "source": [
    "### No 3 . Интерполяция литеральных строк (Python 3 .6+)"
   ]
  },
  {
   "cell_type": "markdown",
   "id": "f0bbdccc-1e13-4dd3-af85-8bb2f29f52a5",
   "metadata": {},
   "source": [
    "Python 3.6 добавляет еще один способ форматирования строк, который называется форматированными строковыми литералами (Formatted String Literals). Этот новый способ форматирования строк позволяет ис- пользовать выражения Python, которые встраиваются в строковые кон- станты. Ниже дан простой пример, который поможет вам проникнуться этим функциональным средством языка:"
   ]
  },
  {
   "cell_type": "code",
   "execution_count": 44,
   "id": "9e1e7bf9-a396-444e-8154-a39294b7491f",
   "metadata": {},
   "outputs": [
    {
     "data": {
      "text/plain": [
       "'Привет, Боб!'"
      ]
     },
     "execution_count": 44,
     "metadata": {},
     "output_type": "execute_result"
    }
   ],
   "source": [
    "f'Привет, {name}!'"
   ]
  },
  {
   "cell_type": "markdown",
   "id": "c02ab081-925f-4293-adee-f1eb0034deee",
   "metadata": {},
   "source": [
    "В новом синтаксисе форматирования заложена большая мощь. Поскольку он позволяет встраивать произвольные выражения Python, вы даже може- те выполнять локальные арифметические действия, как показано ниже:"
   ]
  },
  {
   "cell_type": "code",
   "execution_count": 45,
   "id": "481e3c92-2792-41f3-ae75-43efcc98bd6e",
   "metadata": {},
   "outputs": [
    {
     "data": {
      "text/plain": [
       "'Пять плюс десять равняется 15, а не 30.'"
      ]
     },
     "execution_count": 45,
     "metadata": {},
     "output_type": "execute_result"
    }
   ],
   "source": [
    "a = 5\n",
    "b = 10\n",
    "f'Пять плюс десять равняется {a + b}, а не {2 * (a + b)}.'"
   ]
  },
  {
   "cell_type": "markdown",
   "id": "68c4ed78-7cbc-4e31-9eca-131a0fe1e19a",
   "metadata": {},
   "source": [
    "### No 4 . Шаблонные строки"
   ]
  },
  {
   "cell_type": "markdown",
   "id": "f8729be4-da44-463a-a5e5-854106b80d44",
   "metadata": {},
   "source": [
    "Еще один прием форматирования строк в Python представлен шаблон- ными строками. Этот механизм более простой и менее мощный, но в не- которых случаях он может оказаться именно тем, что вы ищете.\n",
    "Давайте взглянем на простой пример приветствия:"
   ]
  },
  {
   "cell_type": "code",
   "execution_count": 46,
   "id": "2b92857c-b307-4e39-8120-e485bc26fca5",
   "metadata": {},
   "outputs": [
    {
     "data": {
      "text/plain": [
       "'Эй, Боб!'"
      ]
     },
     "execution_count": 46,
     "metadata": {},
     "output_type": "execute_result"
    }
   ],
   "source": [
    "from string import Template\n",
    "t = Template('Эй, $name!')\n",
    "t.substitute(name=name)"
   ]
  },
  {
   "cell_type": "markdown",
   "id": "f6faa88f-c350-40b1-8936-507db27d03e9",
   "metadata": {},
   "source": [
    "Здесь вы видите, что нам приходится импортировать класс Template из встроенного модуля Python string. Шаблонные строки не являются ключевым функциональным свойством языка, но они обеспечиваются модулем стандартной библиотеки.\n",
    "Еще одно отличие состоит в том, что шаблонные строки не допускают спецификаторы формата. Поэтому, чтобы заставить пример со строковой ошибкой работать, мы должны сами преобразовать целочисленный код ошибки в шестнадцатеричное строковое значение:\n"
   ]
  },
  {
   "cell_type": "code",
   "execution_count": 47,
   "id": "e479bb8e-2a22-42b1-8dda-c676d9d1416b",
   "metadata": {},
   "outputs": [
    {
     "data": {
      "text/plain": [
       "'Эй, Боб! Вот ошибка 0xbadc0ffee!'"
      ]
     },
     "execution_count": 47,
     "metadata": {},
     "output_type": "execute_result"
    }
   ],
   "source": [
    "templ_string = 'Эй, $name! Вот ошибка $error!'\n",
    "Template(templ_string).substitute(name=name, error=hex(errno))"
   ]
  },
  {
   "cell_type": "markdown",
   "id": "8f8d9fd9-a650-49ab-a4fe-fb5eb27bebc7",
   "metadata": {},
   "source": [
    "Пример сработал отлично, но вы, вероятно, интересуетесь, в каких случа- ях использовать шаблонные строки в программах на Python. По-моему, самый лучший вариант применения шаблонных строк наступает тогда, когда вы обрабатываете форматные строки, сгенерированные пользова- телями программы. Благодаря их уменьшенной сложности, шаблонные строки являются более безопасным вариантом выбора.\n",
    "Более сложные мини-языки форматирования для других приемов фор- матирования строк могут вносить уязвимости в ваши программы с точки зрения безопасности. Например, форматные строки могут получать до- ступ к произвольным переменным в программе.Это означает, что если злонамеренный пользователь может передать форматную строку, то он также может потенциально раскрыть секретные ключи и другую ценную информацию! Вот простое доказательство идеи о том, как такая атака могла бы использоваться:"
   ]
  },
  {
   "cell_type": "code",
   "execution_count": 49,
   "id": "baeff4e5-370d-419d-bcf3-2c65ad3ee6ee",
   "metadata": {},
   "outputs": [
    {
     "data": {
      "text/plain": [
       "'{error.__init__.__globals__[SECRET]}'"
      ]
     },
     "execution_count": 49,
     "metadata": {},
     "output_type": "execute_result"
    }
   ],
   "source": [
    "SECRET = 'это – секрет'\n",
    "class Error:\n",
    "    def __init__(self):\n",
    "        pass\n",
    "err = Error()\n",
    "user_input = '{error.__init__.__globals__[SECRET]}'\n",
    "user_input"
   ]
  },
  {
   "cell_type": "code",
   "execution_count": 50,
   "id": "2bedb440-09bc-47b4-ab5b-d50ddf8f4f10",
   "metadata": {},
   "outputs": [
    {
     "data": {
      "text/plain": [
       "'это – секрет'"
      ]
     },
     "execution_count": 50,
     "metadata": {},
     "output_type": "execute_result"
    }
   ],
   "source": [
    "user_input.format(error=err)"
   ]
  },
  {
   "cell_type": "markdown",
   "id": "30c70362-8207-4f2f-8ac8-1426d4dd0c23",
   "metadata": {},
   "source": [
    "Заметили, как гипотетический взломщик смог извлечь нашу секретную строку, обратившись из форматной строки к словарю __globals__? Жутко, да! Шаблонные строки закрывают это направление атаки, и это делает их более безопасным выбором, если вы обрабатываете форматные строки, генерируемые из данных, вводимых пользователем:"
   ]
  },
  {
   "cell_type": "markdown",
   "id": "fb793713-a4e8-4e03-9ab6-b453a9135968",
   "metadata": {},
   "source": [
    "Заметили, как гипотетический взломщик смог извлечь нашу секретную строку, обратившись из форматной строки к словарю __globals__? Жутко, да! Шаблонные строки закрывают это направление атаки, и это делает их более безопасным выбором, если вы обрабатываете форматные строки, генерируемые из данных, вводимых пользователем:"
   ]
  },
  {
   "cell_type": "code",
   "execution_count": 51,
   "id": "481e7987-be38-49b9-af74-f35f2b71abfe",
   "metadata": {},
   "outputs": [
    {
     "ename": "ValueError",
     "evalue": "Invalid placeholder in string: line 1, col 1",
     "output_type": "error",
     "traceback": [
      "\u001b[0;31m---------------------------------------------------------------------------\u001b[0m",
      "\u001b[0;31mValueError\u001b[0m                                Traceback (most recent call last)",
      "\u001b[0;32m/var/folders/zz/t0wj_9090rzgb5q9crcqfj5m0000gn/T/ipykernel_1986/3553807727.py\u001b[0m in \u001b[0;36m<module>\u001b[0;34m\u001b[0m\n\u001b[1;32m      1\u001b[0m \u001b[0muser_input\u001b[0m \u001b[0;34m=\u001b[0m \u001b[0;34m'${error.__init__.__globals__[SECRET]}'\u001b[0m\u001b[0;34m\u001b[0m\u001b[0;34m\u001b[0m\u001b[0m\n\u001b[0;32m----> 2\u001b[0;31m \u001b[0mTemplate\u001b[0m\u001b[0;34m(\u001b[0m\u001b[0muser_input\u001b[0m\u001b[0;34m)\u001b[0m\u001b[0;34m.\u001b[0m\u001b[0msubstitute\u001b[0m\u001b[0;34m(\u001b[0m\u001b[0merror\u001b[0m\u001b[0;34m=\u001b[0m\u001b[0merr\u001b[0m\u001b[0;34m)\u001b[0m\u001b[0;34m\u001b[0m\u001b[0;34m\u001b[0m\u001b[0m\n\u001b[0m",
      "\u001b[0;32m/opt/anaconda3/lib/python3.9/string.py\u001b[0m in \u001b[0;36msubstitute\u001b[0;34m(self, mapping, **kws)\u001b[0m\n\u001b[1;32m    119\u001b[0m             raise ValueError('Unrecognized named group in pattern',\n\u001b[1;32m    120\u001b[0m                              self.pattern)\n\u001b[0;32m--> 121\u001b[0;31m         \u001b[0;32mreturn\u001b[0m \u001b[0mself\u001b[0m\u001b[0;34m.\u001b[0m\u001b[0mpattern\u001b[0m\u001b[0;34m.\u001b[0m\u001b[0msub\u001b[0m\u001b[0;34m(\u001b[0m\u001b[0mconvert\u001b[0m\u001b[0;34m,\u001b[0m \u001b[0mself\u001b[0m\u001b[0;34m.\u001b[0m\u001b[0mtemplate\u001b[0m\u001b[0;34m)\u001b[0m\u001b[0;34m\u001b[0m\u001b[0;34m\u001b[0m\u001b[0m\n\u001b[0m\u001b[1;32m    122\u001b[0m \u001b[0;34m\u001b[0m\u001b[0m\n\u001b[1;32m    123\u001b[0m     \u001b[0;32mdef\u001b[0m \u001b[0msafe_substitute\u001b[0m\u001b[0;34m(\u001b[0m\u001b[0mself\u001b[0m\u001b[0;34m,\u001b[0m \u001b[0mmapping\u001b[0m\u001b[0;34m=\u001b[0m\u001b[0m_sentinel_dict\u001b[0m\u001b[0;34m,\u001b[0m \u001b[0;34m/\u001b[0m\u001b[0;34m,\u001b[0m \u001b[0;34m**\u001b[0m\u001b[0mkws\u001b[0m\u001b[0;34m)\u001b[0m\u001b[0;34m:\u001b[0m\u001b[0;34m\u001b[0m\u001b[0;34m\u001b[0m\u001b[0m\n",
      "\u001b[0;32m/opt/anaconda3/lib/python3.9/string.py\u001b[0m in \u001b[0;36mconvert\u001b[0;34m(mo)\u001b[0m\n\u001b[1;32m    116\u001b[0m                 \u001b[0;32mreturn\u001b[0m \u001b[0mself\u001b[0m\u001b[0;34m.\u001b[0m\u001b[0mdelimiter\u001b[0m\u001b[0;34m\u001b[0m\u001b[0;34m\u001b[0m\u001b[0m\n\u001b[1;32m    117\u001b[0m             \u001b[0;32mif\u001b[0m \u001b[0mmo\u001b[0m\u001b[0;34m.\u001b[0m\u001b[0mgroup\u001b[0m\u001b[0;34m(\u001b[0m\u001b[0;34m'invalid'\u001b[0m\u001b[0;34m)\u001b[0m \u001b[0;32mis\u001b[0m \u001b[0;32mnot\u001b[0m \u001b[0;32mNone\u001b[0m\u001b[0;34m:\u001b[0m\u001b[0;34m\u001b[0m\u001b[0;34m\u001b[0m\u001b[0m\n\u001b[0;32m--> 118\u001b[0;31m                 \u001b[0mself\u001b[0m\u001b[0;34m.\u001b[0m\u001b[0m_invalid\u001b[0m\u001b[0;34m(\u001b[0m\u001b[0mmo\u001b[0m\u001b[0;34m)\u001b[0m\u001b[0;34m\u001b[0m\u001b[0;34m\u001b[0m\u001b[0m\n\u001b[0m\u001b[1;32m    119\u001b[0m             raise ValueError('Unrecognized named group in pattern',\n\u001b[1;32m    120\u001b[0m                              self.pattern)\n",
      "\u001b[0;32m/opt/anaconda3/lib/python3.9/string.py\u001b[0m in \u001b[0;36m_invalid\u001b[0;34m(self, mo)\u001b[0m\n\u001b[1;32m     99\u001b[0m             \u001b[0mcolno\u001b[0m \u001b[0;34m=\u001b[0m \u001b[0mi\u001b[0m \u001b[0;34m-\u001b[0m \u001b[0mlen\u001b[0m\u001b[0;34m(\u001b[0m\u001b[0;34m''\u001b[0m\u001b[0;34m.\u001b[0m\u001b[0mjoin\u001b[0m\u001b[0;34m(\u001b[0m\u001b[0mlines\u001b[0m\u001b[0;34m[\u001b[0m\u001b[0;34m:\u001b[0m\u001b[0;34m-\u001b[0m\u001b[0;36m1\u001b[0m\u001b[0;34m]\u001b[0m\u001b[0;34m)\u001b[0m\u001b[0;34m)\u001b[0m\u001b[0;34m\u001b[0m\u001b[0;34m\u001b[0m\u001b[0m\n\u001b[1;32m    100\u001b[0m             \u001b[0mlineno\u001b[0m \u001b[0;34m=\u001b[0m \u001b[0mlen\u001b[0m\u001b[0;34m(\u001b[0m\u001b[0mlines\u001b[0m\u001b[0;34m)\u001b[0m\u001b[0;34m\u001b[0m\u001b[0;34m\u001b[0m\u001b[0m\n\u001b[0;32m--> 101\u001b[0;31m         raise ValueError('Invalid placeholder in string: line %d, col %d' %\n\u001b[0m\u001b[1;32m    102\u001b[0m                          (lineno, colno))\n\u001b[1;32m    103\u001b[0m \u001b[0;34m\u001b[0m\u001b[0m\n",
      "\u001b[0;31mValueError\u001b[0m: Invalid placeholder in string: line 1, col 1"
     ]
    }
   ],
   "source": [
    "user_input = '${error.__init__.__globals__[SECRET]}'\n",
    "Template(user_input).substitute(error=err)"
   ]
  },
  {
   "cell_type": "markdown",
   "id": "106db8d9-4aec-474e-be42-4ef62dbb738b",
   "metadata": {
    "tags": []
   },
   "source": [
    "### Какой метод форматирования строк мне использовать?"
   ]
  },
  {
   "cell_type": "markdown",
   "id": "69af407d-6204-4741-b271-72c5ab4c4fef",
   "metadata": {},
   "source": [
    "Я вполне понимаю, что, имея такой широкий выбор способов форматиро- вания своих строковых значений в Python, вы можете испытывать заме- шательство. Здесь не помешало бы соорудить какую-нибудь инфографику в виде блок-схемы.\n",
    "Но я этого не сделаю. Вместо этого я попытаюсь все свести к простому эмпирическому правилу, которое я применяю, когда пишу на Python.\n",
    "Поехали! Вы можете применять это эмпирическое правило в любой ситу- ации, когда вы испытываете затруднения при принятии решения, какой метод форматирования использовать; все зависит от обстоятельств."
   ]
  },
  {
   "cell_type": "markdown",
   "id": "f0bff3a3-9508-4e1d-a21c-9d2f2bf07cad",
   "metadata": {},
   "source": [
    "### ЭМПИРИЧЕСКОЕ ПРАВИЛО ДЭНА, КАСАЮЩЕЕСЯ ФОРМАТИРОВАНИЯ СТРОК PYTHON:\n",
    "Если форматирующие строки поступают от пользователей, то исполь- зуйте шаблонные строки, чтобы избежать проблем с безопасностью . В противном случае используйте интерполяцию литеральных строк при условии, что вы работаете с Python 3 .6+, и «современное» форматиро- вание строк — если нет ."
   ]
  },
  {
   "cell_type": "markdown",
   "id": "2ea84a93-1fe5-4dc7-a80f-6421ff1f1887",
   "metadata": {},
   "source": [
    "Ключевые выводы\n",
    "* Пожалуй, это удивляет, но в Python существует более одного способа форматирования строк.\n",
    "* У каждого метода есть свои индивидуальные за и против. Ваш вари- ант применения будет влиять на то, какой метод вам следует исполь- зовать.\n",
    "* Если вы затрудняетесь в выборе метода форматирования строк, то попробуйте применить мое эмпирическое правило форматирования строк."
   ]
  },
  {
   "cell_type": "markdown",
   "id": "7c377736-b493-4315-9ce3-0cb9f5f7bd5b",
   "metadata": {},
   "source": [
    "### 2.6. Пасхалка «Дзен Python»"
   ]
  },
  {
   "cell_type": "markdown",
   "id": "b9ee117e-6fe9-4523-9110-91c2f4ed962e",
   "metadata": {},
   "source": [
    "Я знаю, что далее приводится привычная картина, если говорить о кни- гах по Python. И впрямь, нет никаких шансов пройти мимо свода правил «Дзен Python» Тима Питерса. За прошедшие годы я не раз извлекал пользу из перечитывания этих правил, и думаю, что слова Тима сделали из меня более совершенного кодера. Будем надеяться, что они смогут сделать то же самое и для вас.\n",
    "Кроме того, можно сказать, что Дзен Python является «большой шишкой», потому что этот свод правил включен в качестве пасхалки в сам язык. Просто запустите сеанс интерпретатора Python и выполните следующую команду:"
   ]
  },
  {
   "cell_type": "code",
   "execution_count": 52,
   "id": "9f5dc1a8-fbfe-4e13-ad4b-81dba2cfe277",
   "metadata": {},
   "outputs": [
    {
     "name": "stdout",
     "output_type": "stream",
     "text": [
      "The Zen of Python, by Tim Peters\n",
      "\n",
      "Beautiful is better than ugly.\n",
      "Explicit is better than implicit.\n",
      "Simple is better than complex.\n",
      "Complex is better than complicated.\n",
      "Flat is better than nested.\n",
      "Sparse is better than dense.\n",
      "Readability counts.\n",
      "Special cases aren't special enough to break the rules.\n",
      "Although practicality beats purity.\n",
      "Errors should never pass silently.\n",
      "Unless explicitly silenced.\n",
      "In the face of ambiguity, refuse the temptation to guess.\n",
      "There should be one-- and preferably only one --obvious way to do it.\n",
      "Although that way may not be obvious at first unless you're Dutch.\n",
      "Now is better than never.\n",
      "Although never is often better than *right* now.\n",
      "If the implementation is hard to explain, it's a bad idea.\n",
      "If the implementation is easy to explain, it may be a good idea.\n",
      "Namespaces are one honking great idea -- let's do more of those!\n"
     ]
    }
   ],
   "source": [
    "import this"
   ]
  },
  {
   "cell_type": "code",
   "execution_count": null,
   "id": "e1c040b1-ca4b-4dfa-b427-421d70a865f6",
   "metadata": {},
   "outputs": [],
   "source": []
  }
 ],
 "metadata": {
  "kernelspec": {
   "display_name": "Python 3 (ipykernel)",
   "language": "python",
   "name": "python3"
  },
  "language_info": {
   "codemirror_mode": {
    "name": "ipython",
    "version": 3
   },
   "file_extension": ".py",
   "mimetype": "text/x-python",
   "name": "python",
   "nbconvert_exporter": "python",
   "pygments_lexer": "ipython3",
   "version": "3.9.13"
  }
 },
 "nbformat": 4,
 "nbformat_minor": 5
}
